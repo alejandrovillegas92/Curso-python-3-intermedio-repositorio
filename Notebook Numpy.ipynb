{
 "cells": [
  {
   "cell_type": "markdown",
   "metadata": {},
   "source": [
    "# Notebook Python"
   ]
  },
  {
   "cell_type": "markdown",
   "metadata": {},
   "source": [
    "Instalacion de pandas"
   ]
  },
  {
   "cell_type": "code",
   "execution_count": 5,
   "metadata": {},
   "outputs": [
    {
     "name": "stdout",
     "output_type": "stream",
     "text": [
      "Note: you may need to restart the kernel to use updated packages.Collecting pandas\n",
      "  Downloading pandas-2.0.3-cp39-cp39-win_amd64.whl (10.8 MB)\n",
      "Collecting pytz>=2020.1\n",
      "  Downloading pytz-2023.3-py2.py3-none-any.whl (502 kB)\n",
      "Requirement already satisfied: numpy>=1.20.3 in c:\\users\\cross\\appdata\\local\\programs\\python\\python39\\lib\\site-packages (from pandas) (1.21.0)\n",
      "Collecting tzdata>=2022.1\n",
      "  Downloading tzdata-2023.3-py2.py3-none-any.whl (341 kB)\n",
      "Collecting python-dateutil>=2.8.2\n",
      "  Downloading python_dateutil-2.8.2-py2.py3-none-any.whl (247 kB)\n",
      "\n",
      "Requirement already satisfied: six>=1.5 in c:\\users\\cross\\appdata\\local\\programs\\python\\python39\\lib\\site-packages (from python-dateutil>=2.8.2->pandas) (1.15.0)\n",
      "Installing collected packages: tzdata, pytz, python-dateutil, pandas\n",
      "  Attempting uninstall: python-dateutil\n",
      "    Found existing installation: python-dateutil 2.8.1\n",
      "    Uninstalling python-dateutil-2.8.1:\n",
      "      Successfully uninstalled python-dateutil-2.8.1\n",
      "Successfully installed pandas-2.0.3 python-dateutil-2.8.2 pytz-2023.3 tzdata-2023.3\n"
     ]
    },
    {
     "name": "stderr",
     "output_type": "stream",
     "text": [
      "WARNING: Value for scheme.headers does not match. Please report this to <https://github.com/pypa/pip/issues/9617>\n",
      "distutils: c:\\Users\\cross\\AppData\\Local\\Programs\\Python\\Python39\\Include\\UNKNOWN\n",
      "sysconfig: c:\\Users\\cross\\AppData\\Local\\Programs\\Python\\Python39\\Include\n",
      "WARNING: Additional context:\n",
      "user = False\n",
      "home = None\n",
      "root = None\n",
      "prefix = None\n",
      "WARNING: Value for scheme.headers does not match. Please report this to <https://github.com/pypa/pip/issues/9617>\n",
      "distutils: c:\\Users\\cross\\AppData\\Local\\Programs\\Python\\Python39\\Include\\UNKNOWN\n",
      "sysconfig: c:\\Users\\cross\\AppData\\Local\\Programs\\Python\\Python39\\Include\n",
      "WARNING: Additional context:\n",
      "user = False\n",
      "home = None\n",
      "root = None\n",
      "prefix = None\n",
      "WARNING: You are using pip version 21.1; however, version 23.1.2 is available.\n",
      "You should consider upgrading via the 'c:\\Users\\cross\\AppData\\Local\\Programs\\Python\\Python39\\python.exe -m pip install --upgrade pip' command.\n"
     ]
    }
   ],
   "source": [
    "pip install pandas"
   ]
  },
  {
   "cell_type": "markdown",
   "metadata": {},
   "source": [
    "#Instalacion numpy"
   ]
  },
  {
   "cell_type": "code",
   "execution_count": 6,
   "metadata": {},
   "outputs": [
    {
     "name": "stdout",
     "output_type": "stream",
     "text": [
      "Requirement already satisfied: numpy in c:\\users\\cross\\appdata\\local\\programs\\python\\python39\\lib\\site-packages (1.21.0)\n",
      "Note: you may need to restart the kernel to use updated packages.\n"
     ]
    },
    {
     "name": "stderr",
     "output_type": "stream",
     "text": [
      "WARNING: Value for scheme.headers does not match. Please report this to <https://github.com/pypa/pip/issues/9617>\n",
      "distutils: c:\\Users\\cross\\AppData\\Local\\Programs\\Python\\Python39\\Include\\UNKNOWN\n",
      "sysconfig: c:\\Users\\cross\\AppData\\Local\\Programs\\Python\\Python39\\Include\n",
      "WARNING: Additional context:\n",
      "user = False\n",
      "home = None\n",
      "root = None\n",
      "prefix = None\n",
      "WARNING: Value for scheme.headers does not match. Please report this to <https://github.com/pypa/pip/issues/9617>\n",
      "distutils: c:\\Users\\cross\\AppData\\Local\\Programs\\Python\\Python39\\Include\\UNKNOWN\n",
      "sysconfig: c:\\Users\\cross\\AppData\\Local\\Programs\\Python\\Python39\\Include\n",
      "WARNING: Additional context:\n",
      "user = False\n",
      "home = None\n",
      "root = None\n",
      "prefix = None\n",
      "WARNING: You are using pip version 21.1; however, version 23.1.2 is available.\n",
      "You should consider upgrading via the 'c:\\Users\\cross\\AppData\\Local\\Programs\\Python\\Python39\\python.exe -m pip install --upgrade pip' command.\n"
     ]
    }
   ],
   "source": [
    "pip install numpy\n"
   ]
  },
  {
   "cell_type": "markdown",
   "metadata": {},
   "source": [
    "#arreglos"
   ]
  },
  {
   "cell_type": "code",
   "execution_count": 8,
   "metadata": {},
   "outputs": [
    {
     "name": "stdout",
     "output_type": "stream",
     "text": [
      "[1 2 3]\n",
      "[4 5 6]\n"
     ]
    }
   ],
   "source": [
    "import numpy as np\n",
    "\n",
    "arreglo1= np.array([1,2,3]) #Son arreglos unidimensionales de 3 numeros o 3 caracteres\n",
    "\n",
    "print(arreglo1)\n",
    "\n",
    "arreglo2=np.array([4,5,6])\n",
    "\n",
    "print(arreglo2)\n",
    "\n"
   ]
  },
  {
   "cell_type": "code",
   "execution_count": 12,
   "metadata": {},
   "outputs": [
    {
     "name": "stdout",
     "output_type": "stream",
     "text": [
      "[[1 2 3]\n",
      " [4 5 6]]\n",
      "[[1 2 3]\n",
      " [4 5 6]\n",
      " [7 8 9]]\n"
     ]
    }
   ],
   "source": [
    "arreglo1= np.array(([1,2,3], [4,5,6])) #Se deben poner parentesis dobles cuando son 2 listas para arreglos\n",
    "\n",
    "print(arreglo1)\n",
    "\n",
    "arreglo2= np.array((([1,2,3], [4,5,6], [7,8,9])))\n",
    "\n",
    "print(arreglo2)"
   ]
  },
  {
   "cell_type": "code",
   "execution_count": 16,
   "metadata": {},
   "outputs": [
    {
     "name": "stdout",
     "output_type": "stream",
     "text": [
      "3\n",
      "[[[1 2 3 4 5 6]]]\n",
      "[[1 2 3 4 5 6]]\n",
      "[1 2 3 4 5 6]\n",
      "1\n"
     ]
    }
   ],
   "source": [
    "arr= np.array([1,2,3,4,5,6], ndmin= 3)#ndim es el numero de dimensiones\n",
    "\n",
    "print(arr.ndim)\n",
    "\n",
    "print(arr)\n",
    "print(arr[0])\n",
    "print(arr[0][0])\n",
    "print(arr[0][0][0])"
   ]
  },
  {
   "cell_type": "code",
   "execution_count": 18,
   "metadata": {},
   "outputs": [
    {
     "name": "stdout",
     "output_type": "stream",
     "text": [
      "[[0. 0.]\n",
      " [0. 0.]]\n"
     ]
    }
   ],
   "source": [
    "arr2= np.zeros((2,2)) #arreglo de ceros\n",
    "\n",
    "print(arr2)"
   ]
  },
  {
   "cell_type": "code",
   "execution_count": 19,
   "metadata": {},
   "outputs": [
    {
     "name": "stdout",
     "output_type": "stream",
     "text": [
      "[[1. 1. 1.]\n",
      " [1. 1. 1.]\n",
      " [1. 1. 1.]]\n"
     ]
    }
   ],
   "source": [
    "arr3=np.ones((3,3))\n",
    "\n",
    "print(arr3)"
   ]
  },
  {
   "cell_type": "code",
   "execution_count": 21,
   "metadata": {},
   "outputs": [
    {
     "name": "stdout",
     "output_type": "stream",
     "text": [
      "[[0.85337752 0.53409287 0.86391061]\n",
      " [0.13718428 0.79849633 0.53422294]\n",
      " [0.96028207 0.72471374 0.27009394]]\n"
     ]
    }
   ],
   "source": [
    "arr4=np.random.rand(3,3) #un arreglo entre valores numericos entre 0 y el 1\n",
    "\n",
    "print(arr4)"
   ]
  },
  {
   "cell_type": "markdown",
   "metadata": {},
   "source": [
    "#Operaciones"
   ]
  },
  {
   "cell_type": "code",
   "execution_count": 22,
   "metadata": {},
   "outputs": [
    {
     "name": "stdout",
     "output_type": "stream",
     "text": [
      "[5 7 9]\n"
     ]
    }
   ],
   "source": [
    "arr1= [1,2,3]\n",
    "\n",
    "arr2 = [4,5,6]\n",
    "\n",
    "arr3= np.add(arr1, arr2) #con la funcion \"add\" podemos sumar arreglos esta es la suma de los numeros de los dos arreglos\n",
    "\n",
    "print(arr3)"
   ]
  },
  {
   "cell_type": "code",
   "execution_count": 24,
   "metadata": {},
   "outputs": [
    {
     "name": "stdout",
     "output_type": "stream",
     "text": [
      "[3 3 3]\n"
     ]
    }
   ],
   "source": [
    "arr1= [1,2,3]\n",
    "\n",
    "arr2 = [4,5,6]\n",
    "\n",
    "arr3= np.subtract(arr2, arr1) #con la funcion \"subtract\" podemos restar arreglos esta es la suma de los numeros de los dos arreglos\n",
    "\n",
    "print(arr3)"
   ]
  },
  {
   "cell_type": "code",
   "execution_count": 25,
   "metadata": {},
   "outputs": [
    {
     "name": "stdout",
     "output_type": "stream",
     "text": [
      "[ 4 10 18]\n"
     ]
    }
   ],
   "source": [
    "arr1= [1,2,3]\n",
    "\n",
    "arr2 = [4,5,6]\n",
    "\n",
    "arr3= np.multiply(arr1, arr2) #con la funcion \"multiply\" podemos multiplicar arreglos esta es la suma de los numeros de los dos arreglos\n",
    "\n",
    "print(arr3)"
   ]
  },
  {
   "cell_type": "code",
   "execution_count": 26,
   "metadata": {},
   "outputs": [
    {
     "name": "stdout",
     "output_type": "stream",
     "text": [
      "[0.25 0.4  0.5 ]\n"
     ]
    }
   ],
   "source": [
    "arr1= [1,2,3]\n",
    "\n",
    "arr2 = [4,5,6]\n",
    "\n",
    "arr3= np.divide(arr1, arr2) #con la funcion \"divide\" podemos dividir arreglos esta es la suma de los numeros de los dos arreglos\n",
    "\n",
    "print(arr3)"
   ]
  },
  {
   "cell_type": "markdown",
   "metadata": {},
   "source": [
    "#Agregacion"
   ]
  },
  {
   "cell_type": "code",
   "execution_count": 28,
   "metadata": {},
   "outputs": [
    {
     "name": "stdout",
     "output_type": "stream",
     "text": [
      "5.333333333333333\n"
     ]
    }
   ],
   "source": [
    "arr= [1,6,9]\n",
    "\n",
    "media =  np.mean(arr)\n",
    "\n",
    "print(media)"
   ]
  },
  {
   "cell_type": "code",
   "execution_count": 29,
   "metadata": {},
   "outputs": [
    {
     "name": "stdout",
     "output_type": "stream",
     "text": [
      "6.0\n"
     ]
    }
   ],
   "source": [
    "arr= [1,6,9]\n",
    "\n",
    "mediana =  np.median(arr)\n",
    "\n",
    "print(mediana)"
   ]
  },
  {
   "cell_type": "code",
   "execution_count": 30,
   "metadata": {},
   "outputs": [
    {
     "name": "stdout",
     "output_type": "stream",
     "text": [
      "9\n"
     ]
    }
   ],
   "source": [
    "arr= [1,6,9]\n",
    "\n",
    "maximo =  np.max(arr)\n",
    "\n",
    "print(maximo)"
   ]
  },
  {
   "cell_type": "code",
   "execution_count": 31,
   "metadata": {},
   "outputs": [
    {
     "name": "stdout",
     "output_type": "stream",
     "text": [
      "1\n"
     ]
    }
   ],
   "source": [
    "arr= [1,6,9]\n",
    "\n",
    "minimo =  np.min(arr)\n",
    "\n",
    "print(minimo)"
   ]
  },
  {
   "cell_type": "markdown",
   "metadata": {},
   "source": [
    "#Indexacion"
   ]
  },
  {
   "cell_type": "code",
   "execution_count": 32,
   "metadata": {},
   "outputs": [
    {
     "name": "stdout",
     "output_type": "stream",
     "text": [
      "1\n"
     ]
    }
   ],
   "source": [
    "arr =np.array([1,2,3,4,5,6])\n",
    "\n",
    "print(arr[0])"
   ]
  },
  {
   "cell_type": "code",
   "execution_count": 33,
   "metadata": {},
   "outputs": [
    {
     "name": "stdout",
     "output_type": "stream",
     "text": [
      "6\n"
     ]
    }
   ],
   "source": [
    "arr =np.array([1,2,3,4,5,6])\n",
    "\n",
    "print(arr[-1])"
   ]
  },
  {
   "cell_type": "code",
   "execution_count": 34,
   "metadata": {},
   "outputs": [
    {
     "name": "stdout",
     "output_type": "stream",
     "text": [
      "6\n"
     ]
    }
   ],
   "source": [
    "arr =np.array(([1,2,3], [4,5,6]))\n",
    "\n",
    "print(arr[1, 2]) #Son coordenadas, es decir, del elemento 1 o sea el [4,5,6], el elemento 2 o sea el 6"
   ]
  },
  {
   "cell_type": "markdown",
   "metadata": {},
   "source": [
    "#Slicing o rangos"
   ]
  },
  {
   "cell_type": "code",
   "execution_count": 35,
   "metadata": {},
   "outputs": [
    {
     "name": "stdout",
     "output_type": "stream",
     "text": [
      "[2 3 4]\n"
     ]
    }
   ],
   "source": [
    "arr =np.array([1,2,3,4,5,6])\n",
    "\n",
    "print(arr[1:4]) #Recorre la lista, pero al llegar al 4 es no inclusivo es decir no imprime el 5"
   ]
  },
  {
   "cell_type": "code",
   "execution_count": 36,
   "metadata": {},
   "outputs": [
    {
     "name": "stdout",
     "output_type": "stream",
     "text": [
      "[2 4]\n"
     ]
    }
   ],
   "source": [
    "arr =np.array([1,2,3,4,5,6])\n",
    "\n",
    "print(arr[1:4:2]) #recorre la lista al elemento 4 pero de dos en dos"
   ]
  },
  {
   "cell_type": "code",
   "execution_count": 37,
   "metadata": {},
   "outputs": [
    {
     "name": "stdout",
     "output_type": "stream",
     "text": [
      "[1 3 5]\n"
     ]
    }
   ],
   "source": [
    "arr =np.array([1,2,3,4,5,6])\n",
    "\n",
    "print(arr[::2]) #recorre la lista pero en secuencia de numeros impares, que son de vacio a vacio."
   ]
  },
  {
   "cell_type": "markdown",
   "metadata": {},
   "source": [
    "Tipos de datos"
   ]
  },
  {
   "cell_type": "code",
   "execution_count": 42,
   "metadata": {},
   "outputs": [
    {
     "name": "stdout",
     "output_type": "stream",
     "text": [
      "<U1\n",
      "['b' 'a']\n",
      "int32\n",
      "[1 2 3 4]\n",
      "float64\n",
      "[5.4 3.1 2.  9.  9.9]\n"
     ]
    }
   ],
   "source": [
    "import numpy as np\n",
    "\n",
    "arr = np.array([\"b\", \"a\"]) #Este tipo es para ver el tipo de datos\n",
    "\n",
    "print(arr.dtype) #El dato es no numerico es string\n",
    "\n",
    "print(arr)\n",
    "\n",
    "arr2 = np.array([1,2,3,4])\n",
    "\n",
    "print(arr2.dtype) #Viene el dato tipo numero int32\n",
    "\n",
    "print(arr2)\n",
    "\n",
    "arr3 = np.array([5.4, 3.1, 2,9, 9.9])\n",
    "\n",
    "print(arr3.dtype) #Este tipo de dato es float64\n",
    "\n",
    "print(arr3)"
   ]
  },
  {
   "cell_type": "code",
   "execution_count": 43,
   "metadata": {},
   "outputs": [
    {
     "name": "stdout",
     "output_type": "stream",
     "text": [
      "[b'1' b'2' b'3']\n"
     ]
    }
   ],
   "source": [
    "arr =  np.array([1,2,3], dtype= \"S\")\n",
    "\n",
    "#'i' = integer(entero)\n",
    "#'b' = booleano\n",
    "#'f' = flotante\n",
    "#'M' = datetime\n",
    "#'O' = objeto\n",
    "#'S' = string (cadena)\n",
    "\n",
    "print(arr)"
   ]
  },
  {
   "cell_type": "code",
   "execution_count": 44,
   "metadata": {},
   "outputs": [
    {
     "name": "stdout",
     "output_type": "stream",
     "text": [
      "pre [1.1 2.1 3.1]\n",
      "post [1 2 3]\n"
     ]
    }
   ],
   "source": [
    "arr = np.array([1.1, 2.1, 3.1])\n",
    "\n",
    "print(\"pre\", arr)\n",
    "\n",
    "nuevo_arr =  arr.astype('i') #astype a traves de las claves del codigo de arriba nos tranforma los datos a otro tipo de dato en este caso \n",
    "                             # la letra \"i\" corresponde a entero, y los pasa de flotante a entero\n",
    "\n",
    "print(\"post\", nuevo_arr)"
   ]
  },
  {
   "cell_type": "markdown",
   "metadata": {},
   "source": [
    "Copy vs View"
   ]
  },
  {
   "cell_type": "code",
   "execution_count": 45,
   "metadata": {},
   "outputs": [
    {
     "name": "stdout",
     "output_type": "stream",
     "text": [
      "arr [1 2 3]\n",
      "x [1 2 3]\n",
      "y [1 2 3]\n",
      "arr [0 2 3]\n",
      "x [1 2 3]\n",
      "y [0 2 3]\n"
     ]
    }
   ],
   "source": [
    "arr = np.array([1,2,3])\n",
    "\n",
    "x= arr.copy() #Hace copia del arreglo\n",
    "\n",
    "y= arr.view() #Hace vista o visualizacion del arreglo\n",
    "\n",
    "\n",
    "print(\"arr\", arr)\n",
    "print(\"x\", x)\n",
    "print(\"y\", y)\n",
    "\n",
    "arr[0] = 0\n",
    "\n",
    "print(\"arr\", arr)\n",
    "print(\"x\", x)\n",
    "print(\"y\", y)\n",
    "#Por esta razon el arreglo \"y\" en la segunda parte es 0,2,3 porque se modifico el arreglo original y el arreglo x se mantiene porque es una copia\n",
    "#del primero.\n",
    "\n"
   ]
  },
  {
   "cell_type": "markdown",
   "metadata": {},
   "source": [
    "#Concatenar"
   ]
  },
  {
   "cell_type": "code",
   "execution_count": 47,
   "metadata": {},
   "outputs": [
    {
     "name": "stdout",
     "output_type": "stream",
     "text": [
      "arr1 [1 2 3]\n",
      "arr2 [4 5 6]\n",
      "arr3 [1 2 3 4 5 6]\n"
     ]
    }
   ],
   "source": [
    "arr1 = np.array([1,2,3])\n",
    "\n",
    "print(\"arr1\", arr1)\n",
    "\n",
    "arr2 = np.array([4,5,6])\n",
    "\n",
    "print(\"arr2\", arr2)\n",
    "\n",
    "arr3 = np.concatenate((arr1, arr2)) #Concatena los arreglos, es decir los une\n",
    "\n",
    "print(\"arr3\", arr3)"
   ]
  },
  {
   "cell_type": "markdown",
   "metadata": {},
   "source": [
    "busqueda"
   ]
  },
  {
   "cell_type": "code",
   "execution_count": 48,
   "metadata": {},
   "outputs": [
    {
     "name": "stdout",
     "output_type": "stream",
     "text": [
      "(array([4, 5], dtype=int64),)\n"
     ]
    }
   ],
   "source": [
    "arr = np.array([1,2,2,4,5,5,4])\n",
    "\n",
    "x =  np.where(arr==5) #busca el numero que estemos buscando o el indice que busquemos\n",
    "                      #nos devuelve el indice del numero, en este caso hay dos 5 entonces nos devuelve 4,5 que es donde se posiciona el numero 5\n",
    "\n",
    "print(x)"
   ]
  },
  {
   "cell_type": "markdown",
   "metadata": {},
   "source": [
    "ordenar"
   ]
  },
  {
   "cell_type": "code",
   "execution_count": 49,
   "metadata": {},
   "outputs": [
    {
     "name": "stdout",
     "output_type": "stream",
     "text": [
      "[1 2 3 4 5 6]\n"
     ]
    }
   ],
   "source": [
    "arr =  np.array([2,5,6,4,1,3])\n",
    "\n",
    "x = np.sort(arr) #Esta funcion se parece a la funcion de python que es ordenar de menor a mayor\n",
    "\n",
    "print(x)"
   ]
  },
  {
   "cell_type": "markdown",
   "metadata": {},
   "source": [
    "Pandas"
   ]
  },
  {
   "cell_type": "code",
   "execution_count": 3,
   "metadata": {},
   "outputs": [],
   "source": [
    "import pandas as pd"
   ]
  },
  {
   "cell_type": "code",
   "execution_count": 4,
   "metadata": {},
   "outputs": [
    {
     "name": "stdout",
     "output_type": "stream",
     "text": [
      "0    1\n",
      "1    2\n",
      "2    3\n",
      "dtype: int32\n",
      "1\n"
     ]
    }
   ],
   "source": [
    "import numpy as np\n",
    "\n",
    "a = np.array([1,2,3])\n",
    "\n",
    "srs = pd.Series(a) #Caracteristica principal de pandas son las series\n",
    "                   #Automaticamente la funcion series de pandas asigna un indice a los datos y los pone en formato de tabla\n",
    "\n",
    "print(srs)\n",
    "print(srs[0]) #al imprimir el elemento cero, devolvera el tipo de dato y el dato que es el 1"
   ]
  },
  {
   "cell_type": "code",
   "execution_count": 5,
   "metadata": {},
   "outputs": [
    {
     "name": "stdout",
     "output_type": "stream",
     "text": [
      "x    1\n",
      "y    2\n",
      "z    3\n",
      "dtype: int32\n",
      "1\n"
     ]
    }
   ],
   "source": [
    "srs = pd.Series(a, index = [\"x\", \"y\", \"z\"])\n",
    "\n",
    "\n",
    "print(srs)\n",
    "print(srs[\"x\"])"
   ]
  },
  {
   "cell_type": "code",
   "execution_count": 6,
   "metadata": {},
   "outputs": [
    {
     "name": "stdout",
     "output_type": "stream",
     "text": [
      "lunes        10000\n",
      "martes       23000\n",
      "miercoles     9800\n",
      "jueves        3500\n",
      "viernes       5600\n",
      "sabado       10000\n",
      "domingo       3000\n",
      "dtype: int64\n"
     ]
    }
   ],
   "source": [
    "pasos ={\n",
    "        \"lunes\": 10000,\n",
    "        \"martes\":23000,\n",
    "        \"miercoles\":9800,\n",
    "        \"jueves\": 3500,\n",
    "        \"viernes\": 5600,\n",
    "        \"sabado\": 10000,\n",
    "        \"domingo\": 3000\n",
    "    }\n",
    "\n",
    "srs = pd.Series(pasos) #De esta manera un diccionario se transforma en una tabla y se le quitan las llaves\n",
    "print(srs)"
   ]
  },
  {
   "cell_type": "code",
   "execution_count": 7,
   "metadata": {},
   "outputs": [
    {
     "name": "stdout",
     "output_type": "stream",
     "text": [
      "lunes        10000\n",
      "martes       23000\n",
      "miercoles     9800\n",
      "dtype: int64\n"
     ]
    }
   ],
   "source": [
    "srs = pd.Series(pasos, index =['lunes', 'martes', 'miercoles'])\n",
    "\n",
    "print(srs) #Se puede de esta manera filtrar datos solo buscar los que nos interesan"
   ]
  },
  {
   "cell_type": "markdown",
   "metadata": {},
   "source": [
    "DataFrame"
   ]
  },
  {
   "cell_type": "code",
   "execution_count": 8,
   "metadata": {},
   "outputs": [
    {
     "name": "stdout",
     "output_type": "stream",
     "text": [
      "      Operador  No. reloj\n",
      "0      Joe Doe        101\n",
      "1        Sr. X        202\n",
      "2  Lorem Ipsum        303\n"
     ]
    }
   ],
   "source": [
    "mydataset ={\n",
    "    \"Operador\": [\"Joe Doe\", \"Sr. X\", \"Lorem Ipsum\"],\n",
    "    \"No. reloj\": [101, 202, 303]\n",
    "\n",
    "}\n",
    "\n",
    "df =pd.DataFrame(mydataset) #se imprime un data frame ya estructurado\n",
    "\n",
    "print(df)"
   ]
  },
  {
   "cell_type": "code",
   "execution_count": 9,
   "metadata": {},
   "outputs": [
    {
     "name": "stdout",
     "output_type": "stream",
     "text": [
      "0    101\n",
      "1    202\n",
      "2    303\n",
      "Name: No. reloj, dtype: int64\n"
     ]
    }
   ],
   "source": [
    "print(df[\"No. reloj\"])\n",
    "\n"
   ]
  },
  {
   "cell_type": "code",
   "execution_count": 10,
   "metadata": {},
   "outputs": [
    {
     "data": {
      "text/html": [
       "<div>\n",
       "<style scoped>\n",
       "    .dataframe tbody tr th:only-of-type {\n",
       "        vertical-align: middle;\n",
       "    }\n",
       "\n",
       "    .dataframe tbody tr th {\n",
       "        vertical-align: top;\n",
       "    }\n",
       "\n",
       "    .dataframe thead th {\n",
       "        text-align: right;\n",
       "    }\n",
       "</style>\n",
       "<table border=\"1\" class=\"dataframe\">\n",
       "  <thead>\n",
       "    <tr style=\"text-align: right;\">\n",
       "      <th></th>\n",
       "      <th>Operador</th>\n",
       "      <th>No. reloj</th>\n",
       "    </tr>\n",
       "  </thead>\n",
       "  <tbody>\n",
       "    <tr>\n",
       "      <th>1</th>\n",
       "      <td>Sr. X</td>\n",
       "      <td>202</td>\n",
       "    </tr>\n",
       "    <tr>\n",
       "      <th>2</th>\n",
       "      <td>Lorem Ipsum</td>\n",
       "      <td>303</td>\n",
       "    </tr>\n",
       "  </tbody>\n",
       "</table>\n",
       "</div>"
      ],
      "text/plain": [
       "      Operador  No. reloj\n",
       "1        Sr. X        202\n",
       "2  Lorem Ipsum        303"
      ]
     },
     "execution_count": 10,
     "metadata": {},
     "output_type": "execute_result"
    }
   ],
   "source": [
    "df[df['No. reloj']>101]\n",
    "\n"
   ]
  },
  {
   "cell_type": "code",
   "execution_count": 11,
   "metadata": {},
   "outputs": [],
   "source": [
    "df[\"asistencia\"] =[True, False, True] #Esto es para agregar columnas con sus respectivos valores\n",
    "\n"
   ]
  },
  {
   "cell_type": "code",
   "execution_count": 12,
   "metadata": {},
   "outputs": [
    {
     "name": "stdout",
     "output_type": "stream",
     "text": [
      "      Operador  No. reloj  asistencia\n",
      "0      Joe Doe        101        True\n",
      "1        Sr. X        202       False\n",
      "2  Lorem Ipsum        303        True\n"
     ]
    }
   ],
   "source": [
    "print(df)"
   ]
  },
  {
   "cell_type": "code",
   "execution_count": 24,
   "metadata": {},
   "outputs": [
    {
     "name": "stdout",
     "output_type": "stream",
     "text": [
      "Operador      Joe Doe\n",
      "No. reloj         101\n",
      "asistencia       True\n",
      "Name: 0, dtype: object\n"
     ]
    }
   ],
   "source": [
    "print(df.loc[0]) #La funcion devuelve todo el registro"
   ]
  },
  {
   "cell_type": "code",
   "execution_count": 13,
   "metadata": {},
   "outputs": [
    {
     "name": "stdout",
     "output_type": "stream",
     "text": [
      "  Operador  No. reloj  asistencia\n",
      "0  Joe Doe        101        True\n",
      "1    Sr. X        202       False\n"
     ]
    }
   ],
   "source": [
    "print(df.loc[[0,1]])"
   ]
  },
  {
   "cell_type": "code",
   "execution_count": 14,
   "metadata": {},
   "outputs": [
    {
     "name": "stdout",
     "output_type": "stream",
     "text": [
      "        Operador  No. reloj\n",
      "CEO      Joe Doe        101\n",
      "COO        Sr. X        202\n",
      "CFO  Lorem Ipsum        303\n"
     ]
    }
   ],
   "source": [
    "df = pd.DataFrame(mydataset, index = ['CEO', \"COO\", \"CFO\"])#Asi se ponen los indices o encabezados de la tabla\n",
    "\n",
    "print(df)"
   ]
  },
  {
   "cell_type": "code",
   "execution_count": 15,
   "metadata": {},
   "outputs": [
    {
     "data": {
      "text/html": [
       "<div>\n",
       "<style scoped>\n",
       "    .dataframe tbody tr th:only-of-type {\n",
       "        vertical-align: middle;\n",
       "    }\n",
       "\n",
       "    .dataframe tbody tr th {\n",
       "        vertical-align: top;\n",
       "    }\n",
       "\n",
       "    .dataframe thead th {\n",
       "        text-align: right;\n",
       "    }\n",
       "</style>\n",
       "<table border=\"1\" class=\"dataframe\">\n",
       "  <thead>\n",
       "    <tr style=\"text-align: right;\">\n",
       "      <th></th>\n",
       "      <th>Marca temporal</th>\n",
       "      <th>1.- ¿De dónde eres?</th>\n",
       "      <th>2.- ¿Cuántos años tienes?</th>\n",
       "      <th>3.- ¿Estudias?</th>\n",
       "      <th>4.- ¿Trabajas?</th>\n",
       "      <th>5.- ¿Cuál es tu nivel de conocimiento en Python?</th>\n",
       "      <th>6.- ¿Qué tema relacionado con Python te gustaría aprender?</th>\n",
       "      <th>7.- ¿Has participado en algún curso anteriormente en el IA Center?</th>\n",
       "      <th>8.- ¿Cuál es tu canción favorita?</th>\n",
       "    </tr>\n",
       "  </thead>\n",
       "  <tbody>\n",
       "    <tr>\n",
       "      <th>0</th>\n",
       "      <td>2023/06/27 7:42:12 p. m. GMT-6</td>\n",
       "      <td>Cd. Juárez</td>\n",
       "      <td>Entre 21 y 24</td>\n",
       "      <td>Sí</td>\n",
       "      <td>No</td>\n",
       "      <td>Básico</td>\n",
       "      <td>Manejar bases de datos</td>\n",
       "      <td>No</td>\n",
       "      <td>The Wolf</td>\n",
       "    </tr>\n",
       "    <tr>\n",
       "      <th>1</th>\n",
       "      <td>2023/06/27 7:42:28 p. m. GMT-6</td>\n",
       "      <td>chihuahua, chihuahua</td>\n",
       "      <td>Entre 21 y 24</td>\n",
       "      <td>Sí</td>\n",
       "      <td>Sí</td>\n",
       "      <td>Básico</td>\n",
       "      <td>machine lerning</td>\n",
       "      <td>Sí</td>\n",
       "      <td>eternity, anyma</td>\n",
       "    </tr>\n",
       "    <tr>\n",
       "      <th>2</th>\n",
       "      <td>2023/06/27 7:42:44 p. m. GMT-6</td>\n",
       "      <td>Chihuahua Chihuahua</td>\n",
       "      <td>Entre 18 y 20</td>\n",
       "      <td>Sí</td>\n",
       "      <td>Sí</td>\n",
       "      <td>Básico</td>\n",
       "      <td>Automatización y creación de apps/páginas web</td>\n",
       "      <td>No</td>\n",
       "      <td>Cornerstone- Arctic Monkeys :)</td>\n",
       "    </tr>\n",
       "    <tr>\n",
       "      <th>3</th>\n",
       "      <td>2023/06/27 7:42:52 p. m. GMT-6</td>\n",
       "      <td>Chihuahua Chihuahua</td>\n",
       "      <td>Entre 21 y 24</td>\n",
       "      <td>Sí</td>\n",
       "      <td>Sí</td>\n",
       "      <td>Básico</td>\n",
       "      <td>Análisis de datos</td>\n",
       "      <td>Sí</td>\n",
       "      <td>Sea Gets Hotter</td>\n",
       "    </tr>\n",
       "    <tr>\n",
       "      <th>4</th>\n",
       "      <td>2023/06/27 7:42:56 p. m. GMT-6</td>\n",
       "      <td>Chihuahua, Chih.</td>\n",
       "      <td>Más de 30</td>\n",
       "      <td>No</td>\n",
       "      <td>Sí</td>\n",
       "      <td>Básico</td>\n",
       "      <td>Conocer más librerias</td>\n",
       "      <td>Sí</td>\n",
       "      <td>Love Me More, de Sam Smith</td>\n",
       "    </tr>\n",
       "    <tr>\n",
       "      <th>5</th>\n",
       "      <td>2023/06/27 7:42:57 p. m. GMT-6</td>\n",
       "      <td>Puebla</td>\n",
       "      <td>Entre 21 y 24</td>\n",
       "      <td>Sí</td>\n",
       "      <td>Sí</td>\n",
       "      <td>Básico</td>\n",
       "      <td>APIS y data science</td>\n",
       "      <td>No</td>\n",
       "      <td>Fireflight - Unbreakable</td>\n",
       "    </tr>\n",
       "    <tr>\n",
       "      <th>6</th>\n",
       "      <td>2023/06/27 7:42:57 p. m. GMT-6</td>\n",
       "      <td>Cd. Juarez Chih</td>\n",
       "      <td>Más de 30</td>\n",
       "      <td>No</td>\n",
       "      <td>Sí</td>\n",
       "      <td>Intermedio</td>\n",
       "      <td>Analisis de Datos</td>\n",
       "      <td>Sí</td>\n",
       "      <td>Instrumental General</td>\n",
       "    </tr>\n",
       "    <tr>\n",
       "      <th>7</th>\n",
       "      <td>2023/06/27 7:43:04 p. m. GMT-6</td>\n",
       "      <td>Ciudad Juarez</td>\n",
       "      <td>Entre 21 y 24</td>\n",
       "      <td>Sí</td>\n",
       "      <td>Sí</td>\n",
       "      <td>Básico</td>\n",
       "      <td>Ciencia de datos</td>\n",
       "      <td>Sí</td>\n",
       "      <td>La bruja de Marco Flores</td>\n",
       "    </tr>\n",
       "    <tr>\n",
       "      <th>8</th>\n",
       "      <td>2023/06/27 7:43:10 p. m. GMT-6</td>\n",
       "      <td>Aguascalientes</td>\n",
       "      <td>Entre 18 y 20</td>\n",
       "      <td>Sí</td>\n",
       "      <td>No</td>\n",
       "      <td>Básico</td>\n",
       "      <td>Me gustaria aprender un poco de todo, pero mas...</td>\n",
       "      <td>No</td>\n",
       "      <td>Canela-Nanpa Basico</td>\n",
       "    </tr>\n",
       "    <tr>\n",
       "      <th>9</th>\n",
       "      <td>2023/06/27 7:43:12 p. m. GMT-6</td>\n",
       "      <td>Cd Juarez, Chih.</td>\n",
       "      <td>Entre 21 y 24</td>\n",
       "      <td>Sí</td>\n",
       "      <td>No</td>\n",
       "      <td>Básico</td>\n",
       "      <td>No tengo un tema en especifico, solo deseo rep...</td>\n",
       "      <td>Sí</td>\n",
       "      <td>Depende del momento hy del día, ahora es Hielo...</td>\n",
       "    </tr>\n",
       "    <tr>\n",
       "      <th>10</th>\n",
       "      <td>2023/06/27 7:43:12 p. m. GMT-6</td>\n",
       "      <td>Juárez</td>\n",
       "      <td>Entre 21 y 24</td>\n",
       "      <td>Sí</td>\n",
       "      <td>Sí</td>\n",
       "      <td>Básico</td>\n",
       "      <td>Análisis de datos</td>\n",
       "      <td>No</td>\n",
       "      <td>No tengo:(</td>\n",
       "    </tr>\n",
       "    <tr>\n",
       "      <th>11</th>\n",
       "      <td>2023/06/27 7:43:16 p. m. GMT-6</td>\n",
       "      <td>El Paso TX</td>\n",
       "      <td>Entre 18 y 20</td>\n",
       "      <td>Sí</td>\n",
       "      <td>No</td>\n",
       "      <td>Básico</td>\n",
       "      <td>POO</td>\n",
       "      <td>No</td>\n",
       "      <td>The Words I Never Said / Mage</td>\n",
       "    </tr>\n",
       "    <tr>\n",
       "      <th>12</th>\n",
       "      <td>2023/06/27 7:43:16 p. m. GMT-6</td>\n",
       "      <td>Cuauhtemoc Chihuahua</td>\n",
       "      <td>Más de 30</td>\n",
       "      <td>No</td>\n",
       "      <td>Sí</td>\n",
       "      <td>Intermedio</td>\n",
       "      <td>Web y análisis de datos</td>\n",
       "      <td>No</td>\n",
       "      <td>Dust in the wind</td>\n",
       "    </tr>\n",
       "    <tr>\n",
       "      <th>13</th>\n",
       "      <td>2023/06/27 7:43:29 p. m. GMT-6</td>\n",
       "      <td>Cd. Juárez</td>\n",
       "      <td>Entre 21 y 24</td>\n",
       "      <td>Sí</td>\n",
       "      <td>Sí</td>\n",
       "      <td>Básico</td>\n",
       "      <td>Flujos de trabajo, análisis de datos, análisis...</td>\n",
       "      <td>Sí</td>\n",
       "      <td>Manto estelar - Moenia</td>\n",
       "    </tr>\n",
       "    <tr>\n",
       "      <th>14</th>\n",
       "      <td>2023/06/27 7:43:34 p. m. GMT-6</td>\n",
       "      <td>Hidalgo</td>\n",
       "      <td>Entre 25 y 29</td>\n",
       "      <td>Sí</td>\n",
       "      <td>Sí</td>\n",
       "      <td>Básico</td>\n",
       "      <td>Deep learning</td>\n",
       "      <td>No</td>\n",
       "      <td>Todas</td>\n",
       "    </tr>\n",
       "    <tr>\n",
       "      <th>15</th>\n",
       "      <td>2023/06/27 7:43:50 p. m. GMT-6</td>\n",
       "      <td>Cd. Juarez, Chih.</td>\n",
       "      <td>Entre 21 y 24</td>\n",
       "      <td>Sí</td>\n",
       "      <td>Sí</td>\n",
       "      <td>Básico</td>\n",
       "      <td>Programación orientada a objetos (POO)</td>\n",
       "      <td>Sí</td>\n",
       "      <td>Skillet-Comatose y Whisper in the Dark</td>\n",
       "    </tr>\n",
       "    <tr>\n",
       "      <th>16</th>\n",
       "      <td>2023/06/27 7:44:01 p. m. GMT-6</td>\n",
       "      <td>Cd. Juarez Chihuahua</td>\n",
       "      <td>Más de 30</td>\n",
       "      <td>No</td>\n",
       "      <td>Sí</td>\n",
       "      <td>Básico</td>\n",
       "      <td>un poco de todo para irme familiarizandome a l...</td>\n",
       "      <td>Sí</td>\n",
       "      <td>el hada y el mago de reta blancha</td>\n",
       "    </tr>\n",
       "    <tr>\n",
       "      <th>17</th>\n",
       "      <td>2023/06/27 7:44:01 p. m. GMT-6</td>\n",
       "      <td>Ciudad Juarez Chihuahua Mexico</td>\n",
       "      <td>Entre 21 y 24</td>\n",
       "      <td>No</td>\n",
       "      <td>No</td>\n",
       "      <td>Básico</td>\n",
       "      <td>API y IA</td>\n",
       "      <td>Sí</td>\n",
       "      <td>https://youtu.be/dQw4w9WgXcQ y https://youtu.b...</td>\n",
       "    </tr>\n",
       "    <tr>\n",
       "      <th>18</th>\n",
       "      <td>2023/06/27 7:44:12 p. m. GMT-6</td>\n",
       "      <td>Ciudad Juarez</td>\n",
       "      <td>Más de 30</td>\n",
       "      <td>Sí</td>\n",
       "      <td>No</td>\n",
       "      <td>Básico</td>\n",
       "      <td>Web Scrapping y limpieza de conjuntos de datos</td>\n",
       "      <td>Sí</td>\n",
       "      <td>Hotel California</td>\n",
       "    </tr>\n",
       "    <tr>\n",
       "      <th>19</th>\n",
       "      <td>2023/06/27 7:44:14 p. m. GMT-6</td>\n",
       "      <td>Chihuahua, Chih.</td>\n",
       "      <td>Más de 30</td>\n",
       "      <td>No</td>\n",
       "      <td>Sí</td>\n",
       "      <td>Básico</td>\n",
       "      <td>análisis de datos</td>\n",
       "      <td>Sí</td>\n",
       "      <td>no tengo canción favorita, prácticamente no es...</td>\n",
       "    </tr>\n",
       "    <tr>\n",
       "      <th>20</th>\n",
       "      <td>2023/06/27 7:44:17 p. m. GMT-6</td>\n",
       "      <td>Ciudad Juarez</td>\n",
       "      <td>Entre 18 y 20</td>\n",
       "      <td>Sí</td>\n",
       "      <td>No</td>\n",
       "      <td>Básico</td>\n",
       "      <td>Analisis de datos y su uso para desarrollo web</td>\n",
       "      <td>No</td>\n",
       "      <td>Burn My Dread - Persona 3</td>\n",
       "    </tr>\n",
       "    <tr>\n",
       "      <th>21</th>\n",
       "      <td>2023/06/27 7:44:20 p. m. GMT-6</td>\n",
       "      <td>Cd Juárez Chihuahua, México.</td>\n",
       "      <td>Más de 30</td>\n",
       "      <td>No</td>\n",
       "      <td>Sí</td>\n",
       "      <td>Básico</td>\n",
       "      <td>Ciencia de Datos, y API`s y Todo lo de Python</td>\n",
       "      <td>Sí</td>\n",
       "      <td>....</td>\n",
       "    </tr>\n",
       "    <tr>\n",
       "      <th>22</th>\n",
       "      <td>2023/06/27 7:44:25 p. m. GMT-6</td>\n",
       "      <td>Ciudad Juárez</td>\n",
       "      <td>Más de 30</td>\n",
       "      <td>No</td>\n",
       "      <td>Sí</td>\n",
       "      <td>Básico</td>\n",
       "      <td>recolección, limpieza y visualización de datos</td>\n",
       "      <td>Sí</td>\n",
       "      <td>Todo cuenta</td>\n",
       "    </tr>\n",
       "    <tr>\n",
       "      <th>23</th>\n",
       "      <td>2023/06/27 7:44:30 p. m. GMT-6</td>\n",
       "      <td>Cd. Juárez</td>\n",
       "      <td>Entre 25 y 29</td>\n",
       "      <td>Sí</td>\n",
       "      <td>No</td>\n",
       "      <td>Básico</td>\n",
       "      <td>Ciencia de datos</td>\n",
       "      <td>Sí</td>\n",
       "      <td>Chosen - Maneskin</td>\n",
       "    </tr>\n",
       "    <tr>\n",
       "      <th>24</th>\n",
       "      <td>2023/06/27 7:44:31 p. m. GMT-6</td>\n",
       "      <td>Juarez</td>\n",
       "      <td>Entre 25 y 29</td>\n",
       "      <td>Sí</td>\n",
       "      <td>Sí</td>\n",
       "      <td>Básico</td>\n",
       "      <td>Como hacer una interfaz para poder hacer un pr...</td>\n",
       "      <td>Sí</td>\n",
       "      <td>God's Plan- Drake</td>\n",
       "    </tr>\n",
       "    <tr>\n",
       "      <th>25</th>\n",
       "      <td>2023/06/27 7:45:04 p. m. GMT-6</td>\n",
       "      <td>Cd. Juárez, Chihuahua</td>\n",
       "      <td>Entre 18 y 20</td>\n",
       "      <td>Sí</td>\n",
       "      <td>No</td>\n",
       "      <td>Nunca he utilizado Python</td>\n",
       "      <td>Programación para uso academico</td>\n",
       "      <td>No</td>\n",
       "      <td>A man without love - Engelbert Humperdinck</td>\n",
       "    </tr>\n",
       "    <tr>\n",
       "      <th>26</th>\n",
       "      <td>2023/06/27 7:45:37 p. m. GMT-6</td>\n",
       "      <td>Aguascalientes</td>\n",
       "      <td>Entre 21 y 24</td>\n",
       "      <td>Sí</td>\n",
       "      <td>No</td>\n",
       "      <td>Intermedio</td>\n",
       "      <td>un poco de inteligencia artificial</td>\n",
       "      <td>No</td>\n",
       "      <td>Love of my life</td>\n",
       "    </tr>\n",
       "    <tr>\n",
       "      <th>27</th>\n",
       "      <td>2023/06/27 7:45:45 p. m. GMT-6</td>\n",
       "      <td>Cd. Juarez</td>\n",
       "      <td>Entre 15 y 17</td>\n",
       "      <td>Sí</td>\n",
       "      <td>No</td>\n",
       "      <td>Básico</td>\n",
       "      <td>Bucles</td>\n",
       "      <td>Sí</td>\n",
       "      <td>Jorge Drexler - El Plan Maestro</td>\n",
       "    </tr>\n",
       "    <tr>\n",
       "      <th>28</th>\n",
       "      <td>2023/06/27 7:46:10 p. m. GMT-6</td>\n",
       "      <td>San Francisco de los Romo, Aguascalientes</td>\n",
       "      <td>Entre 18 y 20</td>\n",
       "      <td>Sí</td>\n",
       "      <td>No</td>\n",
       "      <td>Básico</td>\n",
       "      <td>Librerias con aplicaciones en el mundo de las ...</td>\n",
       "      <td>No</td>\n",
       "      <td>Inolvidable - Luis Miguel</td>\n",
       "    </tr>\n",
       "    <tr>\n",
       "      <th>29</th>\n",
       "      <td>2023/06/27 7:46:14 p. m. GMT-6</td>\n",
       "      <td>Chihuahua</td>\n",
       "      <td>Entre 18 y 20</td>\n",
       "      <td>Sí</td>\n",
       "      <td>Sí</td>\n",
       "      <td>Básico</td>\n",
       "      <td>desarrollo</td>\n",
       "      <td>No</td>\n",
       "      <td>Last Call</td>\n",
       "    </tr>\n",
       "    <tr>\n",
       "      <th>30</th>\n",
       "      <td>2023/06/27 7:46:28 p. m. GMT-6</td>\n",
       "      <td>Ciudad Juárez</td>\n",
       "      <td>Entre 21 y 24</td>\n",
       "      <td>Sí</td>\n",
       "      <td>No</td>\n",
       "      <td>Básico</td>\n",
       "      <td>Procesamiento de datos</td>\n",
       "      <td>Sí</td>\n",
       "      <td>Lacrimosa- Matt Kent, Amber Dawn</td>\n",
       "    </tr>\n",
       "    <tr>\n",
       "      <th>31</th>\n",
       "      <td>2023/06/27 7:46:32 p. m. GMT-6</td>\n",
       "      <td>Zacatecas</td>\n",
       "      <td>Entre 25 y 29</td>\n",
       "      <td>Sí</td>\n",
       "      <td>Sí</td>\n",
       "      <td>Básico</td>\n",
       "      <td>Apis</td>\n",
       "      <td>Sí</td>\n",
       "      <td>All the small things</td>\n",
       "    </tr>\n",
       "    <tr>\n",
       "      <th>32</th>\n",
       "      <td>2023/06/27 7:46:37 p. m. GMT-6</td>\n",
       "      <td>Ciudad Juarez</td>\n",
       "      <td>Entre 21 y 24</td>\n",
       "      <td>Sí</td>\n",
       "      <td>Sí</td>\n",
       "      <td>Básico</td>\n",
       "      <td>MachineLearning</td>\n",
       "      <td>No</td>\n",
       "      <td>Like I Love You - Justin Timberlake</td>\n",
       "    </tr>\n",
       "    <tr>\n",
       "      <th>33</th>\n",
       "      <td>2023/06/27 7:49:23 p. m. GMT-6</td>\n",
       "      <td>Ciudad Juárez</td>\n",
       "      <td>Entre 18 y 20</td>\n",
       "      <td>Sí</td>\n",
       "      <td>No</td>\n",
       "      <td>Básico</td>\n",
       "      <td>Ciencia de Datos y automatización</td>\n",
       "      <td>Sí</td>\n",
       "      <td>Cold Heart - PNAU REMIX Elton Jhon, Dua Lipa</td>\n",
       "    </tr>\n",
       "    <tr>\n",
       "      <th>34</th>\n",
       "      <td>2023/06/27 7:51:23 p. m. GMT-6</td>\n",
       "      <td>Ciudad Juarez</td>\n",
       "      <td>Entre 25 y 29</td>\n",
       "      <td>Sí</td>\n",
       "      <td>Sí</td>\n",
       "      <td>Intermedio</td>\n",
       "      <td>ciencia de datos, webscraping</td>\n",
       "      <td>Sí</td>\n",
       "      <td>Gorillaz - On Melancholy Hill</td>\n",
       "    </tr>\n",
       "    <tr>\n",
       "      <th>35</th>\n",
       "      <td>2023/06/27 7:55:00 p. m. GMT-6</td>\n",
       "      <td>Veracruz, estudio en Puebla</td>\n",
       "      <td>Entre 25 y 29</td>\n",
       "      <td>Sí</td>\n",
       "      <td>No</td>\n",
       "      <td>Básico</td>\n",
       "      <td>Lo relacionado con análisis de datos.</td>\n",
       "      <td>Sí</td>\n",
       "      <td>En este momento Los Años Maravillosos de Littl...</td>\n",
       "    </tr>\n",
       "    <tr>\n",
       "      <th>36</th>\n",
       "      <td>2023/06/27 8:05:42 p. m. GMT-6</td>\n",
       "      <td>CDMX</td>\n",
       "      <td>Entre 25 y 29</td>\n",
       "      <td>No</td>\n",
       "      <td>Sí</td>\n",
       "      <td>Básico</td>\n",
       "      <td>web scraping</td>\n",
       "      <td>No</td>\n",
       "      <td>Young Turks</td>\n",
       "    </tr>\n",
       "    <tr>\n",
       "      <th>37</th>\n",
       "      <td>2023/06/27 8:22:29 p. m. GMT-6</td>\n",
       "      <td>Estado de Mexico</td>\n",
       "      <td>Entre 21 y 24</td>\n",
       "      <td>Sí</td>\n",
       "      <td>Sí</td>\n",
       "      <td>Básico</td>\n",
       "      <td>librerias, bloques paquetes etc....</td>\n",
       "      <td>No</td>\n",
       "      <td>the weeknd- Out of time</td>\n",
       "    </tr>\n",
       "    <tr>\n",
       "      <th>38</th>\n",
       "      <td>2023/06/27 10:02:11 p. m. GMT-6</td>\n",
       "      <td>Ciudad Juarez, Chih</td>\n",
       "      <td>Entre 21 y 24</td>\n",
       "      <td>No</td>\n",
       "      <td>Sí</td>\n",
       "      <td>Básico</td>\n",
       "      <td>Analisis de datos</td>\n",
       "      <td>Sí</td>\n",
       "      <td>https://youtu.be/BGVUiMskx_U</td>\n",
       "    </tr>\n",
       "    <tr>\n",
       "      <th>39</th>\n",
       "      <td>2023/06/27 10:31:28 p. m. GMT-6</td>\n",
       "      <td>cd juarez</td>\n",
       "      <td>Entre 21 y 24</td>\n",
       "      <td>Sí</td>\n",
       "      <td>Sí</td>\n",
       "      <td>Básico</td>\n",
       "      <td>punteros</td>\n",
       "      <td>Sí</td>\n",
       "      <td>porter guiame quetzal</td>\n",
       "    </tr>\n",
       "    <tr>\n",
       "      <th>40</th>\n",
       "      <td>2023/06/28 10:12:04 p. m. GMT-6</td>\n",
       "      <td>Chihuahua</td>\n",
       "      <td>Entre 21 y 24</td>\n",
       "      <td>No</td>\n",
       "      <td>Sí</td>\n",
       "      <td>Básico</td>\n",
       "      <td>Machine Learning y Deep Learning</td>\n",
       "      <td>Sí</td>\n",
       "      <td>Runaway</td>\n",
       "    </tr>\n",
       "    <tr>\n",
       "      <th>41</th>\n",
       "      <td>2023/06/29 2:00:51 a. m. GMT-6</td>\n",
       "      <td>Vivo en Ciudad Juárez. Soy cubana</td>\n",
       "      <td>Más de 30</td>\n",
       "      <td>Sí</td>\n",
       "      <td>No</td>\n",
       "      <td>Intermedio</td>\n",
       "      <td>Cómo escribir un código de forma profesional, ...</td>\n",
       "      <td>No</td>\n",
       "      <td>Hay varias, pero últimamente escucho mucho \"Cu...</td>\n",
       "    </tr>\n",
       "    <tr>\n",
       "      <th>42</th>\n",
       "      <td>2023/07/03 1:55:24 p. m. GMT-6</td>\n",
       "      <td>Ciudad Juarez</td>\n",
       "      <td>Más de 30</td>\n",
       "      <td>No</td>\n",
       "      <td>Sí</td>\n",
       "      <td>Intermedio</td>\n",
       "      <td>Automatizacion</td>\n",
       "      <td>No</td>\n",
       "      <td>David Bowie - Heroes</td>\n",
       "    </tr>\n",
       "  </tbody>\n",
       "</table>\n",
       "</div>"
      ],
      "text/plain": [
       "                     Marca temporal  \\\n",
       "0    2023/06/27 7:42:12 p. m. GMT-6   \n",
       "1    2023/06/27 7:42:28 p. m. GMT-6   \n",
       "2    2023/06/27 7:42:44 p. m. GMT-6   \n",
       "3    2023/06/27 7:42:52 p. m. GMT-6   \n",
       "4    2023/06/27 7:42:56 p. m. GMT-6   \n",
       "5    2023/06/27 7:42:57 p. m. GMT-6   \n",
       "6    2023/06/27 7:42:57 p. m. GMT-6   \n",
       "7    2023/06/27 7:43:04 p. m. GMT-6   \n",
       "8    2023/06/27 7:43:10 p. m. GMT-6   \n",
       "9    2023/06/27 7:43:12 p. m. GMT-6   \n",
       "10   2023/06/27 7:43:12 p. m. GMT-6   \n",
       "11   2023/06/27 7:43:16 p. m. GMT-6   \n",
       "12   2023/06/27 7:43:16 p. m. GMT-6   \n",
       "13   2023/06/27 7:43:29 p. m. GMT-6   \n",
       "14   2023/06/27 7:43:34 p. m. GMT-6   \n",
       "15   2023/06/27 7:43:50 p. m. GMT-6   \n",
       "16   2023/06/27 7:44:01 p. m. GMT-6   \n",
       "17   2023/06/27 7:44:01 p. m. GMT-6   \n",
       "18   2023/06/27 7:44:12 p. m. GMT-6   \n",
       "19   2023/06/27 7:44:14 p. m. GMT-6   \n",
       "20   2023/06/27 7:44:17 p. m. GMT-6   \n",
       "21   2023/06/27 7:44:20 p. m. GMT-6   \n",
       "22   2023/06/27 7:44:25 p. m. GMT-6   \n",
       "23   2023/06/27 7:44:30 p. m. GMT-6   \n",
       "24   2023/06/27 7:44:31 p. m. GMT-6   \n",
       "25   2023/06/27 7:45:04 p. m. GMT-6   \n",
       "26   2023/06/27 7:45:37 p. m. GMT-6   \n",
       "27   2023/06/27 7:45:45 p. m. GMT-6   \n",
       "28   2023/06/27 7:46:10 p. m. GMT-6   \n",
       "29   2023/06/27 7:46:14 p. m. GMT-6   \n",
       "30   2023/06/27 7:46:28 p. m. GMT-6   \n",
       "31   2023/06/27 7:46:32 p. m. GMT-6   \n",
       "32   2023/06/27 7:46:37 p. m. GMT-6   \n",
       "33   2023/06/27 7:49:23 p. m. GMT-6   \n",
       "34   2023/06/27 7:51:23 p. m. GMT-6   \n",
       "35   2023/06/27 7:55:00 p. m. GMT-6   \n",
       "36   2023/06/27 8:05:42 p. m. GMT-6   \n",
       "37   2023/06/27 8:22:29 p. m. GMT-6   \n",
       "38  2023/06/27 10:02:11 p. m. GMT-6   \n",
       "39  2023/06/27 10:31:28 p. m. GMT-6   \n",
       "40  2023/06/28 10:12:04 p. m. GMT-6   \n",
       "41   2023/06/29 2:00:51 a. m. GMT-6   \n",
       "42   2023/07/03 1:55:24 p. m. GMT-6   \n",
       "\n",
       "                          1.- ¿De dónde eres? 2.- ¿Cuántos años tienes?  \\\n",
       "0                                  Cd. Juárez             Entre 21 y 24   \n",
       "1                        chihuahua, chihuahua             Entre 21 y 24   \n",
       "2                         Chihuahua Chihuahua             Entre 18 y 20   \n",
       "3                         Chihuahua Chihuahua             Entre 21 y 24   \n",
       "4                            Chihuahua, Chih.                 Más de 30   \n",
       "5                                      Puebla             Entre 21 y 24   \n",
       "6                             Cd. Juarez Chih                 Más de 30   \n",
       "7                               Ciudad Juarez             Entre 21 y 24   \n",
       "8                              Aguascalientes             Entre 18 y 20   \n",
       "9                            Cd Juarez, Chih.             Entre 21 y 24   \n",
       "10                                     Juárez             Entre 21 y 24   \n",
       "11                                 El Paso TX             Entre 18 y 20   \n",
       "12                       Cuauhtemoc Chihuahua                 Más de 30   \n",
       "13                                Cd. Juárez              Entre 21 y 24   \n",
       "14                                    Hidalgo             Entre 25 y 29   \n",
       "15                          Cd. Juarez, Chih.             Entre 21 y 24   \n",
       "16                       Cd. Juarez Chihuahua                 Más de 30   \n",
       "17             Ciudad Juarez Chihuahua Mexico             Entre 21 y 24   \n",
       "18                              Ciudad Juarez                 Más de 30   \n",
       "19                           Chihuahua, Chih.                 Más de 30   \n",
       "20                              Ciudad Juarez             Entre 18 y 20   \n",
       "21               Cd Juárez Chihuahua, México.                 Más de 30   \n",
       "22                              Ciudad Juárez                 Más de 30   \n",
       "23                                 Cd. Juárez             Entre 25 y 29   \n",
       "24                                     Juarez             Entre 25 y 29   \n",
       "25                     Cd. Juárez, Chihuahua              Entre 18 y 20   \n",
       "26                            Aguascalientes              Entre 21 y 24   \n",
       "27                                 Cd. Juarez             Entre 15 y 17   \n",
       "28  San Francisco de los Romo, Aguascalientes             Entre 18 y 20   \n",
       "29                                  Chihuahua             Entre 18 y 20   \n",
       "30                              Ciudad Juárez             Entre 21 y 24   \n",
       "31                                 Zacatecas              Entre 25 y 29   \n",
       "32                              Ciudad Juarez             Entre 21 y 24   \n",
       "33                              Ciudad Juárez             Entre 18 y 20   \n",
       "34                              Ciudad Juarez             Entre 25 y 29   \n",
       "35                Veracruz, estudio en Puebla             Entre 25 y 29   \n",
       "36                                       CDMX             Entre 25 y 29   \n",
       "37                           Estado de Mexico             Entre 21 y 24   \n",
       "38                        Ciudad Juarez, Chih             Entre 21 y 24   \n",
       "39                                  cd juarez             Entre 21 y 24   \n",
       "40                                  Chihuahua             Entre 21 y 24   \n",
       "41          Vivo en Ciudad Juárez. Soy cubana                 Más de 30   \n",
       "42                              Ciudad Juarez                 Más de 30   \n",
       "\n",
       "   3.- ¿Estudias? 4.- ¿Trabajas?  \\\n",
       "0              Sí             No   \n",
       "1              Sí             Sí   \n",
       "2              Sí             Sí   \n",
       "3              Sí             Sí   \n",
       "4              No             Sí   \n",
       "5              Sí             Sí   \n",
       "6              No             Sí   \n",
       "7              Sí             Sí   \n",
       "8              Sí             No   \n",
       "9              Sí             No   \n",
       "10             Sí             Sí   \n",
       "11             Sí             No   \n",
       "12             No             Sí   \n",
       "13             Sí             Sí   \n",
       "14             Sí             Sí   \n",
       "15             Sí             Sí   \n",
       "16             No             Sí   \n",
       "17             No             No   \n",
       "18             Sí             No   \n",
       "19             No             Sí   \n",
       "20             Sí             No   \n",
       "21             No             Sí   \n",
       "22             No             Sí   \n",
       "23             Sí             No   \n",
       "24             Sí             Sí   \n",
       "25             Sí             No   \n",
       "26             Sí             No   \n",
       "27             Sí             No   \n",
       "28             Sí             No   \n",
       "29             Sí             Sí   \n",
       "30             Sí             No   \n",
       "31             Sí             Sí   \n",
       "32             Sí             Sí   \n",
       "33             Sí             No   \n",
       "34             Sí             Sí   \n",
       "35             Sí             No   \n",
       "36             No             Sí   \n",
       "37             Sí             Sí   \n",
       "38             No             Sí   \n",
       "39             Sí             Sí   \n",
       "40             No             Sí   \n",
       "41             Sí             No   \n",
       "42             No             Sí   \n",
       "\n",
       "   5.- ¿Cuál es tu nivel de conocimiento en Python?  \\\n",
       "0                                            Básico   \n",
       "1                                            Básico   \n",
       "2                                            Básico   \n",
       "3                                            Básico   \n",
       "4                                            Básico   \n",
       "5                                            Básico   \n",
       "6                                        Intermedio   \n",
       "7                                            Básico   \n",
       "8                                            Básico   \n",
       "9                                            Básico   \n",
       "10                                           Básico   \n",
       "11                                           Básico   \n",
       "12                                       Intermedio   \n",
       "13                                           Básico   \n",
       "14                                           Básico   \n",
       "15                                           Básico   \n",
       "16                                           Básico   \n",
       "17                                           Básico   \n",
       "18                                           Básico   \n",
       "19                                           Básico   \n",
       "20                                           Básico   \n",
       "21                                           Básico   \n",
       "22                                           Básico   \n",
       "23                                           Básico   \n",
       "24                                           Básico   \n",
       "25                        Nunca he utilizado Python   \n",
       "26                                       Intermedio   \n",
       "27                                           Básico   \n",
       "28                                           Básico   \n",
       "29                                           Básico   \n",
       "30                                           Básico   \n",
       "31                                           Básico   \n",
       "32                                           Básico   \n",
       "33                                           Básico   \n",
       "34                                       Intermedio   \n",
       "35                                           Básico   \n",
       "36                                           Básico   \n",
       "37                                           Básico   \n",
       "38                                           Básico   \n",
       "39                                           Básico   \n",
       "40                                           Básico   \n",
       "41                                       Intermedio   \n",
       "42                                       Intermedio   \n",
       "\n",
       "   6.- ¿Qué tema relacionado con Python te gustaría aprender?  \\\n",
       "0                              Manejar bases de datos           \n",
       "1                                     machine lerning           \n",
       "2       Automatización y creación de apps/páginas web           \n",
       "3                                   Análisis de datos           \n",
       "4                               Conocer más librerias           \n",
       "5                                 APIS y data science           \n",
       "6                                   Analisis de Datos           \n",
       "7                                    Ciencia de datos           \n",
       "8   Me gustaria aprender un poco de todo, pero mas...           \n",
       "9   No tengo un tema en especifico, solo deseo rep...           \n",
       "10                                  Análisis de datos           \n",
       "11                                                POO           \n",
       "12                            Web y análisis de datos           \n",
       "13  Flujos de trabajo, análisis de datos, análisis...           \n",
       "14                                      Deep learning           \n",
       "15             Programación orientada a objetos (POO)           \n",
       "16  un poco de todo para irme familiarizandome a l...           \n",
       "17                                          API y IA            \n",
       "18     Web Scrapping y limpieza de conjuntos de datos           \n",
       "19                                  análisis de datos           \n",
       "20     Analisis de datos y su uso para desarrollo web           \n",
       "21      Ciencia de Datos, y API`s y Todo lo de Python           \n",
       "22     recolección, limpieza y visualización de datos           \n",
       "23                                   Ciencia de datos           \n",
       "24  Como hacer una interfaz para poder hacer un pr...           \n",
       "25                    Programación para uso academico           \n",
       "26                un poco de inteligencia artificial            \n",
       "27                                             Bucles           \n",
       "28  Librerias con aplicaciones en el mundo de las ...           \n",
       "29                                         desarrollo           \n",
       "30                             Procesamiento de datos           \n",
       "31                                               Apis           \n",
       "32                                    MachineLearning           \n",
       "33                  Ciencia de Datos y automatización           \n",
       "34                      ciencia de datos, webscraping           \n",
       "35              Lo relacionado con análisis de datos.           \n",
       "36                                       web scraping           \n",
       "37                librerias, bloques paquetes etc....           \n",
       "38                                  Analisis de datos           \n",
       "39                                           punteros           \n",
       "40                   Machine Learning y Deep Learning           \n",
       "41  Cómo escribir un código de forma profesional, ...           \n",
       "42                                     Automatizacion           \n",
       "\n",
       "   7.- ¿Has participado en algún curso anteriormente en el IA Center?  \\\n",
       "0                                                  No                   \n",
       "1                                                  Sí                   \n",
       "2                                                  No                   \n",
       "3                                                  Sí                   \n",
       "4                                                  Sí                   \n",
       "5                                                  No                   \n",
       "6                                                  Sí                   \n",
       "7                                                  Sí                   \n",
       "8                                                  No                   \n",
       "9                                                  Sí                   \n",
       "10                                                 No                   \n",
       "11                                                 No                   \n",
       "12                                                 No                   \n",
       "13                                                 Sí                   \n",
       "14                                                 No                   \n",
       "15                                                 Sí                   \n",
       "16                                                 Sí                   \n",
       "17                                                 Sí                   \n",
       "18                                                 Sí                   \n",
       "19                                                 Sí                   \n",
       "20                                                 No                   \n",
       "21                                                 Sí                   \n",
       "22                                                 Sí                   \n",
       "23                                                 Sí                   \n",
       "24                                                 Sí                   \n",
       "25                                                 No                   \n",
       "26                                                 No                   \n",
       "27                                                 Sí                   \n",
       "28                                                 No                   \n",
       "29                                                 No                   \n",
       "30                                                 Sí                   \n",
       "31                                                 Sí                   \n",
       "32                                                 No                   \n",
       "33                                                 Sí                   \n",
       "34                                                 Sí                   \n",
       "35                                                 Sí                   \n",
       "36                                                 No                   \n",
       "37                                                 No                   \n",
       "38                                                 Sí                   \n",
       "39                                                 Sí                   \n",
       "40                                                 Sí                   \n",
       "41                                                 No                   \n",
       "42                                                 No                   \n",
       "\n",
       "                    8.- ¿Cuál es tu canción favorita?  \n",
       "0                                            The Wolf  \n",
       "1                                     eternity, anyma  \n",
       "2                      Cornerstone- Arctic Monkeys :)  \n",
       "3                                     Sea Gets Hotter  \n",
       "4                          Love Me More, de Sam Smith  \n",
       "5                            Fireflight - Unbreakable  \n",
       "6                                Instrumental General  \n",
       "7                           La bruja de Marco Flores   \n",
       "8                                 Canela-Nanpa Basico  \n",
       "9   Depende del momento hy del día, ahora es Hielo...  \n",
       "10                                         No tengo:(  \n",
       "11                      The Words I Never Said / Mage  \n",
       "12                                   Dust in the wind  \n",
       "13                            Manto estelar - Moenia   \n",
       "14                                              Todas  \n",
       "15             Skillet-Comatose y Whisper in the Dark  \n",
       "16                  el hada y el mago de reta blancha  \n",
       "17  https://youtu.be/dQw4w9WgXcQ y https://youtu.b...  \n",
       "18                                   Hotel California  \n",
       "19  no tengo canción favorita, prácticamente no es...  \n",
       "20                          Burn My Dread - Persona 3  \n",
       "21                                               ....  \n",
       "22                                        Todo cuenta  \n",
       "23                                  Chosen - Maneskin  \n",
       "24                                  God's Plan- Drake  \n",
       "25         A man without love - Engelbert Humperdinck  \n",
       "26                                   Love of my life   \n",
       "27                    Jorge Drexler - El Plan Maestro  \n",
       "28                          Inolvidable - Luis Miguel  \n",
       "29                                          Last Call  \n",
       "30                   Lacrimosa- Matt Kent, Amber Dawn  \n",
       "31                               All the small things  \n",
       "32                Like I Love You - Justin Timberlake  \n",
       "33       Cold Heart - PNAU REMIX Elton Jhon, Dua Lipa  \n",
       "34                      Gorillaz - On Melancholy Hill  \n",
       "35  En este momento Los Años Maravillosos de Littl...  \n",
       "36                                        Young Turks  \n",
       "37                            the weeknd- Out of time  \n",
       "38                       https://youtu.be/BGVUiMskx_U  \n",
       "39                             porter guiame quetzal   \n",
       "40                                            Runaway  \n",
       "41  Hay varias, pero últimamente escucho mucho \"Cu...  \n",
       "42                              David Bowie - Heroes   "
      ]
     },
     "execution_count": 15,
     "metadata": {},
     "output_type": "execute_result"
    }
   ],
   "source": [
    "df = pd.read_csv(\"Perfil de estudiante.csv\")#la ruta esta en la carpeta del repositorio, si esta cargado en el entorno solo se pone el nombre\n",
    "\n",
    "df"
   ]
  },
  {
   "cell_type": "code",
   "execution_count": 16,
   "metadata": {},
   "outputs": [
    {
     "data": {
      "text/html": [
       "<div>\n",
       "<style scoped>\n",
       "    .dataframe tbody tr th:only-of-type {\n",
       "        vertical-align: middle;\n",
       "    }\n",
       "\n",
       "    .dataframe tbody tr th {\n",
       "        vertical-align: top;\n",
       "    }\n",
       "\n",
       "    .dataframe thead th {\n",
       "        text-align: right;\n",
       "    }\n",
       "</style>\n",
       "<table border=\"1\" class=\"dataframe\">\n",
       "  <thead>\n",
       "    <tr style=\"text-align: right;\">\n",
       "      <th></th>\n",
       "      <th>Marca temporal</th>\n",
       "      <th>1.- ¿De dónde eres?</th>\n",
       "      <th>2.- ¿Cuántos años tienes?</th>\n",
       "      <th>3.- ¿Estudias?</th>\n",
       "      <th>4.- ¿Trabajas?</th>\n",
       "      <th>5.- ¿Cuál es tu nivel de conocimiento en Python?</th>\n",
       "      <th>6.- ¿Qué tema relacionado con Python te gustaría aprender?</th>\n",
       "      <th>7.- ¿Has participado en algún curso anteriormente en el IA Center?</th>\n",
       "      <th>8.- ¿Cuál es tu canción favorita?</th>\n",
       "    </tr>\n",
       "  </thead>\n",
       "  <tbody>\n",
       "    <tr>\n",
       "      <th>0</th>\n",
       "      <td>2023/06/27 7:42:12 p. m. GMT-6</td>\n",
       "      <td>Cd. Juárez</td>\n",
       "      <td>Entre 21 y 24</td>\n",
       "      <td>Sí</td>\n",
       "      <td>No</td>\n",
       "      <td>Básico</td>\n",
       "      <td>Manejar bases de datos</td>\n",
       "      <td>No</td>\n",
       "      <td>The Wolf</td>\n",
       "    </tr>\n",
       "    <tr>\n",
       "      <th>1</th>\n",
       "      <td>2023/06/27 7:42:28 p. m. GMT-6</td>\n",
       "      <td>chihuahua, chihuahua</td>\n",
       "      <td>Entre 21 y 24</td>\n",
       "      <td>Sí</td>\n",
       "      <td>Sí</td>\n",
       "      <td>Básico</td>\n",
       "      <td>machine lerning</td>\n",
       "      <td>Sí</td>\n",
       "      <td>eternity, anyma</td>\n",
       "    </tr>\n",
       "    <tr>\n",
       "      <th>2</th>\n",
       "      <td>2023/06/27 7:42:44 p. m. GMT-6</td>\n",
       "      <td>Chihuahua Chihuahua</td>\n",
       "      <td>Entre 18 y 20</td>\n",
       "      <td>Sí</td>\n",
       "      <td>Sí</td>\n",
       "      <td>Básico</td>\n",
       "      <td>Automatización y creación de apps/páginas web</td>\n",
       "      <td>No</td>\n",
       "      <td>Cornerstone- Arctic Monkeys :)</td>\n",
       "    </tr>\n",
       "    <tr>\n",
       "      <th>3</th>\n",
       "      <td>2023/06/27 7:42:52 p. m. GMT-6</td>\n",
       "      <td>Chihuahua Chihuahua</td>\n",
       "      <td>Entre 21 y 24</td>\n",
       "      <td>Sí</td>\n",
       "      <td>Sí</td>\n",
       "      <td>Básico</td>\n",
       "      <td>Análisis de datos</td>\n",
       "      <td>Sí</td>\n",
       "      <td>Sea Gets Hotter</td>\n",
       "    </tr>\n",
       "    <tr>\n",
       "      <th>4</th>\n",
       "      <td>2023/06/27 7:42:56 p. m. GMT-6</td>\n",
       "      <td>Chihuahua, Chih.</td>\n",
       "      <td>Más de 30</td>\n",
       "      <td>No</td>\n",
       "      <td>Sí</td>\n",
       "      <td>Básico</td>\n",
       "      <td>Conocer más librerias</td>\n",
       "      <td>Sí</td>\n",
       "      <td>Love Me More, de Sam Smith</td>\n",
       "    </tr>\n",
       "  </tbody>\n",
       "</table>\n",
       "</div>"
      ],
      "text/plain": [
       "                   Marca temporal   1.- ¿De dónde eres?  \\\n",
       "0  2023/06/27 7:42:12 p. m. GMT-6            Cd. Juárez   \n",
       "1  2023/06/27 7:42:28 p. m. GMT-6  chihuahua, chihuahua   \n",
       "2  2023/06/27 7:42:44 p. m. GMT-6   Chihuahua Chihuahua   \n",
       "3  2023/06/27 7:42:52 p. m. GMT-6   Chihuahua Chihuahua   \n",
       "4  2023/06/27 7:42:56 p. m. GMT-6      Chihuahua, Chih.   \n",
       "\n",
       "  2.- ¿Cuántos años tienes? 3.- ¿Estudias? 4.- ¿Trabajas?  \\\n",
       "0             Entre 21 y 24             Sí             No   \n",
       "1             Entre 21 y 24             Sí             Sí   \n",
       "2             Entre 18 y 20             Sí             Sí   \n",
       "3             Entre 21 y 24             Sí             Sí   \n",
       "4                 Más de 30             No             Sí   \n",
       "\n",
       "  5.- ¿Cuál es tu nivel de conocimiento en Python?  \\\n",
       "0                                           Básico   \n",
       "1                                           Básico   \n",
       "2                                           Básico   \n",
       "3                                           Básico   \n",
       "4                                           Básico   \n",
       "\n",
       "  6.- ¿Qué tema relacionado con Python te gustaría aprender?  \\\n",
       "0                             Manejar bases de datos           \n",
       "1                                    machine lerning           \n",
       "2      Automatización y creación de apps/páginas web           \n",
       "3                                  Análisis de datos           \n",
       "4                              Conocer más librerias           \n",
       "\n",
       "  7.- ¿Has participado en algún curso anteriormente en el IA Center?  \\\n",
       "0                                                 No                   \n",
       "1                                                 Sí                   \n",
       "2                                                 No                   \n",
       "3                                                 Sí                   \n",
       "4                                                 Sí                   \n",
       "\n",
       "  8.- ¿Cuál es tu canción favorita?  \n",
       "0                          The Wolf  \n",
       "1                   eternity, anyma  \n",
       "2    Cornerstone- Arctic Monkeys :)  \n",
       "3                   Sea Gets Hotter  \n",
       "4        Love Me More, de Sam Smith  "
      ]
     },
     "execution_count": 16,
     "metadata": {},
     "output_type": "execute_result"
    }
   ],
   "source": [
    "df.head() #regresa los 5 primeros datos de la tabla"
   ]
  },
  {
   "cell_type": "code",
   "execution_count": 17,
   "metadata": {},
   "outputs": [
    {
     "data": {
      "text/html": [
       "<div>\n",
       "<style scoped>\n",
       "    .dataframe tbody tr th:only-of-type {\n",
       "        vertical-align: middle;\n",
       "    }\n",
       "\n",
       "    .dataframe tbody tr th {\n",
       "        vertical-align: top;\n",
       "    }\n",
       "\n",
       "    .dataframe thead th {\n",
       "        text-align: right;\n",
       "    }\n",
       "</style>\n",
       "<table border=\"1\" class=\"dataframe\">\n",
       "  <thead>\n",
       "    <tr style=\"text-align: right;\">\n",
       "      <th></th>\n",
       "      <th>Marca temporal</th>\n",
       "      <th>1.- ¿De dónde eres?</th>\n",
       "      <th>2.- ¿Cuántos años tienes?</th>\n",
       "      <th>3.- ¿Estudias?</th>\n",
       "      <th>4.- ¿Trabajas?</th>\n",
       "      <th>5.- ¿Cuál es tu nivel de conocimiento en Python?</th>\n",
       "      <th>6.- ¿Qué tema relacionado con Python te gustaría aprender?</th>\n",
       "      <th>7.- ¿Has participado en algún curso anteriormente en el IA Center?</th>\n",
       "      <th>8.- ¿Cuál es tu canción favorita?</th>\n",
       "    </tr>\n",
       "  </thead>\n",
       "  <tbody>\n",
       "    <tr>\n",
       "      <th>38</th>\n",
       "      <td>2023/06/27 10:02:11 p. m. GMT-6</td>\n",
       "      <td>Ciudad Juarez, Chih</td>\n",
       "      <td>Entre 21 y 24</td>\n",
       "      <td>No</td>\n",
       "      <td>Sí</td>\n",
       "      <td>Básico</td>\n",
       "      <td>Analisis de datos</td>\n",
       "      <td>Sí</td>\n",
       "      <td>https://youtu.be/BGVUiMskx_U</td>\n",
       "    </tr>\n",
       "    <tr>\n",
       "      <th>39</th>\n",
       "      <td>2023/06/27 10:31:28 p. m. GMT-6</td>\n",
       "      <td>cd juarez</td>\n",
       "      <td>Entre 21 y 24</td>\n",
       "      <td>Sí</td>\n",
       "      <td>Sí</td>\n",
       "      <td>Básico</td>\n",
       "      <td>punteros</td>\n",
       "      <td>Sí</td>\n",
       "      <td>porter guiame quetzal</td>\n",
       "    </tr>\n",
       "    <tr>\n",
       "      <th>40</th>\n",
       "      <td>2023/06/28 10:12:04 p. m. GMT-6</td>\n",
       "      <td>Chihuahua</td>\n",
       "      <td>Entre 21 y 24</td>\n",
       "      <td>No</td>\n",
       "      <td>Sí</td>\n",
       "      <td>Básico</td>\n",
       "      <td>Machine Learning y Deep Learning</td>\n",
       "      <td>Sí</td>\n",
       "      <td>Runaway</td>\n",
       "    </tr>\n",
       "    <tr>\n",
       "      <th>41</th>\n",
       "      <td>2023/06/29 2:00:51 a. m. GMT-6</td>\n",
       "      <td>Vivo en Ciudad Juárez. Soy cubana</td>\n",
       "      <td>Más de 30</td>\n",
       "      <td>Sí</td>\n",
       "      <td>No</td>\n",
       "      <td>Intermedio</td>\n",
       "      <td>Cómo escribir un código de forma profesional, ...</td>\n",
       "      <td>No</td>\n",
       "      <td>Hay varias, pero últimamente escucho mucho \"Cu...</td>\n",
       "    </tr>\n",
       "    <tr>\n",
       "      <th>42</th>\n",
       "      <td>2023/07/03 1:55:24 p. m. GMT-6</td>\n",
       "      <td>Ciudad Juarez</td>\n",
       "      <td>Más de 30</td>\n",
       "      <td>No</td>\n",
       "      <td>Sí</td>\n",
       "      <td>Intermedio</td>\n",
       "      <td>Automatizacion</td>\n",
       "      <td>No</td>\n",
       "      <td>David Bowie - Heroes</td>\n",
       "    </tr>\n",
       "  </tbody>\n",
       "</table>\n",
       "</div>"
      ],
      "text/plain": [
       "                     Marca temporal                1.- ¿De dónde eres?  \\\n",
       "38  2023/06/27 10:02:11 p. m. GMT-6                Ciudad Juarez, Chih   \n",
       "39  2023/06/27 10:31:28 p. m. GMT-6                          cd juarez   \n",
       "40  2023/06/28 10:12:04 p. m. GMT-6                          Chihuahua   \n",
       "41   2023/06/29 2:00:51 a. m. GMT-6  Vivo en Ciudad Juárez. Soy cubana   \n",
       "42   2023/07/03 1:55:24 p. m. GMT-6                      Ciudad Juarez   \n",
       "\n",
       "   2.- ¿Cuántos años tienes? 3.- ¿Estudias? 4.- ¿Trabajas?  \\\n",
       "38             Entre 21 y 24             No             Sí   \n",
       "39             Entre 21 y 24             Sí             Sí   \n",
       "40             Entre 21 y 24             No             Sí   \n",
       "41                 Más de 30             Sí             No   \n",
       "42                 Más de 30             No             Sí   \n",
       "\n",
       "   5.- ¿Cuál es tu nivel de conocimiento en Python?  \\\n",
       "38                                           Básico   \n",
       "39                                           Básico   \n",
       "40                                           Básico   \n",
       "41                                       Intermedio   \n",
       "42                                       Intermedio   \n",
       "\n",
       "   6.- ¿Qué tema relacionado con Python te gustaría aprender?  \\\n",
       "38                                  Analisis de datos           \n",
       "39                                           punteros           \n",
       "40                   Machine Learning y Deep Learning           \n",
       "41  Cómo escribir un código de forma profesional, ...           \n",
       "42                                     Automatizacion           \n",
       "\n",
       "   7.- ¿Has participado en algún curso anteriormente en el IA Center?  \\\n",
       "38                                                 Sí                   \n",
       "39                                                 Sí                   \n",
       "40                                                 Sí                   \n",
       "41                                                 No                   \n",
       "42                                                 No                   \n",
       "\n",
       "                    8.- ¿Cuál es tu canción favorita?  \n",
       "38                       https://youtu.be/BGVUiMskx_U  \n",
       "39                             porter guiame quetzal   \n",
       "40                                            Runaway  \n",
       "41  Hay varias, pero últimamente escucho mucho \"Cu...  \n",
       "42                              David Bowie - Heroes   "
      ]
     },
     "execution_count": 17,
     "metadata": {},
     "output_type": "execute_result"
    }
   ],
   "source": [
    "df.tail()#regresa los 5 ultimos datos de la tabla"
   ]
  },
  {
   "cell_type": "code",
   "execution_count": 18,
   "metadata": {},
   "outputs": [
    {
     "name": "stdout",
     "output_type": "stream",
     "text": [
      "<class 'pandas.core.frame.DataFrame'>\n",
      "RangeIndex: 43 entries, 0 to 42\n",
      "Data columns (total 9 columns):\n",
      " #   Column                                                              Non-Null Count  Dtype \n",
      "---  ------                                                              --------------  ----- \n",
      " 0   Marca temporal                                                      43 non-null     object\n",
      " 1   1.- ¿De dónde eres?                                                 43 non-null     object\n",
      " 2   2.- ¿Cuántos años tienes?                                           43 non-null     object\n",
      " 3   3.- ¿Estudias?                                                      43 non-null     object\n",
      " 4   4.- ¿Trabajas?                                                      43 non-null     object\n",
      " 5   5.- ¿Cuál es tu nivel de conocimiento en Python?                    43 non-null     object\n",
      " 6   6.- ¿Qué tema relacionado con Python te gustaría aprender?          43 non-null     object\n",
      " 7   7.- ¿Has participado en algún curso anteriormente en el IA Center?  43 non-null     object\n",
      " 8   8.- ¿Cuál es tu canción favorita?                                   43 non-null     object\n",
      "dtypes: object(9)\n",
      "memory usage: 3.1+ KB\n"
     ]
    }
   ],
   "source": [
    "df.info()#Resume la informacion de la tabla"
   ]
  },
  {
   "cell_type": "markdown",
   "metadata": {},
   "source": [
    "CSV"
   ]
  },
  {
   "cell_type": "code",
   "execution_count": 19,
   "metadata": {},
   "outputs": [
    {
     "name": "stdout",
     "output_type": "stream",
     "text": [
      "                     Marca temporal                        1.- ¿De dónde eres? 2.- ¿Cuántos años tienes? 3.- ¿Estudias? 4.- ¿Trabajas? 5.- ¿Cuál es tu nivel de conocimiento en Python?                                           6.- ¿Qué tema relacionado con Python te gustaría aprender? 7.- ¿Has participado en algún curso anteriormente en el IA Center?                             8.- ¿Cuál es tu canción favorita?\n",
      "0    2023/06/27 7:42:12 p. m. GMT-6                                 Cd. Juárez             Entre 21 y 24             Sí             No                                           Básico                                                                               Manejar bases de datos                                                                 No                                                      The Wolf\n",
      "1    2023/06/27 7:42:28 p. m. GMT-6                       chihuahua, chihuahua             Entre 21 y 24             Sí             Sí                                           Básico                                                                                      machine lerning                                                                 Sí                                               eternity, anyma\n",
      "2    2023/06/27 7:42:44 p. m. GMT-6                        Chihuahua Chihuahua             Entre 18 y 20             Sí             Sí                                           Básico                                                        Automatización y creación de apps/páginas web                                                                 No                                Cornerstone- Arctic Monkeys :)\n",
      "3    2023/06/27 7:42:52 p. m. GMT-6                        Chihuahua Chihuahua             Entre 21 y 24             Sí             Sí                                           Básico                                                                                    Análisis de datos                                                                 Sí                                               Sea Gets Hotter\n",
      "4    2023/06/27 7:42:56 p. m. GMT-6                           Chihuahua, Chih.                 Más de 30             No             Sí                                           Básico                                                                                Conocer más librerias                                                                 Sí                                    Love Me More, de Sam Smith\n",
      "5    2023/06/27 7:42:57 p. m. GMT-6                                     Puebla             Entre 21 y 24             Sí             Sí                                           Básico                                                                                  APIS y data science                                                                 No                                      Fireflight - Unbreakable\n",
      "6    2023/06/27 7:42:57 p. m. GMT-6                            Cd. Juarez Chih                 Más de 30             No             Sí                                       Intermedio                                                                                    Analisis de Datos                                                                 Sí                                          Instrumental General\n",
      "7    2023/06/27 7:43:04 p. m. GMT-6                              Ciudad Juarez             Entre 21 y 24             Sí             Sí                                           Básico                                                                                     Ciencia de datos                                                                 Sí                                     La bruja de Marco Flores \n",
      "8    2023/06/27 7:43:10 p. m. GMT-6                             Aguascalientes             Entre 18 y 20             Sí             No                                           Básico  Me gustaria aprender un poco de todo, pero mas que nada me gustaria practicar mas los conocimientos                                                                 No                                           Canela-Nanpa Basico\n",
      "9    2023/06/27 7:43:12 p. m. GMT-6                           Cd Juarez, Chih.             Entre 21 y 24             Sí             No                                           Básico                                       No tengo un tema en especifico, solo deseo repasar y aprender                                                                  Sí          Depende del momento hy del día, ahora es Hielo - Zoé\n",
      "10   2023/06/27 7:43:12 p. m. GMT-6                                     Juárez             Entre 21 y 24             Sí             Sí                                           Básico                                                                                    Análisis de datos                                                                 No                                                    No tengo:(\n",
      "11   2023/06/27 7:43:16 p. m. GMT-6                                 El Paso TX             Entre 18 y 20             Sí             No                                           Básico                                                                                                  POO                                                                 No                                 The Words I Never Said / Mage\n",
      "12   2023/06/27 7:43:16 p. m. GMT-6                       Cuauhtemoc Chihuahua                 Más de 30             No             Sí                                       Intermedio                                                                              Web y análisis de datos                                                                 No                                              Dust in the wind\n",
      "13   2023/06/27 7:43:29 p. m. GMT-6                                Cd. Juárez              Entre 21 y 24             Sí             Sí                                           Básico                         Flujos de trabajo, análisis de datos, análisis estadístico y automatización                                                                  Sí                                       Manto estelar - Moenia \n",
      "14   2023/06/27 7:43:34 p. m. GMT-6                                    Hidalgo             Entre 25 y 29             Sí             Sí                                           Básico                                                                                        Deep learning                                                                 No                                                         Todas\n",
      "15   2023/06/27 7:43:50 p. m. GMT-6                          Cd. Juarez, Chih.             Entre 21 y 24             Sí             Sí                                           Básico                                                               Programación orientada a objetos (POO)                                                                 Sí                        Skillet-Comatose y Whisper in the Dark\n",
      "16   2023/06/27 7:44:01 p. m. GMT-6                       Cd. Juarez Chihuahua                 Más de 30             No             Sí                                           Básico                                        un poco de todo para irme familiarizandome a la prograamacion                                                                 Sí                             el hada y el mago de reta blancha\n",
      "17   2023/06/27 7:44:01 p. m. GMT-6             Ciudad Juarez Chihuahua Mexico             Entre 21 y 24             No             No                                           Básico                                                                                            API y IA                                                                  Sí   https://youtu.be/dQw4w9WgXcQ y https://youtu.be/yJDBmP9Mexk\n",
      "18   2023/06/27 7:44:12 p. m. GMT-6                              Ciudad Juarez                 Más de 30             Sí             No                                           Básico                                                       Web Scrapping y limpieza de conjuntos de datos                                                                 Sí                                              Hotel California\n",
      "19   2023/06/27 7:44:14 p. m. GMT-6                           Chihuahua, Chih.                 Más de 30             No             Sí                                           Básico                                                                                    análisis de datos                                                                 Sí   no tengo canción favorita, prácticamente no escucho música \n",
      "20   2023/06/27 7:44:17 p. m. GMT-6                              Ciudad Juarez             Entre 18 y 20             Sí             No                                           Básico                                                       Analisis de datos y su uso para desarrollo web                                                                 No                                     Burn My Dread - Persona 3\n",
      "21   2023/06/27 7:44:20 p. m. GMT-6               Cd Juárez Chihuahua, México.                 Más de 30             No             Sí                                           Básico                                                        Ciencia de Datos, y API`s y Todo lo de Python                                                                 Sí                                                          ....\n",
      "22   2023/06/27 7:44:25 p. m. GMT-6                              Ciudad Juárez                 Más de 30             No             Sí                                           Básico                                                       recolección, limpieza y visualización de datos                                                                 Sí                                                   Todo cuenta\n",
      "23   2023/06/27 7:44:30 p. m. GMT-6                                 Cd. Juárez             Entre 25 y 29             Sí             No                                           Básico                                                                                     Ciencia de datos                                                                 Sí                                             Chosen - Maneskin\n",
      "24   2023/06/27 7:44:31 p. m. GMT-6                                     Juarez             Entre 25 y 29             Sí             Sí                                           Básico         Como hacer una interfaz para poder hacer un programa funcional para terceros. Python con SQL                                                                 Sí                                             God's Plan- Drake\n",
      "25   2023/06/27 7:45:04 p. m. GMT-6                     Cd. Juárez, Chihuahua              Entre 18 y 20             Sí             No                        Nunca he utilizado Python                                                                      Programación para uso academico                                                                 No                    A man without love - Engelbert Humperdinck\n",
      "26   2023/06/27 7:45:37 p. m. GMT-6                            Aguascalientes              Entre 21 y 24             Sí             No                                       Intermedio                                                                  un poco de inteligencia artificial                                                                  No                                              Love of my life \n",
      "27   2023/06/27 7:45:45 p. m. GMT-6                                 Cd. Juarez             Entre 15 y 17             Sí             No                                           Básico                                                                                               Bucles                                                                 Sí                               Jorge Drexler - El Plan Maestro\n",
      "28   2023/06/27 7:46:10 p. m. GMT-6  San Francisco de los Romo, Aguascalientes             Entre 18 y 20             Sí             No                                           Básico                                           Librerias con aplicaciones en el mundo de las matemáticas.                                                                 No                                     Inolvidable - Luis Miguel\n",
      "29   2023/06/27 7:46:14 p. m. GMT-6                                  Chihuahua             Entre 18 y 20             Sí             Sí                                           Básico                                                                                           desarrollo                                                                 No                                                     Last Call\n",
      "30   2023/06/27 7:46:28 p. m. GMT-6                              Ciudad Juárez             Entre 21 y 24             Sí             No                                           Básico                                                                               Procesamiento de datos                                                                 Sí                              Lacrimosa- Matt Kent, Amber Dawn\n",
      "31   2023/06/27 7:46:32 p. m. GMT-6                                 Zacatecas              Entre 25 y 29             Sí             Sí                                           Básico                                                                                                 Apis                                                                 Sí                                          All the small things\n",
      "32   2023/06/27 7:46:37 p. m. GMT-6                              Ciudad Juarez             Entre 21 y 24             Sí             Sí                                           Básico                                                                                      MachineLearning                                                                 No                           Like I Love You - Justin Timberlake\n",
      "33   2023/06/27 7:49:23 p. m. GMT-6                              Ciudad Juárez             Entre 18 y 20             Sí             No                                           Básico                                                                    Ciencia de Datos y automatización                                                                 Sí                  Cold Heart - PNAU REMIX Elton Jhon, Dua Lipa\n",
      "34   2023/06/27 7:51:23 p. m. GMT-6                              Ciudad Juarez             Entre 25 y 29             Sí             Sí                                       Intermedio                                                                        ciencia de datos, webscraping                                                                 Sí                                 Gorillaz - On Melancholy Hill\n",
      "35   2023/06/27 7:55:00 p. m. GMT-6                Veracruz, estudio en Puebla             Entre 25 y 29             Sí             No                                           Básico                                                                Lo relacionado con análisis de datos.                                                                 Sí        En este momento Los Años Maravillosos de Little Jesus \n",
      "36   2023/06/27 8:05:42 p. m. GMT-6                                       CDMX             Entre 25 y 29             No             Sí                                           Básico                                                                                         web scraping                                                                 No                                                   Young Turks\n",
      "37   2023/06/27 8:22:29 p. m. GMT-6                           Estado de Mexico             Entre 21 y 24             Sí             Sí                                           Básico                                                                  librerias, bloques paquetes etc....                                                                 No                                       the weeknd- Out of time\n",
      "38  2023/06/27 10:02:11 p. m. GMT-6                        Ciudad Juarez, Chih             Entre 21 y 24             No             Sí                                           Básico                                                                                    Analisis de datos                                                                 Sí                                  https://youtu.be/BGVUiMskx_U\n",
      "39  2023/06/27 10:31:28 p. m. GMT-6                                  cd juarez             Entre 21 y 24             Sí             Sí                                           Básico                                                                                             punteros                                                                 Sí                                        porter guiame quetzal \n",
      "40  2023/06/28 10:12:04 p. m. GMT-6                                  Chihuahua             Entre 21 y 24             No             Sí                                           Básico                                                                     Machine Learning y Deep Learning                                                                 Sí                                                       Runaway\n",
      "41   2023/06/29 2:00:51 a. m. GMT-6          Vivo en Ciudad Juárez. Soy cubana                 Más de 30             Sí             No                                       Intermedio       Cómo escribir un código de forma profesional, utilizando las herramientas necesarias y óptimas                                                                 No  Hay varias, pero últimamente escucho mucho \"Cuba Isla Bella\"\n",
      "42   2023/07/03 1:55:24 p. m. GMT-6                              Ciudad Juarez                 Más de 30             No             Sí                                       Intermedio                                                                                       Automatizacion                                                                 No                                         David Bowie - Heroes \n"
     ]
    }
   ],
   "source": [
    "df = pd.read_csv(\"Perfil de estudiante.csv\")\n",
    "\n",
    "print(df.to_string()) #Es formato es python no es data frame y posee mejor organizacion de estos mismos"
   ]
  },
  {
   "cell_type": "markdown",
   "metadata": {},
   "source": [
    "JSON"
   ]
  },
  {
   "cell_type": "code",
   "execution_count": 1,
   "metadata": {},
   "outputs": [],
   "source": [
    "import numpy as np\n",
    "import pandas as pd"
   ]
  },
  {
   "cell_type": "code",
   "execution_count": 2,
   "metadata": {},
   "outputs": [
    {
     "name": "stdout",
     "output_type": "stream",
     "text": [
      "                                                 personas\n",
      "0      {'nombre': 'Juan', 'edad': 25, 'ciudad': 'Madrid'}\n",
      "1  {'nombre': 'María', 'edad': 30, 'ciudad': 'Barcelona'}\n",
      "2   {'nombre': 'Pedro', 'edad': 35, 'ciudad': 'Valencia'}\n"
     ]
    }
   ],
   "source": [
    "df = pd.read_json('dataset.json')#Con esta funcion se lee los archivos de jupyter que son los json\n",
    "\n",
    "print(df.to_string())"
   ]
  },
  {
   "cell_type": "markdown",
   "metadata": {},
   "source": [
    "Limpieza de datos"
   ]
  },
  {
   "cell_type": "code",
   "execution_count": 32,
   "metadata": {},
   "outputs": [],
   "source": [
    "data = {\n",
    "    \"Nombre\": [\"Juan\", \"Maria\", \"Pedro\", \"Ana\", \"Luis\"],\n",
    "    \"Edad\": [25, 32, None, 42, 28],\n",
    "    \"Fecha\": [\"31/01/2020\", \"31/01/2020\", None, \"31/01/2020\", \"01/31/2020\"],\n",
    "    \"Genero\": [\"M\", \"F\", None, \"F\", \"M\"],\n",
    "    \"Ciudad\": [\"Madrid\", None, \"Madrid\", \"Valencia\", \"Barcelona\"],\n",
    "    \"Altura\": [175, 163, 180, 158, 170],\n",
    "    \"Peso\": [70, None, 80, 60, 75],\n",
    "    \"Ingresos\": [50000, 60000, 40000, None, 55000]\n",
    "}\n",
    "\n"
   ]
  },
  {
   "cell_type": "code",
   "execution_count": 57,
   "metadata": {},
   "outputs": [
    {
     "name": "stdout",
     "output_type": "stream",
     "text": [
      "  Nombre  Edad       Fecha Genero     Ciudad  Altura  Peso  Ingresos\n",
      "0   Juan  25.0  31/01/2020      M     Madrid     175  70.0   50000.0\n",
      "1  Maria  32.0  31/01/2020      F       None     163   NaN   60000.0\n",
      "2  Pedro   NaN        None   None     Madrid     180  80.0   40000.0\n",
      "3    Ana  42.0  31/01/2020      F   Valencia     158  60.0       NaN\n",
      "4   Luis  28.0  01/31/2020      M  Barcelona     170  75.0   55000.0\n"
     ]
    }
   ],
   "source": [
    "df = pd.DataFrame(data)\n",
    "\n",
    "print(df)"
   ]
  },
  {
   "cell_type": "code",
   "execution_count": 4,
   "metadata": {},
   "outputs": [
    {
     "name": "stdout",
     "output_type": "stream",
     "text": [
      "  Nombre  Edad       Fecha Genero     Ciudad  Altura  Peso  Ingresos\n",
      "0   Juan  25.0  31/01/2020      M     Madrid     175  70.0   50000.0\n",
      "4   Luis  28.0  01/31/2020      M  Barcelona     170  75.0   55000.0\n"
     ]
    }
   ],
   "source": [
    "df_sin_vacios = df.dropna()#Descarta los registros que tiene valores nulos como None o NaN\n",
    "\n",
    "print(df_sin_vacios.to_string()) #Va a regresar solo aquellos registros que esten completos"
   ]
  },
  {
   "cell_type": "code",
   "execution_count": 9,
   "metadata": {},
   "outputs": [
    {
     "name": "stdout",
     "output_type": "stream",
     "text": [
      "  Nombre  Edad       Fecha Genero     Ciudad  Altura  Peso  Ingresos\n",
      "0   Juan  25.0  31/01/2020      M     Madrid     175  70.0   50000.0\n",
      "4   Luis  28.0  01/31/2020      M  Barcelona     170  75.0   55000.0\n"
     ]
    }
   ],
   "source": [
    "df.dropna(inplace = True) #Lo que hace inplace es que quite todos los registros que son nulos o que tiene datos nulos\n",
    "\n",
    "print(df.to_string())"
   ]
  },
  {
   "cell_type": "code",
   "execution_count": 56,
   "metadata": {},
   "outputs": [
    {
     "name": "stdout",
     "output_type": "stream",
     "text": [
      "  Nombre  Edad       Fecha Genero     Ciudad  Altura  Peso  Ingresos\n",
      "0   Juan  25.0  31/01/2020      M     Madrid     175  70.0   50000.0\n",
      "1  Maria  32.0  31/01/2020      F       None     163  70.0   60000.0\n",
      "2  Pedro   NaN        None   None     Madrid     180  80.0   40000.0\n",
      "3    Ana  42.0  31/01/2020      F   Valencia     158  60.0       NaN\n",
      "4   Luis  28.0  01/31/2020      M  Barcelona     170  75.0   55000.0\n"
     ]
    }
   ],
   "source": [
    "print(df)"
   ]
  },
  {
   "cell_type": "code",
   "execution_count": 24,
   "metadata": {},
   "outputs": [
    {
     "name": "stdout",
     "output_type": "stream",
     "text": [
      "  Nombre          Edad         Fecha        Genero        Ciudad  Altura  \\\n",
      "0   Juan          25.0    31/01/2020             M        Madrid     175   \n",
      "1  Maria          32.0    31/01/2020             F  Sin registro     163   \n",
      "2  Pedro  Sin registro  Sin registro  Sin registro        Madrid     180   \n",
      "3    Ana          42.0    31/01/2020             F      Valencia     158   \n",
      "4   Luis          28.0    01/31/2020             M     Barcelona     170   \n",
      "\n",
      "           Peso      Ingresos  \n",
      "0          70.0       50000.0  \n",
      "1  Sin registro       60000.0  \n",
      "2          80.0       40000.0  \n",
      "3          60.0  Sin registro  \n",
      "4          75.0       55000.0  \n"
     ]
    }
   ],
   "source": [
    "df.fillna(\"Sin registro\", inplace =True) #Con fillna llenas los espacios nulos con algun valor que se asgine con la instrucion inplace\n",
    "\n",
    "print(df)"
   ]
  },
  {
   "cell_type": "code",
   "execution_count": 27,
   "metadata": {},
   "outputs": [
    {
     "name": "stdout",
     "output_type": "stream",
     "text": [
      "  Nombre          Edad         Fecha        Genero        Ciudad  Altura          Peso      Ingresos\n",
      "0   Juan          25.0    31/01/2020             M        Madrid     175          70.0       50000.0\n",
      "1  Maria          32.0    31/01/2020             F  Sin registro     163  Sin registro       60000.0\n",
      "2  Pedro  Sin registro  Sin registro  Sin registro        Madrid     180          80.0       40000.0\n",
      "3    Ana          42.0    31/01/2020             F      Valencia     158          60.0  Sin registro\n",
      "4   Luis          28.0    01/31/2020             M     Barcelona     170          75.0       55000.0\n"
     ]
    }
   ],
   "source": [
    "df.fillna(\"Sin registro\") \n",
    "\n",
    "print(df.to_string())#y con la funcion to string se acomoda el registro"
   ]
  },
  {
   "cell_type": "code",
   "execution_count": 35,
   "metadata": {},
   "outputs": [
    {
     "name": "stdout",
     "output_type": "stream",
     "text": [
      "  Nombre  Edad       Fecha Genero     Ciudad  Altura  Peso  Ingresos\n",
      "0   Juan  25.0  31/01/2020      M     Madrid     175  70.0   50000.0\n",
      "1  Maria  32.0  31/01/2020      F       None     163   NaN   60000.0\n",
      "2  Pedro   NaN        None   None     Madrid     180  80.0   40000.0\n",
      "3    Ana  42.0  31/01/2020      F   Valencia     158  60.0       0.0\n",
      "4   Luis  28.0  01/31/2020      M  Barcelona     170  75.0   55000.0\n"
     ]
    }
   ],
   "source": [
    "df[\"Ingresos\"].fillna(0, inplace =True)\n",
    "\n",
    "print(df.to_string())"
   ]
  },
  {
   "cell_type": "code",
   "execution_count": 36,
   "metadata": {},
   "outputs": [
    {
     "name": "stdout",
     "output_type": "stream",
     "text": [
      "0    50000.0\n",
      "1    60000.0\n",
      "2    40000.0\n",
      "3        0.0\n",
      "4    55000.0\n",
      "Name: Ingresos, dtype: float64\n"
     ]
    }
   ],
   "source": [
    "df_con_cero = df[\"Ingresos\"].fillna(0)\n",
    "\n",
    "print(df_con_cero)#Se supone que debe asignar un cero en donde dice sin registro, pero no lo hara porque no hay NaN ya estan llenas con sin registro"
   ]
  },
  {
   "cell_type": "code",
   "execution_count": 52,
   "metadata": {},
   "outputs": [
    {
     "data": {
      "text/html": [
       "<div>\n",
       "<style scoped>\n",
       "    .dataframe tbody tr th:only-of-type {\n",
       "        vertical-align: middle;\n",
       "    }\n",
       "\n",
       "    .dataframe tbody tr th {\n",
       "        vertical-align: top;\n",
       "    }\n",
       "\n",
       "    .dataframe thead th {\n",
       "        text-align: right;\n",
       "    }\n",
       "</style>\n",
       "<table border=\"1\" class=\"dataframe\">\n",
       "  <thead>\n",
       "    <tr style=\"text-align: right;\">\n",
       "      <th></th>\n",
       "      <th>Nombre</th>\n",
       "      <th>Edad</th>\n",
       "      <th>Fecha</th>\n",
       "      <th>Genero</th>\n",
       "      <th>Ciudad</th>\n",
       "      <th>Altura</th>\n",
       "      <th>Peso</th>\n",
       "      <th>Ingresos</th>\n",
       "    </tr>\n",
       "  </thead>\n",
       "  <tbody>\n",
       "    <tr>\n",
       "      <th>0</th>\n",
       "      <td>Juan</td>\n",
       "      <td>25.0</td>\n",
       "      <td>31/01/2020</td>\n",
       "      <td>M</td>\n",
       "      <td>Madrid</td>\n",
       "      <td>175</td>\n",
       "      <td>70.0</td>\n",
       "      <td>50000.0</td>\n",
       "    </tr>\n",
       "    <tr>\n",
       "      <th>1</th>\n",
       "      <td>Maria</td>\n",
       "      <td>32.0</td>\n",
       "      <td>31/01/2020</td>\n",
       "      <td>F</td>\n",
       "      <td>None</td>\n",
       "      <td>163</td>\n",
       "      <td>70.0</td>\n",
       "      <td>60000.0</td>\n",
       "    </tr>\n",
       "    <tr>\n",
       "      <th>2</th>\n",
       "      <td>Pedro</td>\n",
       "      <td>NaN</td>\n",
       "      <td>None</td>\n",
       "      <td>None</td>\n",
       "      <td>Madrid</td>\n",
       "      <td>180</td>\n",
       "      <td>80.0</td>\n",
       "      <td>40000.0</td>\n",
       "    </tr>\n",
       "    <tr>\n",
       "      <th>3</th>\n",
       "      <td>Ana</td>\n",
       "      <td>42.0</td>\n",
       "      <td>31/01/2020</td>\n",
       "      <td>F</td>\n",
       "      <td>Valencia</td>\n",
       "      <td>158</td>\n",
       "      <td>60.0</td>\n",
       "      <td>NaN</td>\n",
       "    </tr>\n",
       "    <tr>\n",
       "      <th>4</th>\n",
       "      <td>Luis</td>\n",
       "      <td>28.0</td>\n",
       "      <td>01/31/2020</td>\n",
       "      <td>M</td>\n",
       "      <td>Barcelona</td>\n",
       "      <td>170</td>\n",
       "      <td>75.0</td>\n",
       "      <td>55000.0</td>\n",
       "    </tr>\n",
       "  </tbody>\n",
       "</table>\n",
       "</div>"
      ],
      "text/plain": [
       "  Nombre  Edad       Fecha Genero     Ciudad  Altura  Peso  Ingresos\n",
       "0   Juan  25.0  31/01/2020      M     Madrid     175  70.0   50000.0\n",
       "1  Maria  32.0  31/01/2020      F       None     163  70.0   60000.0\n",
       "2  Pedro   NaN        None   None     Madrid     180  80.0   40000.0\n",
       "3    Ana  42.0  31/01/2020      F   Valencia     158  60.0       NaN\n",
       "4   Luis  28.0  01/31/2020      M  Barcelona     170  75.0   55000.0"
      ]
     },
     "execution_count": 52,
     "metadata": {},
     "output_type": "execute_result"
    }
   ],
   "source": [
    "df"
   ]
  },
  {
   "cell_type": "code",
   "execution_count": 43,
   "metadata": {},
   "outputs": [
    {
     "name": "stdout",
     "output_type": "stream",
     "text": [
      "51250.0\n"
     ]
    }
   ],
   "source": [
    "media = df[\"Ingresos\"].mean() #Esto devuelve la media \n",
    "\n",
    "print(media)"
   ]
  },
  {
   "cell_type": "code",
   "execution_count": 45,
   "metadata": {},
   "outputs": [
    {
     "name": "stdout",
     "output_type": "stream",
     "text": [
      "0    50000.0\n",
      "1    60000.0\n",
      "2    40000.0\n",
      "3    51250.0\n",
      "4    55000.0\n",
      "Name: Ingresos, dtype: float64\n"
     ]
    }
   ],
   "source": [
    "dataframe_media = df[\"Ingresos\"].fillna(media) #Con esta funcion agregamos la media al valor nulo o NaN\n",
    "\n",
    "print(dataframe_media)"
   ]
  },
  {
   "cell_type": "code",
   "execution_count": 46,
   "metadata": {},
   "outputs": [
    {
     "name": "stdout",
     "output_type": "stream",
     "text": [
      "52500.0\n"
     ]
    }
   ],
   "source": [
    "mediana = df[\"Ingresos\"].median() #Esto devuelve la mediana \n",
    "\n",
    "print(mediana)"
   ]
  },
  {
   "cell_type": "code",
   "execution_count": 47,
   "metadata": {},
   "outputs": [
    {
     "name": "stdout",
     "output_type": "stream",
     "text": [
      "0    50000.0\n",
      "1    60000.0\n",
      "2    40000.0\n",
      "3    52500.0\n",
      "4    55000.0\n",
      "Name: Ingresos, dtype: float64\n"
     ]
    }
   ],
   "source": [
    "dataframe_mediana = df[\"Ingresos\"].fillna(mediana) #Con esta funcion agregamos la mediana al valor nulo o NaN\n",
    "\n",
    "print(dataframe_mediana)"
   ]
  },
  {
   "cell_type": "code",
   "execution_count": 48,
   "metadata": {},
   "outputs": [
    {
     "name": "stdout",
     "output_type": "stream",
     "text": [
      "0    40000.0\n",
      "1    50000.0\n",
      "2    55000.0\n",
      "3    60000.0\n",
      "Name: Ingresos, dtype: float64\n"
     ]
    }
   ],
   "source": [
    "moda = df[\"Ingresos\"].mode() #Esto devuelve la moda, o sea que datos se repiten mas\n",
    "\n",
    "print(moda)"
   ]
  },
  {
   "cell_type": "code",
   "execution_count": 49,
   "metadata": {},
   "outputs": [
    {
     "name": "stdout",
     "output_type": "stream",
     "text": [
      "0    50000.0\n",
      "1    60000.0\n",
      "2    40000.0\n",
      "3    60000.0\n",
      "4    55000.0\n",
      "Name: Ingresos, dtype: float64\n"
     ]
    }
   ],
   "source": [
    "dataframe_moda = df[\"Ingresos\"].fillna(moda) #Con esta funcion agregamos la moda al valor nulo o NaN\n",
    "\n",
    "print(dataframe_moda)"
   ]
  },
  {
   "cell_type": "code",
   "execution_count": 58,
   "metadata": {},
   "outputs": [
    {
     "data": {
      "text/html": [
       "<div>\n",
       "<style scoped>\n",
       "    .dataframe tbody tr th:only-of-type {\n",
       "        vertical-align: middle;\n",
       "    }\n",
       "\n",
       "    .dataframe tbody tr th {\n",
       "        vertical-align: top;\n",
       "    }\n",
       "\n",
       "    .dataframe thead th {\n",
       "        text-align: right;\n",
       "    }\n",
       "</style>\n",
       "<table border=\"1\" class=\"dataframe\">\n",
       "  <thead>\n",
       "    <tr style=\"text-align: right;\">\n",
       "      <th></th>\n",
       "      <th>Nombre</th>\n",
       "      <th>Edad</th>\n",
       "      <th>Fecha</th>\n",
       "      <th>Genero</th>\n",
       "      <th>Ciudad</th>\n",
       "      <th>Altura</th>\n",
       "      <th>Peso</th>\n",
       "      <th>Ingresos</th>\n",
       "    </tr>\n",
       "  </thead>\n",
       "  <tbody>\n",
       "    <tr>\n",
       "      <th>0</th>\n",
       "      <td>Juan</td>\n",
       "      <td>25.0</td>\n",
       "      <td>31/01/2020</td>\n",
       "      <td>M</td>\n",
       "      <td>Madrid</td>\n",
       "      <td>175</td>\n",
       "      <td>70.0</td>\n",
       "      <td>50000.0</td>\n",
       "    </tr>\n",
       "    <tr>\n",
       "      <th>1</th>\n",
       "      <td>Maria</td>\n",
       "      <td>32.0</td>\n",
       "      <td>31/01/2020</td>\n",
       "      <td>F</td>\n",
       "      <td>None</td>\n",
       "      <td>163</td>\n",
       "      <td>NaN</td>\n",
       "      <td>60000.0</td>\n",
       "    </tr>\n",
       "    <tr>\n",
       "      <th>2</th>\n",
       "      <td>Pedro</td>\n",
       "      <td>NaN</td>\n",
       "      <td>None</td>\n",
       "      <td>None</td>\n",
       "      <td>Madrid</td>\n",
       "      <td>180</td>\n",
       "      <td>80.0</td>\n",
       "      <td>40000.0</td>\n",
       "    </tr>\n",
       "    <tr>\n",
       "      <th>3</th>\n",
       "      <td>Ana</td>\n",
       "      <td>42.0</td>\n",
       "      <td>31/01/2020</td>\n",
       "      <td>F</td>\n",
       "      <td>Valencia</td>\n",
       "      <td>158</td>\n",
       "      <td>60.0</td>\n",
       "      <td>NaN</td>\n",
       "    </tr>\n",
       "    <tr>\n",
       "      <th>4</th>\n",
       "      <td>Luis</td>\n",
       "      <td>28.0</td>\n",
       "      <td>01/31/2020</td>\n",
       "      <td>M</td>\n",
       "      <td>Barcelona</td>\n",
       "      <td>170</td>\n",
       "      <td>75.0</td>\n",
       "      <td>55000.0</td>\n",
       "    </tr>\n",
       "  </tbody>\n",
       "</table>\n",
       "</div>"
      ],
      "text/plain": [
       "  Nombre  Edad       Fecha Genero     Ciudad  Altura  Peso  Ingresos\n",
       "0   Juan  25.0  31/01/2020      M     Madrid     175  70.0   50000.0\n",
       "1  Maria  32.0  31/01/2020      F       None     163   NaN   60000.0\n",
       "2  Pedro   NaN        None   None     Madrid     180  80.0   40000.0\n",
       "3    Ana  42.0  31/01/2020      F   Valencia     158  60.0       NaN\n",
       "4   Luis  28.0  01/31/2020      M  Barcelona     170  75.0   55000.0"
      ]
     },
     "execution_count": 58,
     "metadata": {},
     "output_type": "execute_result"
    }
   ],
   "source": [
    "df"
   ]
  },
  {
   "cell_type": "code",
   "execution_count": 59,
   "metadata": {},
   "outputs": [
    {
     "name": "stdout",
     "output_type": "stream",
     "text": [
      "  Nombre  Edad       Fecha Genero     Ciudad  Altura  Peso  Ingresos\n",
      "0   Juan  25.0  31/01/2020      M     Madrid     175  70.0   50000.0\n",
      "1  Maria  32.0  31/01/2020      F       None     163  70.0   60000.0\n",
      "2  Pedro   NaN        None   None     Madrid     180  80.0   40000.0\n",
      "3    Ana  42.0  31/01/2020      F   Valencia     158  60.0       NaN\n",
      "4   Luis  28.0  01/31/2020      M  Barcelona     170  75.0   55000.0\n"
     ]
    }
   ],
   "source": [
    "df.loc[1, \"Peso\"] = 70 #Nos permite traer datos de un registro con la funcion loc\n",
    "\n",
    "print(df)"
   ]
  },
  {
   "cell_type": "code",
   "execution_count": 60,
   "metadata": {},
   "outputs": [
    {
     "data": {
      "text/plain": [
       "0    False\n",
       "1    False\n",
       "2    False\n",
       "3    False\n",
       "4    False\n",
       "dtype: bool"
      ]
     },
     "execution_count": 60,
     "metadata": {},
     "output_type": "execute_result"
    }
   ],
   "source": [
    "df.duplicated()#Esta funcion nos permite ver datos duplicados, en este caso son False, porque no hay registros de manera identica"
   ]
  },
  {
   "cell_type": "code",
   "execution_count": 66,
   "metadata": {},
   "outputs": [],
   "source": [
    "data = {\n",
    "    \"Nombre\": [\"Juan\", \"Maria\", \"Pedro\", \"Ana\", \"Luis\", \"Luis\"],\n",
    "    \"Edad\": [25, 32, None, 42, 28, 28],\n",
    "    \"Fecha\": [\"31/01/2020\", \"31/01/2020\", None, \"31/01/2020\", \"01/31/2020\", \"01/31/2020\"],\n",
    "    \"Genero\": [\"M\", \"F\", None, \"F\", \"M\", \"M\"],\n",
    "    \"Ciudad\": [\"Madrid\", None, \"Madrid\", \"Valencia\", \"Barcelona\", \"Barcelona\"],\n",
    "    \"Altura\": [175, 163, 180, 158, 170, 170],\n",
    "    \"Peso\": [70, None, 80, 60, 75, 75],\n",
    "    \"Ingresos\": [50000, 60000, 40000, None, 55000, 55000]\n",
    "}"
   ]
  },
  {
   "cell_type": "code",
   "execution_count": 68,
   "metadata": {},
   "outputs": [
    {
     "name": "stdout",
     "output_type": "stream",
     "text": [
      "  Nombre  Edad       Fecha Genero     Ciudad  Altura  Peso  Ingresos\n",
      "0   Juan  25.0  31/01/2020      M     Madrid     175  70.0   50000.0\n",
      "1  Maria  32.0  31/01/2020      F       None     163   NaN   60000.0\n",
      "2  Pedro   NaN        None   None     Madrid     180  80.0   40000.0\n",
      "3    Ana  42.0  31/01/2020      F   Valencia     158  60.0       NaN\n",
      "4   Luis  28.0  01/31/2020      M  Barcelona     170  75.0   55000.0\n",
      "5   Luis  28.0  01/31/2020      M  Barcelona     170  75.0   55000.0\n"
     ]
    }
   ],
   "source": [
    "df = pd.DataFrame(data)\n",
    "\n",
    "print(df)"
   ]
  },
  {
   "cell_type": "code",
   "execution_count": 69,
   "metadata": {},
   "outputs": [
    {
     "data": {
      "text/plain": [
       "0    False\n",
       "1    False\n",
       "2    False\n",
       "3    False\n",
       "4    False\n",
       "5     True\n",
       "dtype: bool"
      ]
     },
     "execution_count": 69,
     "metadata": {},
     "output_type": "execute_result"
    }
   ],
   "source": [
    "df.duplicated()#Con este ejercicio si tenemos el ultimo registro duplicado"
   ]
  },
  {
   "cell_type": "code",
   "execution_count": 72,
   "metadata": {},
   "outputs": [
    {
     "name": "stdout",
     "output_type": "stream",
     "text": [
      "  Nombre  Edad       Fecha Genero     Ciudad  Altura  Peso  Ingresos\n",
      "0   Juan  25.0  31/01/2020      M     Madrid     175  70.0   50000.0\n",
      "1  Maria  32.0  31/01/2020      F       None     163   NaN   60000.0\n",
      "2  Pedro   NaN        None   None     Madrid     180  80.0   40000.0\n",
      "3    Ana  42.0  31/01/2020      F   Valencia     158  60.0       NaN\n",
      "4   Luis  28.0  01/31/2020      M  Barcelona     170  75.0   55000.0\n"
     ]
    }
   ],
   "source": [
    "df.drop_duplicates(inplace = True)\n",
    "#Con esta funcion se elimina los duplicados y la funcion TRUE es para hacer cambios directamente en nuestro data frame\n",
    "\n",
    "print(df)"
   ]
  },
  {
   "cell_type": "code",
   "execution_count": 81,
   "metadata": {},
   "outputs": [
    {
     "name": "stdout",
     "output_type": "stream",
     "text": [
      "{'Nombre': ['Juan', 'Maria', 'Pedro', 'Ana', 'Luis', 'Luis'], 'Edad': [25, 32, None, 42, 28, 28], 'Fecha': ['31/01/2020', '31/01/2020', None, '31/01/2020', '01/31/2020', '01/31/2020'], 'Genero': ['M', 'F', None, 'F', 'M', 'M'], 'Ciudad': ['Madrid', None, 'Madrid', 'Valencia', 'Barcelona', 'Barcelona'], 'Altura': [175, 163, 180, 158, 170, 170], 'Peso': [70, None, 80, 60, 75, 75], 'Ingresos': [50000, 60000, 40000, None, 55000, 55000]}\n"
     ]
    }
   ],
   "source": [
    "data1 = {\n",
    "    \"A\":[1,2,3,4,5],\n",
    "    \"B\":[5,4,3,2,1],\n",
    "    \"C\":[2,4,6,8,10]\n",
    "}\n",
    "\n",
    "print(data)"
   ]
  },
  {
   "cell_type": "code",
   "execution_count": 83,
   "metadata": {},
   "outputs": [
    {
     "name": "stdout",
     "output_type": "stream",
     "text": [
      "   A  B   C\n",
      "0  1  5   2\n",
      "1  2  4   4\n",
      "2  3  3   6\n",
      "3  4  2   8\n",
      "4  5  1  10\n"
     ]
    }
   ],
   "source": [
    "df = pd.DataFrame(data1)\n",
    "\n",
    "print(df)"
   ]
  },
  {
   "cell_type": "code",
   "execution_count": 84,
   "metadata": {},
   "outputs": [
    {
     "data": {
      "text/html": [
       "<div>\n",
       "<style scoped>\n",
       "    .dataframe tbody tr th:only-of-type {\n",
       "        vertical-align: middle;\n",
       "    }\n",
       "\n",
       "    .dataframe tbody tr th {\n",
       "        vertical-align: top;\n",
       "    }\n",
       "\n",
       "    .dataframe thead th {\n",
       "        text-align: right;\n",
       "    }\n",
       "</style>\n",
       "<table border=\"1\" class=\"dataframe\">\n",
       "  <thead>\n",
       "    <tr style=\"text-align: right;\">\n",
       "      <th></th>\n",
       "      <th>A</th>\n",
       "      <th>B</th>\n",
       "      <th>C</th>\n",
       "    </tr>\n",
       "  </thead>\n",
       "  <tbody>\n",
       "    <tr>\n",
       "      <th>0</th>\n",
       "      <td>1</td>\n",
       "      <td>5</td>\n",
       "      <td>2</td>\n",
       "    </tr>\n",
       "    <tr>\n",
       "      <th>1</th>\n",
       "      <td>2</td>\n",
       "      <td>4</td>\n",
       "      <td>4</td>\n",
       "    </tr>\n",
       "    <tr>\n",
       "      <th>2</th>\n",
       "      <td>3</td>\n",
       "      <td>3</td>\n",
       "      <td>6</td>\n",
       "    </tr>\n",
       "    <tr>\n",
       "      <th>3</th>\n",
       "      <td>4</td>\n",
       "      <td>2</td>\n",
       "      <td>8</td>\n",
       "    </tr>\n",
       "    <tr>\n",
       "      <th>4</th>\n",
       "      <td>5</td>\n",
       "      <td>1</td>\n",
       "      <td>10</td>\n",
       "    </tr>\n",
       "  </tbody>\n",
       "</table>\n",
       "</div>"
      ],
      "text/plain": [
       "   A  B   C\n",
       "0  1  5   2\n",
       "1  2  4   4\n",
       "2  3  3   6\n",
       "3  4  2   8\n",
       "4  5  1  10"
      ]
     },
     "execution_count": 84,
     "metadata": {},
     "output_type": "execute_result"
    }
   ],
   "source": [
    "df"
   ]
  },
  {
   "cell_type": "code",
   "execution_count": 85,
   "metadata": {},
   "outputs": [
    {
     "data": {
      "text/html": [
       "<div>\n",
       "<style scoped>\n",
       "    .dataframe tbody tr th:only-of-type {\n",
       "        vertical-align: middle;\n",
       "    }\n",
       "\n",
       "    .dataframe tbody tr th {\n",
       "        vertical-align: top;\n",
       "    }\n",
       "\n",
       "    .dataframe thead th {\n",
       "        text-align: right;\n",
       "    }\n",
       "</style>\n",
       "<table border=\"1\" class=\"dataframe\">\n",
       "  <thead>\n",
       "    <tr style=\"text-align: right;\">\n",
       "      <th></th>\n",
       "      <th>A</th>\n",
       "      <th>B</th>\n",
       "      <th>C</th>\n",
       "    </tr>\n",
       "  </thead>\n",
       "  <tbody>\n",
       "    <tr>\n",
       "      <th>A</th>\n",
       "      <td>1.0</td>\n",
       "      <td>-1.0</td>\n",
       "      <td>1.0</td>\n",
       "    </tr>\n",
       "    <tr>\n",
       "      <th>B</th>\n",
       "      <td>-1.0</td>\n",
       "      <td>1.0</td>\n",
       "      <td>-1.0</td>\n",
       "    </tr>\n",
       "    <tr>\n",
       "      <th>C</th>\n",
       "      <td>1.0</td>\n",
       "      <td>-1.0</td>\n",
       "      <td>1.0</td>\n",
       "    </tr>\n",
       "  </tbody>\n",
       "</table>\n",
       "</div>"
      ],
      "text/plain": [
       "     A    B    C\n",
       "A  1.0 -1.0  1.0\n",
       "B -1.0  1.0 -1.0\n",
       "C  1.0 -1.0  1.0"
      ]
     },
     "execution_count": 85,
     "metadata": {},
     "output_type": "execute_result"
    }
   ],
   "source": [
    "\n",
    "df.corr()#Busca la correlacion con columnas, es utilizado con datos numericos propiamente, o correlacion de datos con las matrices"
   ]
  },
  {
   "cell_type": "code",
   "execution_count": 87,
   "metadata": {},
   "outputs": [],
   "source": [
    "data2 = {\n",
    "    \"Nombre\": [\"Juan\", \"Maria\", \"Pedro\", \"Ana\", \"Luis\"],\n",
    "    \"Edad\": [25, 32, None, 42, 28],\n",
    "    \"Fecha\": [\"31/01/2020\", \"31/01/2020\", None, \"31/01/2020\", \"01/31/2020\"],\n",
    "    \"Genero\": [\"M\", \"F\", None, \"F\", \"M\"],\n",
    "    \"Ciudad\": [\"Madrid\", None, \"Madrid\", \"Valencia\", \"Barcelona\"],\n",
    "    \"Altura\": [175, 163, 180, 158, 170],\n",
    "    \"Peso\": [70, None, 80, 60, 75],\n",
    "    \"Ingresos\": [50000, 60000, 40000, None, 55000]\n",
    "}\n",
    "#Hacer los rellenos de los datos de los cambios vacios"
   ]
  },
  {
   "cell_type": "code",
   "execution_count": 88,
   "metadata": {},
   "outputs": [],
   "source": [
    "df = pd.DataFrame(data2)\n"
   ]
  },
  {
   "cell_type": "code",
   "execution_count": 89,
   "metadata": {},
   "outputs": [
    {
     "data": {
      "text/html": [
       "<div>\n",
       "<style scoped>\n",
       "    .dataframe tbody tr th:only-of-type {\n",
       "        vertical-align: middle;\n",
       "    }\n",
       "\n",
       "    .dataframe tbody tr th {\n",
       "        vertical-align: top;\n",
       "    }\n",
       "\n",
       "    .dataframe thead th {\n",
       "        text-align: right;\n",
       "    }\n",
       "</style>\n",
       "<table border=\"1\" class=\"dataframe\">\n",
       "  <thead>\n",
       "    <tr style=\"text-align: right;\">\n",
       "      <th></th>\n",
       "      <th>Nombre</th>\n",
       "      <th>Edad</th>\n",
       "      <th>Fecha</th>\n",
       "      <th>Genero</th>\n",
       "      <th>Ciudad</th>\n",
       "      <th>Altura</th>\n",
       "      <th>Peso</th>\n",
       "      <th>Ingresos</th>\n",
       "    </tr>\n",
       "  </thead>\n",
       "  <tbody>\n",
       "    <tr>\n",
       "      <th>0</th>\n",
       "      <td>Juan</td>\n",
       "      <td>25.0</td>\n",
       "      <td>31/01/2020</td>\n",
       "      <td>M</td>\n",
       "      <td>Madrid</td>\n",
       "      <td>175</td>\n",
       "      <td>70.0</td>\n",
       "      <td>50000.0</td>\n",
       "    </tr>\n",
       "    <tr>\n",
       "      <th>1</th>\n",
       "      <td>Maria</td>\n",
       "      <td>32.0</td>\n",
       "      <td>31/01/2020</td>\n",
       "      <td>F</td>\n",
       "      <td>None</td>\n",
       "      <td>163</td>\n",
       "      <td>NaN</td>\n",
       "      <td>60000.0</td>\n",
       "    </tr>\n",
       "    <tr>\n",
       "      <th>2</th>\n",
       "      <td>Pedro</td>\n",
       "      <td>NaN</td>\n",
       "      <td>None</td>\n",
       "      <td>None</td>\n",
       "      <td>Madrid</td>\n",
       "      <td>180</td>\n",
       "      <td>80.0</td>\n",
       "      <td>40000.0</td>\n",
       "    </tr>\n",
       "    <tr>\n",
       "      <th>3</th>\n",
       "      <td>Ana</td>\n",
       "      <td>42.0</td>\n",
       "      <td>31/01/2020</td>\n",
       "      <td>F</td>\n",
       "      <td>Valencia</td>\n",
       "      <td>158</td>\n",
       "      <td>60.0</td>\n",
       "      <td>NaN</td>\n",
       "    </tr>\n",
       "    <tr>\n",
       "      <th>4</th>\n",
       "      <td>Luis</td>\n",
       "      <td>28.0</td>\n",
       "      <td>01/31/2020</td>\n",
       "      <td>M</td>\n",
       "      <td>Barcelona</td>\n",
       "      <td>170</td>\n",
       "      <td>75.0</td>\n",
       "      <td>55000.0</td>\n",
       "    </tr>\n",
       "  </tbody>\n",
       "</table>\n",
       "</div>"
      ],
      "text/plain": [
       "  Nombre  Edad       Fecha Genero     Ciudad  Altura  Peso  Ingresos\n",
       "0   Juan  25.0  31/01/2020      M     Madrid     175  70.0   50000.0\n",
       "1  Maria  32.0  31/01/2020      F       None     163   NaN   60000.0\n",
       "2  Pedro   NaN        None   None     Madrid     180  80.0   40000.0\n",
       "3    Ana  42.0  31/01/2020      F   Valencia     158  60.0       NaN\n",
       "4   Luis  28.0  01/31/2020      M  Barcelona     170  75.0   55000.0"
      ]
     },
     "execution_count": 89,
     "metadata": {},
     "output_type": "execute_result"
    }
   ],
   "source": [
    "df"
   ]
  },
  {
   "cell_type": "code",
   "execution_count": 90,
   "metadata": {},
   "outputs": [
    {
     "data": {
      "text/html": [
       "<div>\n",
       "<style scoped>\n",
       "    .dataframe tbody tr th:only-of-type {\n",
       "        vertical-align: middle;\n",
       "    }\n",
       "\n",
       "    .dataframe tbody tr th {\n",
       "        vertical-align: top;\n",
       "    }\n",
       "\n",
       "    .dataframe thead th {\n",
       "        text-align: right;\n",
       "    }\n",
       "</style>\n",
       "<table border=\"1\" class=\"dataframe\">\n",
       "  <thead>\n",
       "    <tr style=\"text-align: right;\">\n",
       "      <th></th>\n",
       "      <th>Nombre</th>\n",
       "      <th>Edad</th>\n",
       "      <th>Fecha</th>\n",
       "      <th>Genero</th>\n",
       "      <th>Ciudad</th>\n",
       "      <th>Altura</th>\n",
       "      <th>Peso</th>\n",
       "      <th>Ingresos</th>\n",
       "    </tr>\n",
       "  </thead>\n",
       "  <tbody>\n",
       "    <tr>\n",
       "      <th>0</th>\n",
       "      <td>Juan</td>\n",
       "      <td>25.0</td>\n",
       "      <td>31/01/2020</td>\n",
       "      <td>M</td>\n",
       "      <td>Madrid</td>\n",
       "      <td>175</td>\n",
       "      <td>70.0</td>\n",
       "      <td>50000.0</td>\n",
       "    </tr>\n",
       "    <tr>\n",
       "      <th>1</th>\n",
       "      <td>Maria</td>\n",
       "      <td>32.0</td>\n",
       "      <td>31/01/2020</td>\n",
       "      <td>F</td>\n",
       "      <td>None</td>\n",
       "      <td>163</td>\n",
       "      <td>NaN</td>\n",
       "      <td>60000.0</td>\n",
       "    </tr>\n",
       "    <tr>\n",
       "      <th>2</th>\n",
       "      <td>Pedro</td>\n",
       "      <td>30.0</td>\n",
       "      <td>None</td>\n",
       "      <td>None</td>\n",
       "      <td>Madrid</td>\n",
       "      <td>180</td>\n",
       "      <td>80.0</td>\n",
       "      <td>40000.0</td>\n",
       "    </tr>\n",
       "    <tr>\n",
       "      <th>3</th>\n",
       "      <td>Ana</td>\n",
       "      <td>42.0</td>\n",
       "      <td>31/01/2020</td>\n",
       "      <td>F</td>\n",
       "      <td>Valencia</td>\n",
       "      <td>158</td>\n",
       "      <td>60.0</td>\n",
       "      <td>NaN</td>\n",
       "    </tr>\n",
       "    <tr>\n",
       "      <th>4</th>\n",
       "      <td>Luis</td>\n",
       "      <td>28.0</td>\n",
       "      <td>01/31/2020</td>\n",
       "      <td>M</td>\n",
       "      <td>Barcelona</td>\n",
       "      <td>170</td>\n",
       "      <td>75.0</td>\n",
       "      <td>55000.0</td>\n",
       "    </tr>\n",
       "  </tbody>\n",
       "</table>\n",
       "</div>"
      ],
      "text/plain": [
       "  Nombre  Edad       Fecha Genero     Ciudad  Altura  Peso  Ingresos\n",
       "0   Juan  25.0  31/01/2020      M     Madrid     175  70.0   50000.0\n",
       "1  Maria  32.0  31/01/2020      F       None     163   NaN   60000.0\n",
       "2  Pedro  30.0        None   None     Madrid     180  80.0   40000.0\n",
       "3    Ana  42.0  31/01/2020      F   Valencia     158  60.0       NaN\n",
       "4   Luis  28.0  01/31/2020      M  Barcelona     170  75.0   55000.0"
      ]
     },
     "execution_count": 90,
     "metadata": {},
     "output_type": "execute_result"
    }
   ],
   "source": [
    "df.loc[2, \"Edad\"] = 30 #Se agrego edad faltante\n",
    "\n",
    "df"
   ]
  },
  {
   "cell_type": "code",
   "execution_count": 91,
   "metadata": {},
   "outputs": [
    {
     "data": {
      "text/html": [
       "<div>\n",
       "<style scoped>\n",
       "    .dataframe tbody tr th:only-of-type {\n",
       "        vertical-align: middle;\n",
       "    }\n",
       "\n",
       "    .dataframe tbody tr th {\n",
       "        vertical-align: top;\n",
       "    }\n",
       "\n",
       "    .dataframe thead th {\n",
       "        text-align: right;\n",
       "    }\n",
       "</style>\n",
       "<table border=\"1\" class=\"dataframe\">\n",
       "  <thead>\n",
       "    <tr style=\"text-align: right;\">\n",
       "      <th></th>\n",
       "      <th>Nombre</th>\n",
       "      <th>Edad</th>\n",
       "      <th>Fecha</th>\n",
       "      <th>Genero</th>\n",
       "      <th>Ciudad</th>\n",
       "      <th>Altura</th>\n",
       "      <th>Peso</th>\n",
       "      <th>Ingresos</th>\n",
       "    </tr>\n",
       "  </thead>\n",
       "  <tbody>\n",
       "    <tr>\n",
       "      <th>0</th>\n",
       "      <td>Juan</td>\n",
       "      <td>25.0</td>\n",
       "      <td>31/01/2020</td>\n",
       "      <td>M</td>\n",
       "      <td>Madrid</td>\n",
       "      <td>175</td>\n",
       "      <td>70.0</td>\n",
       "      <td>50000.0</td>\n",
       "    </tr>\n",
       "    <tr>\n",
       "      <th>1</th>\n",
       "      <td>Maria</td>\n",
       "      <td>32.0</td>\n",
       "      <td>31/01/2020</td>\n",
       "      <td>F</td>\n",
       "      <td>None</td>\n",
       "      <td>163</td>\n",
       "      <td>NaN</td>\n",
       "      <td>60000.0</td>\n",
       "    </tr>\n",
       "    <tr>\n",
       "      <th>2</th>\n",
       "      <td>Pedro</td>\n",
       "      <td>30.0</td>\n",
       "      <td>31/01/2020</td>\n",
       "      <td>None</td>\n",
       "      <td>Madrid</td>\n",
       "      <td>180</td>\n",
       "      <td>80.0</td>\n",
       "      <td>40000.0</td>\n",
       "    </tr>\n",
       "    <tr>\n",
       "      <th>3</th>\n",
       "      <td>Ana</td>\n",
       "      <td>42.0</td>\n",
       "      <td>31/01/2020</td>\n",
       "      <td>F</td>\n",
       "      <td>Valencia</td>\n",
       "      <td>158</td>\n",
       "      <td>60.0</td>\n",
       "      <td>NaN</td>\n",
       "    </tr>\n",
       "    <tr>\n",
       "      <th>4</th>\n",
       "      <td>Luis</td>\n",
       "      <td>28.0</td>\n",
       "      <td>01/31/2020</td>\n",
       "      <td>M</td>\n",
       "      <td>Barcelona</td>\n",
       "      <td>170</td>\n",
       "      <td>75.0</td>\n",
       "      <td>55000.0</td>\n",
       "    </tr>\n",
       "  </tbody>\n",
       "</table>\n",
       "</div>"
      ],
      "text/plain": [
       "  Nombre  Edad       Fecha Genero     Ciudad  Altura  Peso  Ingresos\n",
       "0   Juan  25.0  31/01/2020      M     Madrid     175  70.0   50000.0\n",
       "1  Maria  32.0  31/01/2020      F       None     163   NaN   60000.0\n",
       "2  Pedro  30.0  31/01/2020   None     Madrid     180  80.0   40000.0\n",
       "3    Ana  42.0  31/01/2020      F   Valencia     158  60.0       NaN\n",
       "4   Luis  28.0  01/31/2020      M  Barcelona     170  75.0   55000.0"
      ]
     },
     "execution_count": 91,
     "metadata": {},
     "output_type": "execute_result"
    }
   ],
   "source": [
    "df.loc[2, 'Fecha'] = \"31/01/2020\" #Se agrego fecha\n",
    "\n",
    "df"
   ]
  },
  {
   "cell_type": "code",
   "execution_count": 92,
   "metadata": {},
   "outputs": [
    {
     "data": {
      "text/html": [
       "<div>\n",
       "<style scoped>\n",
       "    .dataframe tbody tr th:only-of-type {\n",
       "        vertical-align: middle;\n",
       "    }\n",
       "\n",
       "    .dataframe tbody tr th {\n",
       "        vertical-align: top;\n",
       "    }\n",
       "\n",
       "    .dataframe thead th {\n",
       "        text-align: right;\n",
       "    }\n",
       "</style>\n",
       "<table border=\"1\" class=\"dataframe\">\n",
       "  <thead>\n",
       "    <tr style=\"text-align: right;\">\n",
       "      <th></th>\n",
       "      <th>Nombre</th>\n",
       "      <th>Edad</th>\n",
       "      <th>Fecha</th>\n",
       "      <th>Genero</th>\n",
       "      <th>Ciudad</th>\n",
       "      <th>Altura</th>\n",
       "      <th>Peso</th>\n",
       "      <th>Ingresos</th>\n",
       "    </tr>\n",
       "  </thead>\n",
       "  <tbody>\n",
       "    <tr>\n",
       "      <th>0</th>\n",
       "      <td>Juan</td>\n",
       "      <td>25.0</td>\n",
       "      <td>31/01/2020</td>\n",
       "      <td>M</td>\n",
       "      <td>Madrid</td>\n",
       "      <td>175</td>\n",
       "      <td>70.0</td>\n",
       "      <td>50000.0</td>\n",
       "    </tr>\n",
       "    <tr>\n",
       "      <th>1</th>\n",
       "      <td>Maria</td>\n",
       "      <td>32.0</td>\n",
       "      <td>31/01/2020</td>\n",
       "      <td>F</td>\n",
       "      <td>None</td>\n",
       "      <td>163</td>\n",
       "      <td>NaN</td>\n",
       "      <td>60000.0</td>\n",
       "    </tr>\n",
       "    <tr>\n",
       "      <th>2</th>\n",
       "      <td>Pedro</td>\n",
       "      <td>30.0</td>\n",
       "      <td>31/01/2020</td>\n",
       "      <td>M</td>\n",
       "      <td>Madrid</td>\n",
       "      <td>180</td>\n",
       "      <td>80.0</td>\n",
       "      <td>40000.0</td>\n",
       "    </tr>\n",
       "    <tr>\n",
       "      <th>3</th>\n",
       "      <td>Ana</td>\n",
       "      <td>42.0</td>\n",
       "      <td>31/01/2020</td>\n",
       "      <td>F</td>\n",
       "      <td>Valencia</td>\n",
       "      <td>158</td>\n",
       "      <td>60.0</td>\n",
       "      <td>NaN</td>\n",
       "    </tr>\n",
       "    <tr>\n",
       "      <th>4</th>\n",
       "      <td>Luis</td>\n",
       "      <td>28.0</td>\n",
       "      <td>01/31/2020</td>\n",
       "      <td>M</td>\n",
       "      <td>Barcelona</td>\n",
       "      <td>170</td>\n",
       "      <td>75.0</td>\n",
       "      <td>55000.0</td>\n",
       "    </tr>\n",
       "  </tbody>\n",
       "</table>\n",
       "</div>"
      ],
      "text/plain": [
       "  Nombre  Edad       Fecha Genero     Ciudad  Altura  Peso  Ingresos\n",
       "0   Juan  25.0  31/01/2020      M     Madrid     175  70.0   50000.0\n",
       "1  Maria  32.0  31/01/2020      F       None     163   NaN   60000.0\n",
       "2  Pedro  30.0  31/01/2020      M     Madrid     180  80.0   40000.0\n",
       "3    Ana  42.0  31/01/2020      F   Valencia     158  60.0       NaN\n",
       "4   Luis  28.0  01/31/2020      M  Barcelona     170  75.0   55000.0"
      ]
     },
     "execution_count": 92,
     "metadata": {},
     "output_type": "execute_result"
    }
   ],
   "source": [
    "df.loc[2, \"Genero\"] = \"M\" #Se agrego genero\n",
    "\n",
    "df"
   ]
  },
  {
   "cell_type": "code",
   "execution_count": 93,
   "metadata": {},
   "outputs": [
    {
     "data": {
      "text/html": [
       "<div>\n",
       "<style scoped>\n",
       "    .dataframe tbody tr th:only-of-type {\n",
       "        vertical-align: middle;\n",
       "    }\n",
       "\n",
       "    .dataframe tbody tr th {\n",
       "        vertical-align: top;\n",
       "    }\n",
       "\n",
       "    .dataframe thead th {\n",
       "        text-align: right;\n",
       "    }\n",
       "</style>\n",
       "<table border=\"1\" class=\"dataframe\">\n",
       "  <thead>\n",
       "    <tr style=\"text-align: right;\">\n",
       "      <th></th>\n",
       "      <th>Nombre</th>\n",
       "      <th>Edad</th>\n",
       "      <th>Fecha</th>\n",
       "      <th>Genero</th>\n",
       "      <th>Ciudad</th>\n",
       "      <th>Altura</th>\n",
       "      <th>Peso</th>\n",
       "      <th>Ingresos</th>\n",
       "    </tr>\n",
       "  </thead>\n",
       "  <tbody>\n",
       "    <tr>\n",
       "      <th>0</th>\n",
       "      <td>Juan</td>\n",
       "      <td>25.0</td>\n",
       "      <td>31/01/2020</td>\n",
       "      <td>M</td>\n",
       "      <td>Madrid</td>\n",
       "      <td>175</td>\n",
       "      <td>70.0</td>\n",
       "      <td>50000.0</td>\n",
       "    </tr>\n",
       "    <tr>\n",
       "      <th>1</th>\n",
       "      <td>Maria</td>\n",
       "      <td>32.0</td>\n",
       "      <td>31/01/2020</td>\n",
       "      <td>F</td>\n",
       "      <td>Sevilla</td>\n",
       "      <td>163</td>\n",
       "      <td>NaN</td>\n",
       "      <td>60000.0</td>\n",
       "    </tr>\n",
       "    <tr>\n",
       "      <th>2</th>\n",
       "      <td>Pedro</td>\n",
       "      <td>30.0</td>\n",
       "      <td>31/01/2020</td>\n",
       "      <td>M</td>\n",
       "      <td>Madrid</td>\n",
       "      <td>180</td>\n",
       "      <td>80.0</td>\n",
       "      <td>40000.0</td>\n",
       "    </tr>\n",
       "    <tr>\n",
       "      <th>3</th>\n",
       "      <td>Ana</td>\n",
       "      <td>42.0</td>\n",
       "      <td>31/01/2020</td>\n",
       "      <td>F</td>\n",
       "      <td>Valencia</td>\n",
       "      <td>158</td>\n",
       "      <td>60.0</td>\n",
       "      <td>NaN</td>\n",
       "    </tr>\n",
       "    <tr>\n",
       "      <th>4</th>\n",
       "      <td>Luis</td>\n",
       "      <td>28.0</td>\n",
       "      <td>01/31/2020</td>\n",
       "      <td>M</td>\n",
       "      <td>Barcelona</td>\n",
       "      <td>170</td>\n",
       "      <td>75.0</td>\n",
       "      <td>55000.0</td>\n",
       "    </tr>\n",
       "  </tbody>\n",
       "</table>\n",
       "</div>"
      ],
      "text/plain": [
       "  Nombre  Edad       Fecha Genero     Ciudad  Altura  Peso  Ingresos\n",
       "0   Juan  25.0  31/01/2020      M     Madrid     175  70.0   50000.0\n",
       "1  Maria  32.0  31/01/2020      F    Sevilla     163   NaN   60000.0\n",
       "2  Pedro  30.0  31/01/2020      M     Madrid     180  80.0   40000.0\n",
       "3    Ana  42.0  31/01/2020      F   Valencia     158  60.0       NaN\n",
       "4   Luis  28.0  01/31/2020      M  Barcelona     170  75.0   55000.0"
      ]
     },
     "execution_count": 93,
     "metadata": {},
     "output_type": "execute_result"
    }
   ],
   "source": [
    "df.loc[1, \"Ciudad\"] =\"Sevilla\" #Se agrego ciudad\n",
    "\n",
    "df"
   ]
  },
  {
   "cell_type": "code",
   "execution_count": 94,
   "metadata": {},
   "outputs": [
    {
     "data": {
      "text/html": [
       "<div>\n",
       "<style scoped>\n",
       "    .dataframe tbody tr th:only-of-type {\n",
       "        vertical-align: middle;\n",
       "    }\n",
       "\n",
       "    .dataframe tbody tr th {\n",
       "        vertical-align: top;\n",
       "    }\n",
       "\n",
       "    .dataframe thead th {\n",
       "        text-align: right;\n",
       "    }\n",
       "</style>\n",
       "<table border=\"1\" class=\"dataframe\">\n",
       "  <thead>\n",
       "    <tr style=\"text-align: right;\">\n",
       "      <th></th>\n",
       "      <th>Nombre</th>\n",
       "      <th>Edad</th>\n",
       "      <th>Fecha</th>\n",
       "      <th>Genero</th>\n",
       "      <th>Ciudad</th>\n",
       "      <th>Altura</th>\n",
       "      <th>Peso</th>\n",
       "      <th>Ingresos</th>\n",
       "    </tr>\n",
       "  </thead>\n",
       "  <tbody>\n",
       "    <tr>\n",
       "      <th>0</th>\n",
       "      <td>Juan</td>\n",
       "      <td>25.0</td>\n",
       "      <td>31/01/2020</td>\n",
       "      <td>M</td>\n",
       "      <td>Madrid</td>\n",
       "      <td>175</td>\n",
       "      <td>70.0</td>\n",
       "      <td>50000.0</td>\n",
       "    </tr>\n",
       "    <tr>\n",
       "      <th>1</th>\n",
       "      <td>Maria</td>\n",
       "      <td>32.0</td>\n",
       "      <td>31/01/2020</td>\n",
       "      <td>F</td>\n",
       "      <td>Sevilla</td>\n",
       "      <td>163</td>\n",
       "      <td>60.0</td>\n",
       "      <td>60000.0</td>\n",
       "    </tr>\n",
       "    <tr>\n",
       "      <th>2</th>\n",
       "      <td>Pedro</td>\n",
       "      <td>30.0</td>\n",
       "      <td>31/01/2020</td>\n",
       "      <td>M</td>\n",
       "      <td>Madrid</td>\n",
       "      <td>180</td>\n",
       "      <td>80.0</td>\n",
       "      <td>40000.0</td>\n",
       "    </tr>\n",
       "    <tr>\n",
       "      <th>3</th>\n",
       "      <td>Ana</td>\n",
       "      <td>42.0</td>\n",
       "      <td>31/01/2020</td>\n",
       "      <td>F</td>\n",
       "      <td>Valencia</td>\n",
       "      <td>158</td>\n",
       "      <td>60.0</td>\n",
       "      <td>NaN</td>\n",
       "    </tr>\n",
       "    <tr>\n",
       "      <th>4</th>\n",
       "      <td>Luis</td>\n",
       "      <td>28.0</td>\n",
       "      <td>01/31/2020</td>\n",
       "      <td>M</td>\n",
       "      <td>Barcelona</td>\n",
       "      <td>170</td>\n",
       "      <td>75.0</td>\n",
       "      <td>55000.0</td>\n",
       "    </tr>\n",
       "  </tbody>\n",
       "</table>\n",
       "</div>"
      ],
      "text/plain": [
       "  Nombre  Edad       Fecha Genero     Ciudad  Altura  Peso  Ingresos\n",
       "0   Juan  25.0  31/01/2020      M     Madrid     175  70.0   50000.0\n",
       "1  Maria  32.0  31/01/2020      F    Sevilla     163  60.0   60000.0\n",
       "2  Pedro  30.0  31/01/2020      M     Madrid     180  80.0   40000.0\n",
       "3    Ana  42.0  31/01/2020      F   Valencia     158  60.0       NaN\n",
       "4   Luis  28.0  01/31/2020      M  Barcelona     170  75.0   55000.0"
      ]
     },
     "execution_count": 94,
     "metadata": {},
     "output_type": "execute_result"
    }
   ],
   "source": [
    "df.loc[1, \"Peso\"] = 60 #Se agrego peso\n",
    "\n",
    "df"
   ]
  },
  {
   "cell_type": "code",
   "execution_count": 95,
   "metadata": {},
   "outputs": [
    {
     "data": {
      "text/html": [
       "<div>\n",
       "<style scoped>\n",
       "    .dataframe tbody tr th:only-of-type {\n",
       "        vertical-align: middle;\n",
       "    }\n",
       "\n",
       "    .dataframe tbody tr th {\n",
       "        vertical-align: top;\n",
       "    }\n",
       "\n",
       "    .dataframe thead th {\n",
       "        text-align: right;\n",
       "    }\n",
       "</style>\n",
       "<table border=\"1\" class=\"dataframe\">\n",
       "  <thead>\n",
       "    <tr style=\"text-align: right;\">\n",
       "      <th></th>\n",
       "      <th>Nombre</th>\n",
       "      <th>Edad</th>\n",
       "      <th>Fecha</th>\n",
       "      <th>Genero</th>\n",
       "      <th>Ciudad</th>\n",
       "      <th>Altura</th>\n",
       "      <th>Peso</th>\n",
       "      <th>Ingresos</th>\n",
       "    </tr>\n",
       "  </thead>\n",
       "  <tbody>\n",
       "    <tr>\n",
       "      <th>0</th>\n",
       "      <td>Juan</td>\n",
       "      <td>25.0</td>\n",
       "      <td>31/01/2020</td>\n",
       "      <td>M</td>\n",
       "      <td>Madrid</td>\n",
       "      <td>175</td>\n",
       "      <td>70.0</td>\n",
       "      <td>50000.0</td>\n",
       "    </tr>\n",
       "    <tr>\n",
       "      <th>1</th>\n",
       "      <td>Maria</td>\n",
       "      <td>32.0</td>\n",
       "      <td>31/01/2020</td>\n",
       "      <td>F</td>\n",
       "      <td>Sevilla</td>\n",
       "      <td>163</td>\n",
       "      <td>60.0</td>\n",
       "      <td>60000.0</td>\n",
       "    </tr>\n",
       "    <tr>\n",
       "      <th>2</th>\n",
       "      <td>Pedro</td>\n",
       "      <td>30.0</td>\n",
       "      <td>31/01/2020</td>\n",
       "      <td>M</td>\n",
       "      <td>Madrid</td>\n",
       "      <td>180</td>\n",
       "      <td>80.0</td>\n",
       "      <td>40000.0</td>\n",
       "    </tr>\n",
       "    <tr>\n",
       "      <th>3</th>\n",
       "      <td>Ana</td>\n",
       "      <td>42.0</td>\n",
       "      <td>31/01/2020</td>\n",
       "      <td>F</td>\n",
       "      <td>Valencia</td>\n",
       "      <td>158</td>\n",
       "      <td>60.0</td>\n",
       "      <td>65000.0</td>\n",
       "    </tr>\n",
       "    <tr>\n",
       "      <th>4</th>\n",
       "      <td>Luis</td>\n",
       "      <td>28.0</td>\n",
       "      <td>01/31/2020</td>\n",
       "      <td>M</td>\n",
       "      <td>Barcelona</td>\n",
       "      <td>170</td>\n",
       "      <td>75.0</td>\n",
       "      <td>55000.0</td>\n",
       "    </tr>\n",
       "  </tbody>\n",
       "</table>\n",
       "</div>"
      ],
      "text/plain": [
       "  Nombre  Edad       Fecha Genero     Ciudad  Altura  Peso  Ingresos\n",
       "0   Juan  25.0  31/01/2020      M     Madrid     175  70.0   50000.0\n",
       "1  Maria  32.0  31/01/2020      F    Sevilla     163  60.0   60000.0\n",
       "2  Pedro  30.0  31/01/2020      M     Madrid     180  80.0   40000.0\n",
       "3    Ana  42.0  31/01/2020      F   Valencia     158  60.0   65000.0\n",
       "4   Luis  28.0  01/31/2020      M  Barcelona     170  75.0   55000.0"
      ]
     },
     "execution_count": 95,
     "metadata": {},
     "output_type": "execute_result"
    }
   ],
   "source": [
    "df.loc[3, \"Ingresos\"] = 65000 #Se agrego ingreso\n",
    "\n",
    "df"
   ]
  },
  {
   "cell_type": "code",
   "execution_count": 97,
   "metadata": {},
   "outputs": [
    {
     "data": {
      "text/html": [
       "<div>\n",
       "<style scoped>\n",
       "    .dataframe tbody tr th:only-of-type {\n",
       "        vertical-align: middle;\n",
       "    }\n",
       "\n",
       "    .dataframe tbody tr th {\n",
       "        vertical-align: top;\n",
       "    }\n",
       "\n",
       "    .dataframe thead th {\n",
       "        text-align: right;\n",
       "    }\n",
       "</style>\n",
       "<table border=\"1\" class=\"dataframe\">\n",
       "  <thead>\n",
       "    <tr style=\"text-align: right;\">\n",
       "      <th></th>\n",
       "      <th>Nombre</th>\n",
       "      <th>Edad</th>\n",
       "      <th>Fecha</th>\n",
       "      <th>Genero</th>\n",
       "      <th>Ciudad</th>\n",
       "      <th>Altura</th>\n",
       "      <th>Peso</th>\n",
       "      <th>Ingresos</th>\n",
       "    </tr>\n",
       "  </thead>\n",
       "  <tbody>\n",
       "    <tr>\n",
       "      <th>0</th>\n",
       "      <td>Juan</td>\n",
       "      <td>25.0</td>\n",
       "      <td>31/01/2020</td>\n",
       "      <td>M</td>\n",
       "      <td>Madrid</td>\n",
       "      <td>175</td>\n",
       "      <td>70.0</td>\n",
       "      <td>50000.0</td>\n",
       "    </tr>\n",
       "    <tr>\n",
       "      <th>1</th>\n",
       "      <td>Maria</td>\n",
       "      <td>32.0</td>\n",
       "      <td>31/01/2020</td>\n",
       "      <td>F</td>\n",
       "      <td>Sevilla</td>\n",
       "      <td>163</td>\n",
       "      <td>60.0</td>\n",
       "      <td>60000.0</td>\n",
       "    </tr>\n",
       "    <tr>\n",
       "      <th>2</th>\n",
       "      <td>Pedro</td>\n",
       "      <td>30.0</td>\n",
       "      <td>31/01/2020</td>\n",
       "      <td>M</td>\n",
       "      <td>Madrid</td>\n",
       "      <td>180</td>\n",
       "      <td>80.0</td>\n",
       "      <td>40000.0</td>\n",
       "    </tr>\n",
       "    <tr>\n",
       "      <th>3</th>\n",
       "      <td>Ana</td>\n",
       "      <td>42.0</td>\n",
       "      <td>31/01/2020</td>\n",
       "      <td>F</td>\n",
       "      <td>Valencia</td>\n",
       "      <td>158</td>\n",
       "      <td>60.0</td>\n",
       "      <td>65000.0</td>\n",
       "    </tr>\n",
       "    <tr>\n",
       "      <th>4</th>\n",
       "      <td>Luis</td>\n",
       "      <td>28.0</td>\n",
       "      <td>31/01/2020</td>\n",
       "      <td>M</td>\n",
       "      <td>Barcelona</td>\n",
       "      <td>170</td>\n",
       "      <td>75.0</td>\n",
       "      <td>55000.0</td>\n",
       "    </tr>\n",
       "  </tbody>\n",
       "</table>\n",
       "</div>"
      ],
      "text/plain": [
       "  Nombre  Edad       Fecha Genero     Ciudad  Altura  Peso  Ingresos\n",
       "0   Juan  25.0  31/01/2020      M     Madrid     175  70.0   50000.0\n",
       "1  Maria  32.0  31/01/2020      F    Sevilla     163  60.0   60000.0\n",
       "2  Pedro  30.0  31/01/2020      M     Madrid     180  80.0   40000.0\n",
       "3    Ana  42.0  31/01/2020      F   Valencia     158  60.0   65000.0\n",
       "4   Luis  28.0  31/01/2020      M  Barcelona     170  75.0   55000.0"
      ]
     },
     "execution_count": 97,
     "metadata": {},
     "output_type": "execute_result"
    }
   ],
   "source": [
    "df.loc[4, \"Fecha\"] = \"31/01/2020\"\n",
    "\n",
    "df"
   ]
  },
  {
   "cell_type": "code",
   "execution_count": 98,
   "metadata": {},
   "outputs": [
    {
     "data": {
      "text/html": [
       "<div>\n",
       "<style scoped>\n",
       "    .dataframe tbody tr th:only-of-type {\n",
       "        vertical-align: middle;\n",
       "    }\n",
       "\n",
       "    .dataframe tbody tr th {\n",
       "        vertical-align: top;\n",
       "    }\n",
       "\n",
       "    .dataframe thead th {\n",
       "        text-align: right;\n",
       "    }\n",
       "</style>\n",
       "<table border=\"1\" class=\"dataframe\">\n",
       "  <thead>\n",
       "    <tr style=\"text-align: right;\">\n",
       "      <th></th>\n",
       "      <th>Nombre</th>\n",
       "      <th>Edad</th>\n",
       "      <th>Fecha</th>\n",
       "      <th>Genero</th>\n",
       "      <th>Ciudad</th>\n",
       "      <th>Altura</th>\n",
       "      <th>Peso</th>\n",
       "      <th>Ingresos</th>\n",
       "    </tr>\n",
       "  </thead>\n",
       "  <tbody>\n",
       "    <tr>\n",
       "      <th>0</th>\n",
       "      <td>Juan</td>\n",
       "      <td>25.0</td>\n",
       "      <td>31/01/2020</td>\n",
       "      <td>M</td>\n",
       "      <td>Madrid</td>\n",
       "      <td>175</td>\n",
       "      <td>70.0</td>\n",
       "      <td>50000.0</td>\n",
       "    </tr>\n",
       "    <tr>\n",
       "      <th>1</th>\n",
       "      <td>Maria</td>\n",
       "      <td>32.0</td>\n",
       "      <td>31/01/2020</td>\n",
       "      <td>F</td>\n",
       "      <td>Sevilla</td>\n",
       "      <td>163</td>\n",
       "      <td>60.0</td>\n",
       "      <td>60000.0</td>\n",
       "    </tr>\n",
       "    <tr>\n",
       "      <th>2</th>\n",
       "      <td>Pedro</td>\n",
       "      <td>30.0</td>\n",
       "      <td>31/01/2020</td>\n",
       "      <td>M</td>\n",
       "      <td>Madrid</td>\n",
       "      <td>180</td>\n",
       "      <td>80.0</td>\n",
       "      <td>40000.0</td>\n",
       "    </tr>\n",
       "    <tr>\n",
       "      <th>3</th>\n",
       "      <td>Ana</td>\n",
       "      <td>42.0</td>\n",
       "      <td>31/01/2020</td>\n",
       "      <td>F</td>\n",
       "      <td>Valencia</td>\n",
       "      <td>158</td>\n",
       "      <td>60.0</td>\n",
       "      <td>65000.0</td>\n",
       "    </tr>\n",
       "    <tr>\n",
       "      <th>4</th>\n",
       "      <td>Luis</td>\n",
       "      <td>28.0</td>\n",
       "      <td>31/01/2020</td>\n",
       "      <td>M</td>\n",
       "      <td>Barcelona</td>\n",
       "      <td>170</td>\n",
       "      <td>75.0</td>\n",
       "      <td>55000.0</td>\n",
       "    </tr>\n",
       "  </tbody>\n",
       "</table>\n",
       "</div>"
      ],
      "text/plain": [
       "  Nombre  Edad       Fecha Genero     Ciudad  Altura  Peso  Ingresos\n",
       "0   Juan  25.0  31/01/2020      M     Madrid     175  70.0   50000.0\n",
       "1  Maria  32.0  31/01/2020      F    Sevilla     163  60.0   60000.0\n",
       "2  Pedro  30.0  31/01/2020      M     Madrid     180  80.0   40000.0\n",
       "3    Ana  42.0  31/01/2020      F   Valencia     158  60.0   65000.0\n",
       "4   Luis  28.0  31/01/2020      M  Barcelona     170  75.0   55000.0"
      ]
     },
     "execution_count": 98,
     "metadata": {},
     "output_type": "execute_result"
    }
   ],
   "source": [
    "df #Dataframe completo"
   ]
  },
  {
   "cell_type": "markdown",
   "metadata": {},
   "source": [
    "Matplotlib"
   ]
  },
  {
   "cell_type": "code",
   "execution_count": 86,
   "metadata": {},
   "outputs": [
    {
     "name": "stdout",
     "output_type": "stream",
     "text": [
      "Collecting matplotlib\n",
      "  Downloading matplotlib-3.7.2-cp39-cp39-win_amd64.whl (7.5 MB)\n",
      "Requirement already satisfied: python-dateutil>=2.7 in c:\\users\\cross\\appdata\\local\\programs\\python\\python39\\lib\\site-packages (from matplotlib) (2.8.2)\n",
      "Requirement already satisfied: packaging>=20.0 in c:\\users\\cross\\appdata\\local\\programs\\python\\python39\\lib\\site-packages (from matplotlib) (20.9)\n",
      "Collecting cycler>=0.10\n",
      "  Downloading cycler-0.11.0-py3-none-any.whl (6.4 kB)\n",
      "Collecting kiwisolver>=1.0.1\n",
      "  Downloading kiwisolver-1.4.4-cp39-cp39-win_amd64.whl (55 kB)\n",
      "Requirement already satisfied: numpy>=1.20 in c:\\users\\cross\\appdata\\local\\programs\\python\\python39\\lib\\site-packages (from matplotlib) (1.21.0)\n",
      "Requirement already satisfied: pyparsing<3.1,>=2.3.1 in c:\\users\\cross\\appdata\\local\\programs\\python\\python39\\lib\\site-packages (from matplotlib) (2.4.7)\n",
      "Collecting contourpy>=1.0.1\n",
      "  Downloading contourpy-1.1.0-cp39-cp39-win_amd64.whl (429 kB)\n",
      "Collecting fonttools>=4.22.0\n",
      "  Downloading fonttools-4.41.0-cp39-cp39-win_amd64.whl (2.0 MB)\n",
      "Collecting importlib-resources>=3.2.0\n",
      "  Downloading importlib_resources-6.0.0-py3-none-any.whl (31 kB)\n",
      "Requirement already satisfied: pillow>=6.2.0 in c:\\users\\cross\\appdata\\local\\programs\\python\\python39\\lib\\site-packages (from matplotlib) (8.3.1)\n",
      "Collecting zipp>=3.1.0\n",
      "  Downloading zipp-3.16.1-py3-none-any.whl (7.2 kB)\n",
      "Requirement already satisfied: six>=1.5 in c:\\users\\cross\\appdata\\local\\programs\\python\\python39\\lib\\site-packages (from python-dateutil>=2.7->matplotlib) (1.15.0)\n",
      "Installing collected packages: zipp, kiwisolver, importlib-resources, fonttools, cycler, contourpy, matplotlib\n",
      "Successfully installed contourpy-1.1.0 cycler-0.11.0 fonttools-4.41.0 importlib-resources-6.0.0 kiwisolver-1.4.4 matplotlib-3.7.2 zipp-3.16.1\n",
      "Note: you may need to restart the kernel to use updated packages.\n"
     ]
    },
    {
     "name": "stderr",
     "output_type": "stream",
     "text": [
      "WARNING: Value for scheme.headers does not match. Please report this to <https://github.com/pypa/pip/issues/9617>\n",
      "distutils: c:\\Users\\cross\\AppData\\Local\\Programs\\Python\\Python39\\Include\\UNKNOWN\n",
      "sysconfig: c:\\Users\\cross\\AppData\\Local\\Programs\\Python\\Python39\\Include\n",
      "WARNING: Additional context:\n",
      "user = False\n",
      "home = None\n",
      "root = None\n",
      "prefix = None\n",
      "WARNING: Value for scheme.headers does not match. Please report this to <https://github.com/pypa/pip/issues/9617>\n",
      "distutils: c:\\Users\\cross\\AppData\\Local\\Programs\\Python\\Python39\\Include\\UNKNOWN\n",
      "sysconfig: c:\\Users\\cross\\AppData\\Local\\Programs\\Python\\Python39\\Include\n",
      "WARNING: Additional context:\n",
      "user = False\n",
      "home = None\n",
      "root = None\n",
      "prefix = None\n",
      "WARNING: You are using pip version 21.1; however, version 23.1.2 is available.\n",
      "You should consider upgrading via the 'c:\\Users\\cross\\AppData\\Local\\Programs\\Python\\Python39\\python.exe -m pip install --upgrade pip' command.\n"
     ]
    }
   ],
   "source": [
    "pip install matplotlib"
   ]
  },
  {
   "cell_type": "code",
   "execution_count": 99,
   "metadata": {},
   "outputs": [],
   "source": [
    "import matplotlib as plt"
   ]
  },
  {
   "cell_type": "code",
   "execution_count": 100,
   "metadata": {},
   "outputs": [],
   "source": [
    "import matplotlib.pyplot as plt #La serie pyplot es para las graficas de puntos"
   ]
  },
  {
   "cell_type": "markdown",
   "metadata": {},
   "source": [
    "Plot"
   ]
  },
  {
   "cell_type": "code",
   "execution_count": 102,
   "metadata": {},
   "outputs": [
    {
     "data": {
      "image/png": "[encoded data removed]",
      "text/plain": [
       "<Figure size 432x288 with 1 Axes>"
      ]
     },
     "metadata": {
      "needs_background": "light"
     },
     "output_type": "display_data"
    }
   ],
   "source": [
    "import numpy as np\n",
    "\n",
    "puntos_x = np.array([0,4,8,16])\n",
    "\n",
    "puntos_y = np.array([6,12,24,48])\n",
    "\n",
    "plt.plot(puntos_x, puntos_y)\n",
    "plt.show() #Este comando muestra la grafica"
   ]
  },
  {
   "cell_type": "code",
   "execution_count": 103,
   "metadata": {},
   "outputs": [
    {
     "data": {
      "image/png": "[encoded data removed]",
      "text/plain": [
       "<Figure size 432x288 with 1 Axes>"
      ]
     },
     "metadata": {
      "needs_background": "light"
     },
     "output_type": "display_data"
    }
   ],
   "source": [
    "x1 = np.array([0,1,2,3])\n",
    "y1= np.array([3,8,1,10])\n",
    "x2= np.array([0,1,2,3])\n",
    "y2= np.array([6,2,7,11])\n",
    "\n",
    "plt.plot(x1, y1, x2, y2)\n",
    "plt.show()"
   ]
  },
  {
   "cell_type": "code",
   "execution_count": 104,
   "metadata": {},
   "outputs": [
    {
     "data": {
      "text/plain": [
       "[<matplotlib.lines.Line2D at 0x252c7dea7f0>]"
      ]
     },
     "execution_count": 104,
     "metadata": {},
     "output_type": "execute_result"
    },
    {
     "data": {
      "image/png": "[encoded data removed]",
      "text/plain": [
       "<Figure size 432x288 with 1 Axes>"
      ]
     },
     "metadata": {
      "needs_background": "light"
     },
     "output_type": "display_data"
    }
   ],
   "source": [
    "y1= np.array([3,8,1,10])\n",
    "y2= np.array([6,2,7,11])\n",
    "\n",
    "plt.plot(y1)\n",
    "plt.plot(y2)"
   ]
  },
  {
   "cell_type": "markdown",
   "metadata": {},
   "source": [
    "Formato"
   ]
  },
  {
   "cell_type": "code",
   "execution_count": 105,
   "metadata": {},
   "outputs": [
    {
     "data": {
      "image/png": "[encoded data removed]",
      "text/plain": [
       "<Figure size 432x288 with 1 Axes>"
      ]
     },
     "metadata": {
      "needs_background": "light"
     },
     "output_type": "display_data"
    }
   ],
   "source": [
    "puntos_y = np.array([6,12,24,48])\n",
    "\n",
    "plt.plot(puntos_y, 'o')\n",
    "plt.show()\n"
   ]
  },
  {
   "cell_type": "code",
   "execution_count": 106,
   "metadata": {},
   "outputs": [
    {
     "data": {
      "image/png": "[encoded data removed]",
      "text/plain": [
       "<Figure size 432x288 with 1 Axes>"
      ]
     },
     "metadata": {
      "needs_background": "light"
     },
     "output_type": "display_data"
    }
   ],
   "source": [
    "plt.plot(puntos_x, puntos_y, '*')\n",
    "plt.show()\n",
    "\n",
    "#Marcador\n",
    "\n",
    "#'o'\n",
    "#'*'\n",
    "#'.'\n",
    "#','\n",
    "#'x'\n",
    "#'X'\n",
    "#'+'\n",
    "#'p'\n",
    "#'s'\n",
    "#'D'\n",
    "#'d'\n",
    "#'H'\n",
    "#'h'\n",
    "#'v'\n",
    "#'^'\n",
    "#'<'\n",
    "#'>'\n",
    "#'1'\n",
    "#'2'\n",
    "#'3'\n",
    "#'4'\n",
    "#'|'\n",
    "#'_'\n"
   ]
  },
  {
   "cell_type": "code",
   "execution_count": 107,
   "metadata": {},
   "outputs": [
    {
     "data": {
      "image/png": "[encoded data removed]",
      "text/plain": [
       "<Figure size 432x288 with 1 Axes>"
      ]
     },
     "metadata": {
      "needs_background": "light"
     },
     "output_type": "display_data"
    }
   ],
   "source": [
    "plt.plot(puntos_x, puntos_y, '-')\n",
    "\n",
    "plt.show()\n",
    "\n",
    "#Linea\n",
    "\n",
    "#'-'\n",
    "#':'\n",
    "#'--'\n",
    "#'-.'\n"
   ]
  },
  {
   "cell_type": "code",
   "execution_count": 108,
   "metadata": {},
   "outputs": [
    {
     "data": {
      "image/png": "[encoded data removed]",
      "text/plain": [
       "<Figure size 432x288 with 1 Axes>"
      ]
     },
     "metadata": {
      "needs_background": "light"
     },
     "output_type": "display_data"
    }
   ],
   "source": [
    "plt.plot(puntos_x, puntos_y, 'r')\n",
    "\n",
    "plt.show()\n",
    "\n",
    "#Color\n",
    "\n",
    "#'r'\n",
    "#'g'\n",
    "#'b'\n",
    "#'c'\n",
    "#'m'\n",
    "#'y'\n",
    "#'k'\n",
    "#'w'"
   ]
  },
  {
   "cell_type": "code",
   "execution_count": 109,
   "metadata": {},
   "outputs": [
    {
     "data": {
      "image/png": "[encoded data removed]",
      "text/plain": [
       "<Figure size 432x288 with 1 Axes>"
      ]
     },
     "metadata": {
      "needs_background": "light"
     },
     "output_type": "display_data"
    }
   ],
   "source": [
    "plt.plot(puntos_x, puntos_y, 'g')\n",
    "\n",
    "plt.show()\n",
    "\n",
    "#Color\n",
    "\n",
    "#'r'\n",
    "#'g'\n",
    "#'b'\n",
    "#'c'\n",
    "#'m'\n",
    "#'y'\n",
    "#'k'\n",
    "#'w'"
   ]
  },
  {
   "cell_type": "code",
   "execution_count": 110,
   "metadata": {},
   "outputs": [
    {
     "data": {
      "image/png": "[encoded data removed]",
      "text/plain": [
       "<Figure size 432x288 with 1 Axes>"
      ]
     },
     "metadata": {
      "needs_background": "light"
     },
     "output_type": "display_data"
    }
   ],
   "source": [
    "plt.plot(puntos_x, puntos_y, 'o--g')\n",
    "\n",
    "plt.show()\n"
   ]
  },
  {
   "cell_type": "code",
   "execution_count": 111,
   "metadata": {},
   "outputs": [
    {
     "data": {
      "image/png": "[encoded data removed]",
      "text/plain": [
       "<Figure size 432x288 with 1 Axes>"
      ]
     },
     "metadata": {
      "needs_background": "light"
     },
     "output_type": "display_data"
    }
   ],
   "source": [
    "plt.plot(puntos_x, puntos_y, 'o--k', ms=16, mec='r', linewidth='16')\n",
    "\n",
    "plt.show()"
   ]
  },
  {
   "cell_type": "markdown",
   "metadata": {},
   "source": [
    "Descripcion"
   ]
  },
  {
   "cell_type": "code",
   "execution_count": 114,
   "metadata": {},
   "outputs": [
    {
     "data": {
      "image/png": "[encoded data removed]",
      "text/plain": [
       "<Figure size 432x288 with 1 Axes>"
      ]
     },
     "metadata": {
      "needs_background": "light"
     },
     "output_type": "display_data"
    }
   ],
   "source": [
    "x = np.array([80, 85, 90, 95, 100, 105, 110, 115, 120, 125])\n",
    "y = np.array([240, 250, 260, 270, 280, 290, 300, 310, 320, 330])\n",
    "\n",
    "plt.plot(x,y)\n",
    "plt.title('Estadisticas deportivas')\n",
    "plt.xlabel('Pulso promedio')\n",
    "plt.ylabel('Quema de calorias')\n",
    "\n",
    "plt.show()"
   ]
  },
  {
   "cell_type": "code",
   "execution_count": 116,
   "metadata": {},
   "outputs": [
    {
     "data": {
      "image/png": "[encoded data removed]",
      "text/plain": [
       "<Figure size 432x288 with 1 Axes>"
      ]
     },
     "metadata": {
      "needs_background": "light"
     },
     "output_type": "display_data"
    }
   ],
   "source": [
    "plt.plot(x,y)\n",
    "\n",
    "font1 = {'family':'serif', 'color':'blue', 'size':20}\n",
    "font2 = {'family':'serif', 'color':'darkred', 'size':15}\n",
    "\n",
    "plt.title('Estadisticas deportivas', fontdict=font1)\n",
    "plt.xlabel('Pulso promedio', fontdict=font2)\n",
    "plt.ylabel('Quema de calorias', fontdict=font2)\n",
    "\n",
    "plt.show()\n"
   ]
  },
  {
   "cell_type": "code",
   "execution_count": 117,
   "metadata": {},
   "outputs": [
    {
     "data": {
      "image/png": "[encoded data removed]",
      "text/plain": [
       "<Figure size 432x288 with 1 Axes>"
      ]
     },
     "metadata": {
      "needs_background": "light"
     },
     "output_type": "display_data"
    }
   ],
   "source": [
    "plt.title('Estadisticas deportivas', loc= 'left')\n",
    "plt.xlabel('Pulso promedio')\n",
    "plt.ylabel('Quema de calorias')\n",
    "\n",
    "plt.plot(x,y)\n",
    "plt.show()"
   ]
  },
  {
   "cell_type": "markdown",
   "metadata": {},
   "source": [
    "Grid"
   ]
  },
  {
   "cell_type": "code",
   "execution_count": 118,
   "metadata": {},
   "outputs": [
    {
     "data": {
      "image/png": "[encoded data removed]",
      "text/plain": [
       "<Figure size 432x288 with 1 Axes>"
      ]
     },
     "metadata": {
      "needs_background": "light"
     },
     "output_type": "display_data"
    }
   ],
   "source": [
    "x = np.array([80, 85, 90, 95, 100, 105, 110, 115, 120, 125])\n",
    "y = np.array([240, 250, 260, 270, 280, 290, 300, 310, 320, 330])\n",
    "\n",
    "plt.plot(x,y)\n",
    "plt.title('Estadisticas deportivas')\n",
    "plt.xlabel('Pulso promedio')\n",
    "plt.ylabel('Quema de calorias')\n",
    "\n",
    "plt.grid()\n",
    "plt.show()"
   ]
  },
  {
   "cell_type": "code",
   "execution_count": 119,
   "metadata": {},
   "outputs": [
    {
     "data": {
      "image/png": "[encoded data removed]",
      "text/plain": [
       "<Figure size 432x288 with 1 Axes>"
      ]
     },
     "metadata": {
      "needs_background": "light"
     },
     "output_type": "display_data"
    }
   ],
   "source": [
    "x = np.array([80, 85, 90, 95, 100, 105, 110, 115, 120, 125])\n",
    "y = np.array([240, 250, 260, 270, 280, 290, 300, 310, 320, 330])\n",
    "\n",
    "plt.plot(x,y)\n",
    "plt.title('Estadisticas deportivas')\n",
    "plt.xlabel('Pulso promedio')\n",
    "plt.ylabel('Quema de calorias')\n",
    "\n",
    "plt.grid(axis = 'x', linestyle ='--', linewidth =1)\n",
    "plt.show()"
   ]
  },
  {
   "cell_type": "markdown",
   "metadata": {},
   "source": [
    "multiples graficos"
   ]
  },
  {
   "cell_type": "code",
   "execution_count": 120,
   "metadata": {},
   "outputs": [
    {
     "data": {
      "image/png": "[encoded data removed]",
      "text/plain": [
       "<Figure size 432x288 with 2 Axes>"
      ]
     },
     "metadata": {
      "needs_background": "light"
     },
     "output_type": "display_data"
    }
   ],
   "source": [
    "#plot 1\n",
    "x = np.array([0,1,2,3])\n",
    "y = np.array([3,8,1,10])\n",
    "\n",
    "plt.subplot(1,2,1)\n",
    "plt.plot(x,y)\n",
    "\n",
    "#plot 2\n",
    "x = np.array([0,1,2,3])\n",
    "y = np.array([10, 20, 30, 40])\n",
    "\n",
    "plt.subplot(1,2,2)\n",
    "plt.plot(x,y)\n",
    "\n",
    "plt.show()"
   ]
  },
  {
   "cell_type": "code",
   "execution_count": 121,
   "metadata": {},
   "outputs": [
    {
     "data": {
      "image/png": "[encoded data removed]",
      "text/plain": [
       "<Figure size 432x288 with 2 Axes>"
      ]
     },
     "metadata": {
      "needs_background": "light"
     },
     "output_type": "display_data"
    }
   ],
   "source": [
    "#plot 1\n",
    "x = np.array([0,1,2,3])\n",
    "y = np.array([3,8,1,10])\n",
    "\n",
    "plt.subplot(2,1,1)\n",
    "plt.plot(x,y)\n",
    "\n",
    "#plot 2\n",
    "x = np.array([0,1,2,3])\n",
    "y = np.array([10, 20, 30, 40])\n",
    "\n",
    "plt.subplot(2,1,2)\n",
    "plt.plot(x,y)\n",
    "\n",
    "plt.show()"
   ]
  },
  {
   "cell_type": "code",
   "execution_count": 123,
   "metadata": {},
   "outputs": [
    {
     "data": {
      "image/png": "[encoded data removed]",
      "text/plain": [
       "<Figure size 432x288 with 2 Axes>"
      ]
     },
     "metadata": {
      "needs_background": "light"
     },
     "output_type": "display_data"
    }
   ],
   "source": [
    "#plot 1\n",
    "x = np.array([0,1,2,3])\n",
    "y = np.array([3,8,1,10])\n",
    "\n",
    "plt.subplot(1,2,1)\n",
    "plt.plot(x,y)\n",
    "plt.title('VENTAS')\n",
    "\n",
    "#plot 2\n",
    "x = np.array([0,1,2,3])\n",
    "y = np.array([10, 20, 30, 40])\n",
    "\n",
    "plt.subplot(1,2,2)\n",
    "plt.plot(x,y)\n",
    "plt.title('INGRESOS')\n",
    "\n",
    "plt.suptitle('2023')\n",
    "plt.savefig('ejemplo.png')\n",
    "plt.savefig('ejemplo.pdf')\n",
    "plt.savefig('ejemplo.svg')\n",
    "plt.show()"
   ]
  },
  {
   "cell_type": "markdown",
   "metadata": {},
   "source": [
    "Scatter"
   ]
  },
  {
   "cell_type": "code",
   "execution_count": 124,
   "metadata": {},
   "outputs": [
    {
     "data": {
      "image/png": "[encoded data removed]",
      "text/plain": [
       "<Figure size 432x288 with 1 Axes>"
      ]
     },
     "metadata": {
      "needs_background": "light"
     },
     "output_type": "display_data"
    }
   ],
   "source": [
    "x = np.array([5,7,8,7,2,17,2,9,4,11,12,9,6])\n",
    "y = np.array([99,86,87,88,111,86,103,87,94,78,77,85,86]) #Scatter son las graficas de puntos\n",
    "\n",
    "plt.scatter(x,y)\n",
    "plt.show()"
   ]
  },
  {
   "cell_type": "code",
   "execution_count": 126,
   "metadata": {},
   "outputs": [
    {
     "data": {
      "image/png": "[encoded data removed]",
      "text/plain": [
       "<Figure size 432x288 with 1 Axes>"
      ]
     },
     "metadata": {
      "needs_background": "light"
     },
     "output_type": "display_data"
    }
   ],
   "source": [
    "#Day one, the age and speed of 13 cars\n",
    "x = np.array([5,7,8,7,2,17,2,9,4,11,12,9,6])\n",
    "y = np.array([99,86,87,88,111,86,103,87,94,78,77,85,86]) #Scatter son las graficas de puntos\n",
    "plt.scatter(x,y)\n",
    "\n",
    "#Day two, the age and speed of 15 cars\n",
    "x = np.array([2,2,8,1,15,8,12,9,7,3,11,4,7,14,12])\n",
    "y = np.array([100,105,84,105,90,99,90,95,94,100,79,112,91,80,85])\n",
    "plt.scatter(x,y)\n",
    "\n",
    "plt.show()"
   ]
  },
  {
   "cell_type": "code",
   "execution_count": 127,
   "metadata": {},
   "outputs": [
    {
     "data": {
      "image/png": "[encoded data removed]",
      "text/plain": [
       "<Figure size 432x288 with 1 Axes>"
      ]
     },
     "metadata": {
      "needs_background": "light"
     },
     "output_type": "display_data"
    }
   ],
   "source": [
    "#Day one, the age and speed of 13 cars\n",
    "x = np.array([5,7,8,7,2,17,2,9,4,11,12,9,6])\n",
    "y = np.array([99,86,87,88,111,86,103,87,94,78,77,85,86]) #Scatter son las graficas de puntos\n",
    "plt.scatter(x,y, color ='hotpink')\n",
    "\n",
    "#Day two, the age and speed of 15 cars\n",
    "x = np.array([2,2,8,1,15,8,12,9,7,3,11,4,7,14,12])\n",
    "y = np.array([100,105,84,105,90,99,90,95,94,100,79,112,91,80,85])\n",
    "plt.scatter(x,y, color =\"#88c999\")\n",
    "\n",
    "plt.show()"
   ]
  },
  {
   "cell_type": "code",
   "execution_count": 130,
   "metadata": {},
   "outputs": [
    {
     "data": {
      "image/png": "[encoded data removed]",
      "text/plain": [
       "<Figure size 432x288 with 1 Axes>"
      ]
     },
     "metadata": {
      "needs_background": "light"
     },
     "output_type": "display_data"
    }
   ],
   "source": [
    "x = np.array([5,7,8,7,2,17,2,9,4,11,12,9,6])\n",
    "y = np.array([99,86,87,88,111,86,103,87,94,78,77,85,86])\n",
    "\n",
    "colors = np.array(['red','green','blue','yellow','pink','black','orange','purple','beige','brown','gray','cyan','magenta'])\n",
    "\n",
    "plt.scatter(x,y, c= colors)\n",
    "\n",
    "plt.show()"
   ]
  },
  {
   "cell_type": "code",
   "execution_count": 131,
   "metadata": {},
   "outputs": [
    {
     "data": {
      "image/png": "[encoded data removed]",
      "text/plain": [
       "<Figure size 432x288 with 1 Axes>"
      ]
     },
     "metadata": {
      "needs_background": "light"
     },
     "output_type": "display_data"
    }
   ],
   "source": [
    "x = np.array([5,7,8,7,2,17,2,9,4,11,12,9,6])\n",
    "y = np.array([99,86,87,88,111,86,103,87,94,78,77,85,86])\n",
    "\n",
    "sizes = np.array([20,50,100,200,500,1000,60,90,10,300,600,800,75])\n",
    "\n",
    "plt.scatter(x,y, s= sizes)\n",
    "\n",
    "plt.show()"
   ]
  },
  {
   "cell_type": "code",
   "execution_count": 132,
   "metadata": {},
   "outputs": [
    {
     "data": {
      "image/png": "[encoded data removed]",
      "text/plain": [
       "<Figure size 432x288 with 1 Axes>"
      ]
     },
     "metadata": {
      "needs_background": "light"
     },
     "output_type": "display_data"
    }
   ],
   "source": [
    "x = np.array([5,7,8,7,2,17,2,9,4,11,12,9,6])\n",
    "y = np.array([99,86,87,88,111,86,103,87,94,78,77,85,86])\n",
    "\n",
    "colors = np.array(['red','green','blue','yellow','pink','black','orange','purple','beige','brown','gray','cyan','magenta'])\n",
    "sizes = np.array([20,50,100,200,500,1000,60,90,10,300,600,800,75])\n",
    "\n",
    "plt.scatter(x,y, s= sizes, c=colors)\n",
    "\n",
    "plt.show()"
   ]
  },
  {
   "cell_type": "code",
   "execution_count": 133,
   "metadata": {},
   "outputs": [
    {
     "data": {
      "image/png": "[encoded data removed]",
      "text/plain": [
       "<Figure size 432x288 with 1 Axes>"
      ]
     },
     "metadata": {
      "needs_background": "light"
     },
     "output_type": "display_data"
    }
   ],
   "source": [
    "x = np.array([5,7,8,7,2,17,2,9,4,11,12,9,6])\n",
    "y = np.array([99,86,87,88,111,86,103,87,94,78,77,85,86])\n",
    "\n",
    "colors = np.array(['red','green','blue','yellow','pink','black','orange','purple','beige','brown','gray','cyan','magenta'])\n",
    "sizes = np.array([20,50,100,200,500,1000,60,90,10,300,600,800,75])\n",
    "\n",
    "plt.scatter(x,y, s= sizes, c=colors, alpha =0.5)\n",
    "\n",
    "plt.show()"
   ]
  },
  {
   "cell_type": "code",
   "execution_count": 136,
   "metadata": {},
   "outputs": [
    {
     "data": {
      "image/png": "[encoded data removed]",
      "text/plain": [
       "<Figure size 432x288 with 2 Axes>"
      ]
     },
     "metadata": {
      "needs_background": "light"
     },
     "output_type": "display_data"
    }
   ],
   "source": [
    "x = np.random.randint(100, size=(100))\n",
    "y = np.random.randint(100, size=(100))\n",
    "\n",
    "colors = np.random.randint(100, size=(100))\n",
    "sizes = 10* np.random.randint(100, size=(100))\n",
    "\n",
    "plt.scatter(x,y, c=colors, s=sizes,alpha =0.5, cmap='nipy_spectral')\n",
    "\n",
    "plt.colorbar()\n",
    "\n",
    "plt.show()\n"
   ]
  },
  {
   "cell_type": "code",
   "execution_count": 137,
   "metadata": {},
   "outputs": [
    {
     "data": {
      "image/png": "[encoded data removed]",
      "text/plain": [
       "<Figure size 432x288 with 2 Axes>"
      ]
     },
     "metadata": {
      "needs_background": "light"
     },
     "output_type": "display_data"
    }
   ],
   "source": [
    "x = np.random.randint(100, size=(100))\n",
    "y = np.random.randint(100, size=(100))\n",
    "\n",
    "colors = np.random.randint(100, size=(100))\n",
    "\n",
    "plt.scatter(x,y, c=colors, cmap='viridis')\n",
    "\n",
    "plt.colorbar()\n",
    "\n",
    "plt.show()"
   ]
  },
  {
   "cell_type": "markdown",
   "metadata": {},
   "source": [
    "Barra"
   ]
  },
  {
   "cell_type": "code",
   "execution_count": 139,
   "metadata": {},
   "outputs": [
    {
     "data": {
      "image/png": "[encoded data removed]",
      "text/plain": [
       "<Figure size 432x288 with 1 Axes>"
      ]
     },
     "metadata": {
      "needs_background": "light"
     },
     "output_type": "display_data"
    }
   ],
   "source": [
    "x = np.array(['A','B','C','D'])\n",
    "y = np.array([3,8,1,10])\n",
    "\n",
    "plt.bar(x,y)\n",
    "plt.show()"
   ]
  },
  {
   "cell_type": "code",
   "execution_count": 140,
   "metadata": {},
   "outputs": [
    {
     "data": {
      "image/png": "[encoded data removed]",
      "text/plain": [
       "<Figure size 432x288 with 1 Axes>"
      ]
     },
     "metadata": {
      "needs_background": "light"
     },
     "output_type": "display_data"
    }
   ],
   "source": [
    "x = np.array(['A','B','C','D'])\n",
    "y = np.array([3,8,1,10])\n",
    "\n",
    "plt.bar(x,y, color ='red')\n",
    "plt.show()"
   ]
  },
  {
   "cell_type": "code",
   "execution_count": 141,
   "metadata": {},
   "outputs": [
    {
     "data": {
      "image/png": "[encoded data removed]",
      "text/plain": [
       "<Figure size 432x288 with 1 Axes>"
      ]
     },
     "metadata": {
      "needs_background": "light"
     },
     "output_type": "display_data"
    }
   ],
   "source": [
    "x = np.array(['A','B','C','D'])\n",
    "y = np.array([3,8,1,10])\n",
    "\n",
    "plt.bar(x,y, width =0.1)\n",
    "plt.show()"
   ]
  },
  {
   "cell_type": "code",
   "execution_count": 143,
   "metadata": {},
   "outputs": [
    {
     "data": {
      "image/png": "[encoded data removed]",
      "text/plain": [
       "<Figure size 432x288 with 1 Axes>"
      ]
     },
     "metadata": {
      "needs_background": "light"
     },
     "output_type": "display_data"
    }
   ],
   "source": [
    "x = np.array(['A','B','C','D'])\n",
    "y = np.array([3,8,1,10])\n",
    "\n",
    "plt.barh(x,y)\n",
    "\n",
    "plt.show()"
   ]
  },
  {
   "cell_type": "code",
   "execution_count": 145,
   "metadata": {},
   "outputs": [
    {
     "data": {
      "image/png": "[encoded data removed]",
      "text/plain": [
       "<Figure size 432x288 with 1 Axes>"
      ]
     },
     "metadata": {
      "needs_background": "light"
     },
     "output_type": "display_data"
    }
   ],
   "source": [
    "x = np.array(['A','B','C','D'])\n",
    "y = np.array([3,8,1,10])\n",
    "\n",
    "plt.barh(x,y, height =0.1)\n",
    "plt.show()"
   ]
  },
  {
   "cell_type": "markdown",
   "metadata": {},
   "source": [
    "Histograma"
   ]
  },
  {
   "cell_type": "code",
   "execution_count": 147,
   "metadata": {},
   "outputs": [
    {
     "data": {
      "image/png": "[encoded data removed]",
      "text/plain": [
       "<Figure size 432x288 with 1 Axes>"
      ]
     },
     "metadata": {
      "needs_background": "light"
     },
     "output_type": "display_data"
    }
   ],
   "source": [
    "x =np.random.normal(170,10,250)\n",
    "\n",
    "plt.hist(x)\n",
    "plt.show()"
   ]
  },
  {
   "cell_type": "markdown",
   "metadata": {},
   "source": [
    "Pastel"
   ]
  },
  {
   "cell_type": "code",
   "execution_count": 148,
   "metadata": {},
   "outputs": [
    {
     "data": {
      "image/png": "[encoded data removed]",
      "text/plain": [
       "<Figure size 432x288 with 1 Axes>"
      ]
     },
     "metadata": {},
     "output_type": "display_data"
    }
   ],
   "source": [
    "y = np.array([35,25,25,15])\n",
    "\n",
    "plt.pie(y)\n",
    "plt.show()"
   ]
  },
  {
   "cell_type": "code",
   "execution_count": 149,
   "metadata": {},
   "outputs": [
    {
     "data": {
      "image/png": "[encoded data removed]",
      "text/plain": [
       "<Figure size 432x288 with 1 Axes>"
      ]
     },
     "metadata": {},
     "output_type": "display_data"
    }
   ],
   "source": [
    "y = np.array([35,25,25,15])\n",
    "mylabels =['Manzanas','Banandas','Cerezas','Naranjas']\n",
    "\n",
    "plt.pie(y, labels =mylabels)\n",
    "plt.show()"
   ]
  },
  {
   "cell_type": "code",
   "execution_count": 152,
   "metadata": {},
   "outputs": [
    {
     "data": {
      "image/png": "[encoded data removed]",
      "text/plain": [
       "<Figure size 432x288 with 1 Axes>"
      ]
     },
     "metadata": {},
     "output_type": "display_data"
    }
   ],
   "source": [
    "y = np.array([35,25,25,15])\n",
    "mylabels =['Manzanas','Banandas','Cerezas','Naranjas']\n",
    "mycolors =['Green','Yellow','Red','Orange']\n",
    "\n",
    "plt.pie(y, labels =mylabels, colors=mycolors)\n",
    "plt.show()"
   ]
  },
  {
   "cell_type": "code",
   "execution_count": 154,
   "metadata": {},
   "outputs": [
    {
     "data": {
      "image/png": "[encoded data removed]",
      "text/plain": [
       "<Figure size 432x288 with 1 Axes>"
      ]
     },
     "metadata": {},
     "output_type": "display_data"
    }
   ],
   "source": [
    "y = np.array([35,25,25,15])\n",
    "mylabels =['Manzanas','Banandas','Cerezas','Naranjas']\n",
    "mycolors =['Green','Yellow','Red','Orange']\n",
    "myexplode =[0.2,0,0,0]\n",
    "plt.pie(y, labels =mylabels, colors=mycolors, explode =myexplode)\n",
    "plt.show()"
   ]
  },
  {
   "cell_type": "code",
   "execution_count": 155,
   "metadata": {},
   "outputs": [
    {
     "data": {
      "image/png": "[encoded data removed]",
      "text/plain": [
       "<Figure size 432x288 with 1 Axes>"
      ]
     },
     "metadata": {},
     "output_type": "display_data"
    }
   ],
   "source": [
    "y = np.array([35,25,25,15])\n",
    "mylabels =['Manzanas','Banandas','Cerezas','Naranjas']\n",
    "mycolors =['Green','Yellow','Red','Orange']\n",
    "myexplode =[0.2,0,0,0]\n",
    "plt.pie(y, labels =mylabels, colors=mycolors, explode =myexplode)\n",
    "plt.legend(title ='Leyenda')\n",
    "plt.show()"
   ]
  }
 ],
 "metadata": {
  "kernelspec": {
   "display_name": "Python 3",
   "language": "python",
   "name": "python3"
  },
  "language_info": {
   "codemirror_mode": {
    "name": "ipython",
    "version": 3
   },
   "file_extension": ".py",
   "mimetype": "text/x-python",
   "name": "python",
   "nbconvert_exporter": "python",
   "pygments_lexer": "ipython3",
   "version": "3.9.4"
  },
  "orig_nbformat": 4
 },
 "nbformat": 4,
 "nbformat_minor": 2
}
