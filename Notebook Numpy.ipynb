{
 "cells": [
  {
   "cell_type": "markdown",
   "metadata": {},
   "source": [
    "# Notebook Python"
   ]
  },
  {
   "cell_type": "markdown",
   "metadata": {},
   "source": [
    "Instalacion de pandas"
   ]
  },
  {
   "cell_type": "code",
   "execution_count": 5,
   "metadata": {},
   "outputs": [
    {
     "name": "stdout",
     "output_type": "stream",
     "text": [
      "Note: you may need to restart the kernel to use updated packages.Collecting pandas\n",
      "  Downloading pandas-2.0.3-cp39-cp39-win_amd64.whl (10.8 MB)\n",
      "Collecting pytz>=2020.1\n",
      "  Downloading pytz-2023.3-py2.py3-none-any.whl (502 kB)\n",
      "Requirement already satisfied: numpy>=1.20.3 in c:\\users\\cross\\appdata\\local\\programs\\python\\python39\\lib\\site-packages (from pandas) (1.21.0)\n",
      "Collecting tzdata>=2022.1\n",
      "  Downloading tzdata-2023.3-py2.py3-none-any.whl (341 kB)\n",
      "Collecting python-dateutil>=2.8.2\n",
      "  Downloading python_dateutil-2.8.2-py2.py3-none-any.whl (247 kB)\n",
      "\n",
      "Requirement already satisfied: six>=1.5 in c:\\users\\cross\\appdata\\local\\programs\\python\\python39\\lib\\site-packages (from python-dateutil>=2.8.2->pandas) (1.15.0)\n",
      "Installing collected packages: tzdata, pytz, python-dateutil, pandas\n",
      "  Attempting uninstall: python-dateutil\n",
      "    Found existing installation: python-dateutil 2.8.1\n",
      "    Uninstalling python-dateutil-2.8.1:\n",
      "      Successfully uninstalled python-dateutil-2.8.1\n",
      "Successfully installed pandas-2.0.3 python-dateutil-2.8.2 pytz-2023.3 tzdata-2023.3\n"
     ]
    },
    {
     "name": "stderr",
     "output_type": "stream",
     "text": [
      "WARNING: Value for scheme.headers does not match. Please report this to <https://github.com/pypa/pip/issues/9617>\n",
      "distutils: c:\\Users\\cross\\AppData\\Local\\Programs\\Python\\Python39\\Include\\UNKNOWN\n",
      "sysconfig: c:\\Users\\cross\\AppData\\Local\\Programs\\Python\\Python39\\Include\n",
      "WARNING: Additional context:\n",
      "user = False\n",
      "home = None\n",
      "root = None\n",
      "prefix = None\n",
      "WARNING: Value for scheme.headers does not match. Please report this to <https://github.com/pypa/pip/issues/9617>\n",
      "distutils: c:\\Users\\cross\\AppData\\Local\\Programs\\Python\\Python39\\Include\\UNKNOWN\n",
      "sysconfig: c:\\Users\\cross\\AppData\\Local\\Programs\\Python\\Python39\\Include\n",
      "WARNING: Additional context:\n",
      "user = False\n",
      "home = None\n",
      "root = None\n",
      "prefix = None\n",
      "WARNING: You are using pip version 21.1; however, version 23.1.2 is available.\n",
      "You should consider upgrading via the 'c:\\Users\\cross\\AppData\\Local\\Programs\\Python\\Python39\\python.exe -m pip install --upgrade pip' command.\n"
     ]
    }
   ],
   "source": [
    "pip install pandas"
   ]
  },
  {
   "cell_type": "markdown",
   "metadata": {},
   "source": [
    "#Instalacion numpy"
   ]
  },
  {
   "cell_type": "code",
   "execution_count": 6,
   "metadata": {},
   "outputs": [
    {
     "name": "stdout",
     "output_type": "stream",
     "text": [
      "Requirement already satisfied: numpy in c:\\users\\cross\\appdata\\local\\programs\\python\\python39\\lib\\site-packages (1.21.0)\n",
      "Note: you may need to restart the kernel to use updated packages.\n"
     ]
    },
    {
     "name": "stderr",
     "output_type": "stream",
     "text": [
      "WARNING: Value for scheme.headers does not match. Please report this to <https://github.com/pypa/pip/issues/9617>\n",
      "distutils: c:\\Users\\cross\\AppData\\Local\\Programs\\Python\\Python39\\Include\\UNKNOWN\n",
      "sysconfig: c:\\Users\\cross\\AppData\\Local\\Programs\\Python\\Python39\\Include\n",
      "WARNING: Additional context:\n",
      "user = False\n",
      "home = None\n",
      "root = None\n",
      "prefix = None\n",
      "WARNING: Value for scheme.headers does not match. Please report this to <https://github.com/pypa/pip/issues/9617>\n",
      "distutils: c:\\Users\\cross\\AppData\\Local\\Programs\\Python\\Python39\\Include\\UNKNOWN\n",
      "sysconfig: c:\\Users\\cross\\AppData\\Local\\Programs\\Python\\Python39\\Include\n",
      "WARNING: Additional context:\n",
      "user = False\n",
      "home = None\n",
      "root = None\n",
      "prefix = None\n",
      "WARNING: You are using pip version 21.1; however, version 23.1.2 is available.\n",
      "You should consider upgrading via the 'c:\\Users\\cross\\AppData\\Local\\Programs\\Python\\Python39\\python.exe -m pip install --upgrade pip' command.\n"
     ]
    }
   ],
   "source": [
    "pip install numpy\n"
   ]
  },
  {
   "cell_type": "markdown",
   "metadata": {},
   "source": [
    "#arreglos"
   ]
  },
  {
   "cell_type": "code",
   "execution_count": 8,
   "metadata": {},
   "outputs": [
    {
     "name": "stdout",
     "output_type": "stream",
     "text": [
      "[1 2 3]\n",
      "[4 5 6]\n"
     ]
    }
   ],
   "source": [
    "import numpy as np\n",
    "\n",
    "arreglo1= np.array([1,2,3]) #Son arreglos unidimensionales de 3 numeros o 3 caracteres\n",
    "\n",
    "print(arreglo1)\n",
    "\n",
    "arreglo2=np.array([4,5,6])\n",
    "\n",
    "print(arreglo2)\n",
    "\n"
   ]
  },
  {
   "cell_type": "code",
   "execution_count": 12,
   "metadata": {},
   "outputs": [
    {
     "name": "stdout",
     "output_type": "stream",
     "text": [
      "[[1 2 3]\n",
      " [4 5 6]]\n",
      "[[1 2 3]\n",
      " [4 5 6]\n",
      " [7 8 9]]\n"
     ]
    }
   ],
   "source": [
    "arreglo1= np.array(([1,2,3], [4,5,6])) #Se deben poner parentesis dobles cuando son 2 listas para arreglos\n",
    "\n",
    "print(arreglo1)\n",
    "\n",
    "arreglo2= np.array((([1,2,3], [4,5,6], [7,8,9])))\n",
    "\n",
    "print(arreglo2)"
   ]
  },
  {
   "cell_type": "code",
   "execution_count": 16,
   "metadata": {},
   "outputs": [
    {
     "name": "stdout",
     "output_type": "stream",
     "text": [
      "3\n",
      "[[[1 2 3 4 5 6]]]\n",
      "[[1 2 3 4 5 6]]\n",
      "[1 2 3 4 5 6]\n",
      "1\n"
     ]
    }
   ],
   "source": [
    "arr= np.array([1,2,3,4,5,6], ndmin= 3)#ndim es el numero de dimensiones\n",
    "\n",
    "print(arr.ndim)\n",
    "\n",
    "print(arr)\n",
    "print(arr[0])\n",
    "print(arr[0][0])\n",
    "print(arr[0][0][0])"
   ]
  },
  {
   "cell_type": "code",
   "execution_count": 18,
   "metadata": {},
   "outputs": [
    {
     "name": "stdout",
     "output_type": "stream",
     "text": [
      "[[0. 0.]\n",
      " [0. 0.]]\n"
     ]
    }
   ],
   "source": [
    "arr2= np.zeros((2,2)) #arreglo de ceros\n",
    "\n",
    "print(arr2)"
   ]
  },
  {
   "cell_type": "code",
   "execution_count": 19,
   "metadata": {},
   "outputs": [
    {
     "name": "stdout",
     "output_type": "stream",
     "text": [
      "[[1. 1. 1.]\n",
      " [1. 1. 1.]\n",
      " [1. 1. 1.]]\n"
     ]
    }
   ],
   "source": [
    "arr3=np.ones((3,3))\n",
    "\n",
    "print(arr3)"
   ]
  },
  {
   "cell_type": "code",
   "execution_count": 21,
   "metadata": {},
   "outputs": [
    {
     "name": "stdout",
     "output_type": "stream",
     "text": [
      "[[0.85337752 0.53409287 0.86391061]\n",
      " [0.13718428 0.79849633 0.53422294]\n",
      " [0.96028207 0.72471374 0.27009394]]\n"
     ]
    }
   ],
   "source": [
    "arr4=np.random.rand(3,3) #un arreglo entre valores numericos entre 0 y el 1\n",
    "\n",
    "print(arr4)"
   ]
  },
  {
   "cell_type": "markdown",
   "metadata": {},
   "source": [
    "#Operaciones"
   ]
  },
  {
   "cell_type": "code",
   "execution_count": 22,
   "metadata": {},
   "outputs": [
    {
     "name": "stdout",
     "output_type": "stream",
     "text": [
      "[5 7 9]\n"
     ]
    }
   ],
   "source": [
    "arr1= [1,2,3]\n",
    "\n",
    "arr2 = [4,5,6]\n",
    "\n",
    "arr3= np.add(arr1, arr2) #con la funcion \"add\" podemos sumar arreglos esta es la suma de los numeros de los dos arreglos\n",
    "\n",
    "print(arr3)"
   ]
  },
  {
   "cell_type": "code",
   "execution_count": 24,
   "metadata": {},
   "outputs": [
    {
     "name": "stdout",
     "output_type": "stream",
     "text": [
      "[3 3 3]\n"
     ]
    }
   ],
   "source": [
    "arr1= [1,2,3]\n",
    "\n",
    "arr2 = [4,5,6]\n",
    "\n",
    "arr3= np.subtract(arr2, arr1) #con la funcion \"subtract\" podemos restar arreglos esta es la suma de los numeros de los dos arreglos\n",
    "\n",
    "print(arr3)"
   ]
  },
  {
   "cell_type": "code",
   "execution_count": 25,
   "metadata": {},
   "outputs": [
    {
     "name": "stdout",
     "output_type": "stream",
     "text": [
      "[ 4 10 18]\n"
     ]
    }
   ],
   "source": [
    "arr1= [1,2,3]\n",
    "\n",
    "arr2 = [4,5,6]\n",
    "\n",
    "arr3= np.multiply(arr1, arr2) #con la funcion \"multiply\" podemos multiplicar arreglos esta es la suma de los numeros de los dos arreglos\n",
    "\n",
    "print(arr3)"
   ]
  },
  {
   "cell_type": "code",
   "execution_count": 26,
   "metadata": {},
   "outputs": [
    {
     "name": "stdout",
     "output_type": "stream",
     "text": [
      "[0.25 0.4  0.5 ]\n"
     ]
    }
   ],
   "source": [
    "arr1= [1,2,3]\n",
    "\n",
    "arr2 = [4,5,6]\n",
    "\n",
    "arr3= np.divide(arr1, arr2) #con la funcion \"divide\" podemos dividir arreglos esta es la suma de los numeros de los dos arreglos\n",
    "\n",
    "print(arr3)"
   ]
  },
  {
   "cell_type": "markdown",
   "metadata": {},
   "source": [
    "#Agregacion"
   ]
  },
  {
   "cell_type": "code",
   "execution_count": 28,
   "metadata": {},
   "outputs": [
    {
     "name": "stdout",
     "output_type": "stream",
     "text": [
      "5.333333333333333\n"
     ]
    }
   ],
   "source": [
    "arr= [1,6,9]\n",
    "\n",
    "media =  np.mean(arr)\n",
    "\n",
    "print(media)"
   ]
  },
  {
   "cell_type": "code",
   "execution_count": 29,
   "metadata": {},
   "outputs": [
    {
     "name": "stdout",
     "output_type": "stream",
     "text": [
      "6.0\n"
     ]
    }
   ],
   "source": [
    "arr= [1,6,9]\n",
    "\n",
    "mediana =  np.median(arr)\n",
    "\n",
    "print(mediana)"
   ]
  },
  {
   "cell_type": "code",
   "execution_count": 30,
   "metadata": {},
   "outputs": [
    {
     "name": "stdout",
     "output_type": "stream",
     "text": [
      "9\n"
     ]
    }
   ],
   "source": [
    "arr= [1,6,9]\n",
    "\n",
    "maximo =  np.max(arr)\n",
    "\n",
    "print(maximo)"
   ]
  },
  {
   "cell_type": "code",
   "execution_count": 31,
   "metadata": {},
   "outputs": [
    {
     "name": "stdout",
     "output_type": "stream",
     "text": [
      "1\n"
     ]
    }
   ],
   "source": [
    "arr= [1,6,9]\n",
    "\n",
    "minimo =  np.min(arr)\n",
    "\n",
    "print(minimo)"
   ]
  },
  {
   "cell_type": "markdown",
   "metadata": {},
   "source": [
    "#Indexacion"
   ]
  },
  {
   "cell_type": "code",
   "execution_count": 32,
   "metadata": {},
   "outputs": [
    {
     "name": "stdout",
     "output_type": "stream",
     "text": [
      "1\n"
     ]
    }
   ],
   "source": [
    "arr =np.array([1,2,3,4,5,6])\n",
    "\n",
    "print(arr[0])"
   ]
  },
  {
   "cell_type": "code",
   "execution_count": 33,
   "metadata": {},
   "outputs": [
    {
     "name": "stdout",
     "output_type": "stream",
     "text": [
      "6\n"
     ]
    }
   ],
   "source": [
    "arr =np.array([1,2,3,4,5,6])\n",
    "\n",
    "print(arr[-1])"
   ]
  },
  {
   "cell_type": "code",
   "execution_count": 34,
   "metadata": {},
   "outputs": [
    {
     "name": "stdout",
     "output_type": "stream",
     "text": [
      "6\n"
     ]
    }
   ],
   "source": [
    "arr =np.array(([1,2,3], [4,5,6]))\n",
    "\n",
    "print(arr[1, 2]) #Son coordenadas, es decir, del elemento 1 o sea el [4,5,6], el elemento 2 o sea el 6"
   ]
  },
  {
   "cell_type": "markdown",
   "metadata": {},
   "source": [
    "#Slicing o rangos"
   ]
  },
  {
   "cell_type": "code",
   "execution_count": 35,
   "metadata": {},
   "outputs": [
    {
     "name": "stdout",
     "output_type": "stream",
     "text": [
      "[2 3 4]\n"
     ]
    }
   ],
   "source": [
    "arr =np.array([1,2,3,4,5,6])\n",
    "\n",
    "print(arr[1:4]) #Recorre la lista, pero al llegar al 4 es no inclusivo es decir no imprime el 5"
   ]
  },
  {
   "cell_type": "code",
   "execution_count": 36,
   "metadata": {},
   "outputs": [
    {
     "name": "stdout",
     "output_type": "stream",
     "text": [
      "[2 4]\n"
     ]
    }
   ],
   "source": [
    "arr =np.array([1,2,3,4,5,6])\n",
    "\n",
    "print(arr[1:4:2]) #recorre la lista al elemento 4 pero de dos en dos"
   ]
  },
  {
   "cell_type": "code",
   "execution_count": 37,
   "metadata": {},
   "outputs": [
    {
     "name": "stdout",
     "output_type": "stream",
     "text": [
      "[1 3 5]\n"
     ]
    }
   ],
   "source": [
    "arr =np.array([1,2,3,4,5,6])\n",
    "\n",
    "print(arr[::2]) #recorre la lista pero en secuencia de numeros impares, que son de vacio a vacio."
   ]
  },
  {
   "cell_type": "markdown",
   "metadata": {},
   "source": [
    "Tipos de datos"
   ]
  },
  {
   "cell_type": "code",
   "execution_count": 42,
   "metadata": {},
   "outputs": [
    {
     "name": "stdout",
     "output_type": "stream",
     "text": [
      "<U1\n",
      "['b' 'a']\n",
      "int32\n",
      "[1 2 3 4]\n",
      "float64\n",
      "[5.4 3.1 2.  9.  9.9]\n"
     ]
    }
   ],
   "source": [
    "import numpy as np\n",
    "\n",
    "arr = np.array([\"b\", \"a\"]) #Este tipo es para ver el tipo de datos\n",
    "\n",
    "print(arr.dtype) #El dato es no numerico es string\n",
    "\n",
    "print(arr)\n",
    "\n",
    "arr2 = np.array([1,2,3,4])\n",
    "\n",
    "print(arr2.dtype) #Viene el dato tipo numero int32\n",
    "\n",
    "print(arr2)\n",
    "\n",
    "arr3 = np.array([5.4, 3.1, 2,9, 9.9])\n",
    "\n",
    "print(arr3.dtype) #Este tipo de dato es float64\n",
    "\n",
    "print(arr3)"
   ]
  },
  {
   "cell_type": "code",
   "execution_count": 43,
   "metadata": {},
   "outputs": [
    {
     "name": "stdout",
     "output_type": "stream",
     "text": [
      "[b'1' b'2' b'3']\n"
     ]
    }
   ],
   "source": [
    "arr =  np.array([1,2,3], dtype= \"S\")\n",
    "\n",
    "#'i' = integer(entero)\n",
    "#'b' = booleano\n",
    "#'f' = flotante\n",
    "#'M' = datetime\n",
    "#'O' = objeto\n",
    "#'S' = string (cadena)\n",
    "\n",
    "print(arr)"
   ]
  },
  {
   "cell_type": "code",
   "execution_count": 44,
   "metadata": {},
   "outputs": [
    {
     "name": "stdout",
     "output_type": "stream",
     "text": [
      "pre [1.1 2.1 3.1]\n",
      "post [1 2 3]\n"
     ]
    }
   ],
   "source": [
    "arr = np.array([1.1, 2.1, 3.1])\n",
    "\n",
    "print(\"pre\", arr)\n",
    "\n",
    "nuevo_arr =  arr.astype('i') #astype a traves de las claves del codigo de arriba nos tranforma los datos a otro tipo de dato en este caso \n",
    "                             # la letra \"i\" corresponde a entero, y los pasa de flotante a entero\n",
    "\n",
    "print(\"post\", nuevo_arr)"
   ]
  },
  {
   "cell_type": "markdown",
   "metadata": {},
   "source": [
    "Copy vs View"
   ]
  },
  {
   "cell_type": "code",
   "execution_count": 45,
   "metadata": {},
   "outputs": [
    {
     "name": "stdout",
     "output_type": "stream",
     "text": [
      "arr [1 2 3]\n",
      "x [1 2 3]\n",
      "y [1 2 3]\n",
      "arr [0 2 3]\n",
      "x [1 2 3]\n",
      "y [0 2 3]\n"
     ]
    }
   ],
   "source": [
    "arr = np.array([1,2,3])\n",
    "\n",
    "x= arr.copy() #Hace copia del arreglo\n",
    "\n",
    "y= arr.view() #Hace vista o visualizacion del arreglo\n",
    "\n",
    "\n",
    "print(\"arr\", arr)\n",
    "print(\"x\", x)\n",
    "print(\"y\", y)\n",
    "\n",
    "arr[0] = 0\n",
    "\n",
    "print(\"arr\", arr)\n",
    "print(\"x\", x)\n",
    "print(\"y\", y)\n",
    "#Por esta razon el arreglo \"y\" en la segunda parte es 0,2,3 porque se modifico el arreglo original y el arreglo x se mantiene porque es una copia\n",
    "#del primero.\n",
    "\n"
   ]
  },
  {
   "cell_type": "markdown",
   "metadata": {},
   "source": [
    "#Concatenar"
   ]
  },
  {
   "cell_type": "code",
   "execution_count": 47,
   "metadata": {},
   "outputs": [
    {
     "name": "stdout",
     "output_type": "stream",
     "text": [
      "arr1 [1 2 3]\n",
      "arr2 [4 5 6]\n",
      "arr3 [1 2 3 4 5 6]\n"
     ]
    }
   ],
   "source": [
    "arr1 = np.array([1,2,3])\n",
    "\n",
    "print(\"arr1\", arr1)\n",
    "\n",
    "arr2 = np.array([4,5,6])\n",
    "\n",
    "print(\"arr2\", arr2)\n",
    "\n",
    "arr3 = np.concatenate((arr1, arr2)) #Concatena los arreglos, es decir los une\n",
    "\n",
    "print(\"arr3\", arr3)"
   ]
  },
  {
   "cell_type": "markdown",
   "metadata": {},
   "source": [
    "busqueda"
   ]
  },
  {
   "cell_type": "code",
   "execution_count": 48,
   "metadata": {},
   "outputs": [
    {
     "name": "stdout",
     "output_type": "stream",
     "text": [
      "(array([4, 5], dtype=int64),)\n"
     ]
    }
   ],
   "source": [
    "arr = np.array([1,2,2,4,5,5,4])\n",
    "\n",
    "x =  np.where(arr==5) #busca el numero que estemos buscando o el indice que busquemos\n",
    "                      #nos devuelve el indice del numero, en este caso hay dos 5 entonces nos devuelve 4,5 que es donde se posiciona el numero 5\n",
    "\n",
    "print(x)"
   ]
  },
  {
   "cell_type": "markdown",
   "metadata": {},
   "source": [
    "ordenar"
   ]
  },
  {
   "cell_type": "code",
   "execution_count": 49,
   "metadata": {},
   "outputs": [
    {
     "name": "stdout",
     "output_type": "stream",
     "text": [
      "[1 2 3 4 5 6]\n"
     ]
    }
   ],
   "source": [
    "arr =  np.array([2,5,6,4,1,3])\n",
    "\n",
    "x = np.sort(arr) #Esta funcion se parece a la funcion de python que es ordenar de menor a mayor\n",
    "\n",
    "print(x)"
   ]
  },
  {
   "cell_type": "markdown",
   "metadata": {},
   "source": []
  }
 ],
 "metadata": {
  "kernelspec": {
   "display_name": "Python 3",
   "language": "python",
   "name": "python3"
  },
  "language_info": {
   "codemirror_mode": {
    "name": "ipython",
    "version": 3
   },
   "file_extension": ".py",
   "mimetype": "text/x-python",
   "name": "python",
   "nbconvert_exporter": "python",
   "pygments_lexer": "ipython3",
   "version": "3.9.4"
  },
  "orig_nbformat": 4
 },
 "nbformat": 4,
 "nbformat_minor": 2
}
